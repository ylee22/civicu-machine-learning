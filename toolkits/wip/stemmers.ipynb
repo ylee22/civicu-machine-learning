{
 "cells": [
  {
   "cell_type": "code",
   "execution_count": 17,
   "metadata": {
    "collapsed": false
   },
   "outputs": [],
   "source": [
    "from porter import stem as port\n",
    "from lovins import stem as lov\n",
    "sentence = 'Is there anything harder than finding roots with a stemmer of trees in bunches of'\n",
    "sentence += ' ugly duckling geese, goslings, goose, chicken, swimming swan words?'\n",
    "\n",
    "def stem_all(text, stemmer=port):\n",
    "    return ' '.join(stemmer(w) for w in text.split())\n",
    "\n"
   ]
  },
  {
   "cell_type": "code",
   "execution_count": 18,
   "metadata": {
    "collapsed": false
   },
   "outputs": [],
   "source": [
    "text = sentence\n",
    "stemmer = port\n",
    "g = (w for w in text.split())\n"
   ]
  },
  {
   "cell_type": "code",
   "execution_count": 19,
   "metadata": {
    "collapsed": false
   },
   "outputs": [
    {
     "data": {
      "text/plain": [
       "['Is',\n",
       " 'there',\n",
       " 'anything',\n",
       " 'harder',\n",
       " 'than',\n",
       " 'finding',\n",
       " 'roots',\n",
       " 'with',\n",
       " 'a',\n",
       " 'stemmer',\n",
       " 'of',\n",
       " 'trees',\n",
       " 'in',\n",
       " 'bunches',\n",
       " 'of',\n",
       " 'ugly',\n",
       " 'duckling',\n",
       " 'geese,',\n",
       " 'goslings,',\n",
       " 'goose,',\n",
       " 'chicken,',\n",
       " 'swimming',\n",
       " 'swan',\n",
       " 'words?']"
      ]
     },
     "execution_count": 19,
     "metadata": {},
     "output_type": "execute_result"
    }
   ],
   "source": [
    "list(g)\n"
   ]
  },
  {
   "cell_type": "code",
   "execution_count": 16,
   "metadata": {
    "collapsed": false
   },
   "outputs": [
    {
     "data": {
      "text/plain": [
       "'Is there anything harder than finding roots with a stemmer of trees in bunches of ugly duckling geese, goslings, goose, chicken, swimming swan words?'"
      ]
     },
     "execution_count": 16,
     "metadata": {},
     "output_type": "execute_result"
    }
   ],
   "source": [
    "sentence"
   ]
  },
  {
   "cell_type": "code",
   "execution_count": 17,
   "metadata": {
    "collapsed": false
   },
   "outputs": [
    {
     "data": {
      "text/plain": [
       "['Is',\n",
       " 'there',\n",
       " 'anything',\n",
       " 'harder',\n",
       " 'than',\n",
       " 'finding',\n",
       " 'roots',\n",
       " 'with',\n",
       " 'a',\n",
       " 'stemmer',\n",
       " 'of',\n",
       " 'trees',\n",
       " 'in',\n",
       " 'bunches',\n",
       " 'of',\n",
       " 'ugly',\n",
       " 'duckling',\n",
       " 'geese,',\n",
       " 'goslings,',\n",
       " 'goose,',\n",
       " 'chicken,',\n",
       " 'swimming',\n",
       " 'swan',\n",
       " 'words?']"
      ]
     },
     "execution_count": 17,
     "metadata": {},
     "output_type": "execute_result"
    }
   ],
   "source": [
    "sentence.split()"
   ]
  },
  {
   "cell_type": "code",
   "execution_count": 18,
   "metadata": {
    "collapsed": false
   },
   "outputs": [
    {
     "name": "stdout",
     "output_type": "stream",
     "text": [
      "Is\n",
      "there\n",
      "anything\n",
      "harder\n",
      "than\n",
      "finding\n",
      "roots\n",
      "with\n",
      "a\n",
      "stemmer\n",
      "of\n",
      "trees\n",
      "in\n",
      "bunches\n",
      "of\n",
      "ugly\n",
      "duckling\n",
      "geese,\n",
      "goslings,\n",
      "goose,\n",
      "chicken,\n",
      "swimming\n",
      "swan\n",
      "words?\n"
     ]
    }
   ],
   "source": [
    "for word in sentence.split():\n",
    "    print word"
   ]
  },
  {
   "cell_type": "code",
   "execution_count": 13,
   "metadata": {
    "collapsed": false
   },
   "outputs": [
    {
     "data": {
      "text/plain": [
       "'Is ther anyth harder than find root with a stemmer of tree in bunch of ugl duckl geese, goslings, goose, chicken, swim swan words?'"
      ]
     },
     "execution_count": 13,
     "metadata": {},
     "output_type": "execute_result"
    }
   ],
   "source": [
    "stem_all(sentence, stemmer=lov)\n"
   ]
  },
  {
   "cell_type": "code",
   "execution_count": 5,
   "metadata": {
    "collapsed": false
   },
   "outputs": [
    {
     "data": {
      "text/plain": [
       "['Is',\n",
       " 'there',\n",
       " 'anyth',\n",
       " 'harder',\n",
       " 'than',\n",
       " 'find',\n",
       " 'root',\n",
       " 'with',\n",
       " 'a',\n",
       " 'stemmer',\n",
       " 'of',\n",
       " 'tree',\n",
       " 'in',\n",
       " 'bunch',\n",
       " 'of',\n",
       " 'ugli',\n",
       " 'duckl',\n",
       " 'gees',\n",
       " 'gosl',\n",
       " 'goos',\n",
       " 'chicken',\n",
       " 'swimm',\n",
       " 'swan',\n",
       " 'word']"
      ]
     },
     "execution_count": 5,
     "metadata": {},
     "output_type": "execute_result"
    }
   ],
   "source": [
    "from collections import Counter\n",
    "g = (stemmer(w) for w in text.split())\n",
    "words = list(g)\n",
    "words = [stemmer(w.strip(\",?!.'\")) for w in text.split()]\n",
    "words"
   ]
  },
  {
   "cell_type": "code",
   "execution_count": 31,
   "metadata": {
    "collapsed": false
   },
   "outputs": [
    {
     "data": {
      "text/plain": [
       "Counter({'Is': 2,\n",
       "         'a': 2,\n",
       "         'anyth': 2,\n",
       "         'bunch': 2,\n",
       "         'chicken,': 2,\n",
       "         'duckl': 2,\n",
       "         'find': 2,\n",
       "         'geese,': 2,\n",
       "         'goose,': 2,\n",
       "         'goslings,': 2,\n",
       "         'harder': 2,\n",
       "         'in': 2,\n",
       "         'of': 4,\n",
       "         'root': 2,\n",
       "         'stemmer': 2,\n",
       "         'swan': 2,\n",
       "         'swimm': 2,\n",
       "         'than': 2,\n",
       "         'there': 2,\n",
       "         'tree': 2,\n",
       "         'ugli': 2,\n",
       "         'with': 2,\n",
       "         'words?': 2})"
      ]
     },
     "execution_count": 31,
     "metadata": {},
     "output_type": "execute_result"
    }
   ],
   "source": [
    "count = Counter(words)\n",
    "count + Counter(words)"
   ]
  },
  {
   "cell_type": "code",
   "execution_count": 33,
   "metadata": {
    "collapsed": false
   },
   "outputs": [
    {
     "data": {
      "text/plain": [
       "[('Is', 'Is'),\n",
       " ('there', 'there'),\n",
       " ('anyth', 'anyth'),\n",
       " ('harder', 'harder'),\n",
       " ('than', 'than'),\n",
       " ('find', 'find'),\n",
       " ('root', 'root'),\n",
       " ('with', 'with'),\n",
       " ('a', 'a'),\n",
       " ('stemmer', 'stemmer'),\n",
       " ('of', 'of'),\n",
       " ('tree', 'tree'),\n",
       " ('in', 'in'),\n",
       " ('bunch', 'bunch'),\n",
       " ('of', 'of'),\n",
       " ('ugli', 'ugli'),\n",
       " ('duckl', 'duckl'),\n",
       " ('geese,', 'geese,'),\n",
       " ('goslings,', 'goslings,'),\n",
       " ('goose,', 'goose,'),\n",
       " ('chicken,', 'chicken,'),\n",
       " ('swimm', 'swimm'),\n",
       " ('swan', 'swan'),\n",
       " ('words?', 'words?')]"
      ]
     },
     "execution_count": 33,
     "metadata": {},
     "output_type": "execute_result"
    }
   ],
   "source": [
    "zip(words, words)"
   ]
  },
  {
   "cell_type": "code",
   "execution_count": 39,
   "metadata": {
    "collapsed": false
   },
   "outputs": [
    {
     "data": {
      "text/plain": [
       "{'Is': 'there',\n",
       " 'a': 'stemmer',\n",
       " 'anyth': 'harder',\n",
       " 'bunch': 'of',\n",
       " 'chicken,': 'swimm',\n",
       " 'duckl': 'geese,',\n",
       " 'find': 'root',\n",
       " 'geese,': 'goslings,',\n",
       " 'goose,': 'chicken,',\n",
       " 'goslings,': 'goose,',\n",
       " 'harder': 'than',\n",
       " 'in': 'bunch',\n",
       " 'of': 'ugli',\n",
       " 'root': 'with',\n",
       " 'stemmer': 'of',\n",
       " 'swan': 'words?',\n",
       " 'swimm': 'swan',\n",
       " 'than': 'find',\n",
       " 'there': 'anyth',\n",
       " 'tree': 'in',\n",
       " 'ugli': 'duckl',\n",
       " 'with': 'a'}"
      ]
     },
     "execution_count": 39,
     "metadata": {},
     "output_type": "execute_result"
    }
   ],
   "source": [
    "dict(zip(words, words[1:]))"
   ]
  },
  {
   "cell_type": "code",
   "execution_count": 7,
   "metadata": {
    "collapsed": false
   },
   "outputs": [],
   "source": [
    "from collections import defaultdict\n",
    "defaultdict?"
   ]
  },
  {
   "cell_type": "code",
   "execution_count": 8,
   "metadata": {
    "collapsed": false
   },
   "outputs": [
    {
     "data": {
      "text/plain": [
       "defaultdict(list,\n",
       "            {'Is': ['there'],\n",
       "             'a': ['stemmer'],\n",
       "             'anyth': ['harder'],\n",
       "             'bunch': ['of'],\n",
       "             'chicken': ['swimm'],\n",
       "             'duckl': ['gees'],\n",
       "             'find': ['root'],\n",
       "             'gees': ['gosl'],\n",
       "             'goos': ['chicken'],\n",
       "             'gosl': ['goos'],\n",
       "             'harder': ['than'],\n",
       "             'in': ['bunch'],\n",
       "             'of': ['tree', 'ugli'],\n",
       "             'root': ['with'],\n",
       "             'stemmer': ['of'],\n",
       "             'swan': ['word'],\n",
       "             'swimm': ['swan'],\n",
       "             'than': ['find'],\n",
       "             'there': ['anyth'],\n",
       "             'tree': ['in'],\n",
       "             'ugli': ['duckl'],\n",
       "             'with': ['a']})"
      ]
     },
     "execution_count": 8,
     "metadata": {},
     "output_type": "execute_result"
    }
   ],
   "source": [
    "d = defaultdict(list)\n",
    "for pair in zip(words, words[1:]):\n",
    "    # print(pair)\n",
    "    # print(d[pair[0]])\n",
    "    d[pair[0]] = d[pair[0]] + [pair[1]]\n",
    "\n",
    "\n",
    "d\n"
   ]
  },
  {
   "cell_type": "code",
   "execution_count": 15,
   "metadata": {
    "collapsed": false
   },
   "outputs": [
    {
     "name": "stdout",
     "output_type": "stream",
     "text": [
      "['gosl']\n",
      "[]\n",
      "gosl\n",
      "['goos']\n",
      "['gosl']\n",
      "goos\n",
      "['chicken']\n",
      "['gosl', 'goos']\n",
      "chicken\n",
      "['swimm']\n",
      "['gosl', 'goos', 'chicken']\n",
      "swimm\n",
      "['swan']\n",
      "['gosl', 'goos', 'chicken', 'swimm']\n",
      "swan\n",
      "['word']\n",
      "['gosl', 'goos', 'chicken', 'swimm', 'swan']\n",
      "word\n"
     ]
    },
    {
     "data": {
      "text/plain": [
       "'gosl goos chicken swimm swan word'"
      ]
     },
     "execution_count": 15,
     "metadata": {},
     "output_type": "execute_result"
    }
   ],
   "source": [
    "word = 'gees'\n",
    "sentence = []\n",
    "while word:\n",
    "    word =  d[word]\n",
    "    if word:\n",
    "        sentence += [word[0]]\n",
    "        word = word[0]\n",
    "' '.join(sentence)\n",
    "    "
   ]
  }
 ],
 "metadata": {
  "kernelspec": {
   "display_name": "Python 2",
   "language": "python",
   "name": "python2"
  },
  "language_info": {
   "codemirror_mode": {
    "name": "ipython",
    "version": 2
   },
   "file_extension": ".py",
   "mimetype": "text/x-python",
   "name": "python",
   "nbconvert_exporter": "python",
   "pygments_lexer": "ipython2",
   "version": "2.7.10"
  }
 },
 "nbformat": 4,
 "nbformat_minor": 0
}
