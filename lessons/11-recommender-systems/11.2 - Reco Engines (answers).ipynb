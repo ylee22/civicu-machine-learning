{
 "cells": [
  {
   "cell_type": "markdown",
   "metadata": {},
   "source": [
    "# Recommendation Systems\n",
    "\n",
    "\n",
    "\n",
    "\n",
    "### Okay, so what is it?\n",
    "\n",
    "\"A classification system that looks at LOTS of transactional data and comes up tailored recommendations for a specific user -- where recommendations are relevant to the user's preferences\"\n",
    "\n",
    "\n",
    "### Goal of this mini-session:\n",
    "- Build a minimal recommendation engine\n",
    "- Know key terms associated with buildinga reco engine\n",
    "- Know the common problems that a reco engine works to solve\n",
    "- Create a starting point for learning about Recommendation systems\n",
    "\n",
    "\n",
    "# Key Concepts\n",
    "- Item: What's being recommended. \n",
    "    - Examples\n",
    "        - Songs\n",
    "        - Movie\n",
    "        - Service\n",
    "- User: A person who rates items and receives recommendations for new items.\n",
    "    - The population of interested\n",
    "- Rating: Some sort of associated preference of an item by a user. \n",
    "    - Examples:\n",
    "        - 1 - 5\n",
    "        - like / Dislike\n",
    "\n",
    "Approaches\n",
    "- Content-Based Filtering: Two parts, 1. A history of your item preferences. 2. An attributes table of all items. \n",
    "- Collaborative Filtering: Ask people who are similar to you what you like\n",
    "- Hybrid Filtering: Many ways of combining content and collaborative filtering\n",
    "\n",
    "Evaluation\n",
    "- Root Mean Squared Error: \"you can usually expect 68% of the y values to be within one r.m.s. error, and 95% to be within two r.m.s. errors of the predicted values. These approximations assume that the data set is football-shape\"\n",
    "    - [Review](http://statweb.stanford.edu/~susan/courses/s60/split/node60.html)\n",
    "\n",
    "\n",
    "Distance Measures:\n",
    "- Euclidian\n",
    "$$ sim(x,y) = \\frac{1}{1 + \\sqrt{\\sum (x - y)^2}}$$\n",
    "- Cosine\n",
    "$$ sim(x,y) = \\frac{(x . y)}{\\sqrt{(x . x) (y . y)}} $$\n",
    "\n",
    "\n",
    "<center>\n",
    "**Cosine vs Euclidian**\n",
    "![title](http://semanticvoid.com/images/cosine_similarity.png)\n",
    "When to use each? One is based on angles, another is based on length. The difference is in magnitude (euclidean) versus direction (cosine).\n"
   ]
  },
  {
   "cell_type": "markdown",
   "metadata": {},
   "source": [
    "\n",
    "# Today's Datasets\n",
    "1. Movie Lens [Description](https://grouplens.org/datasets/movielens/)\n",
    "\n",
    "Stable benchmark dataset. 100,000 ratings from 1000 users on 1700 movies. Released 4/1998.\n",
    "\n",
    "\n",
    "2. Jester [Download](http://eigentaste.berkeley.edu/dataset/) [Joke Tool](http://eigentaste.berkeley.edu/index.html)\n",
    "\n",
    "    - Data files are in .zip format, when unzipped, they are in Excel (.xls) format\n",
    "    - Ratings are real values ranging from -10.00 to +10.00 (the value \"99\" corresponds to \"null\" = \"not rated\").\n",
    "    - One row per user.The first column gives the number of jokes rated by that user. The next 100 columns give the ratings for jokes 01 - 100.\n",
    "    - The sub-matrix including only columns {5, 7, 8, 13, 15, 16, 17, 18, 19, 20} is dense. Almost all users have rated those jokes (see discussion of \"universal queries\" in the above paper).\n",
    "    \n",
    "# Part 1: Reading the data\n",
    "- Only a subset!"
   ]
  },
  {
   "cell_type": "code",
   "execution_count": 33,
   "metadata": {},
   "outputs": [
    {
     "name": "stderr",
     "output_type": "stream",
     "text": [
      "C:\\Users\\Cglan\\AppData\\Local\\Continuum\\Anaconda3\\lib\\site-packages\\ipykernel\\__main__.py:9: ParserWarning: Falling back to the 'python' engine because the 'c' engine does not support regex separators (separators > 1 char and different from '\\s+' are interpreted as regex); you can avoid this warning by specifying engine='python'.\n"
     ]
    }
   ],
   "source": [
    "import pandas as pd\n",
    "import numpy as np\n",
    "from sklearn.model_selection import train_test_split\n",
    "\n",
    "movielens_train = pd.read_csv('data/movielens_train.csv', index_col=0,encoding='latin-1')\n",
    "movielens_test = pd.read_csv('data/movielens_test.csv', index_col=0,encoding='latin-1')\n",
    "users = pd.read_table('data/users.dat',\n",
    "                      sep='::', header=None,\n",
    "                      names=['user_id', 'gender', 'age', 'occupation', 'zip'])\n"
   ]
  },
  {
   "cell_type": "code",
   "execution_count": 9,
   "metadata": {
    "collapsed": true
   },
   "outputs": [],
   "source": [
    "# Group data exploration"
   ]
  },
  {
   "cell_type": "markdown",
   "metadata": {},
   "source": [
    "## Part 2a: Evaluation"
   ]
  },
  {
   "cell_type": "code",
   "execution_count": 34,
   "metadata": {
    "collapsed": true
   },
   "outputs": [],
   "source": [
    "def compute_rmse(y_pred, y_true):\n",
    "    \"\"\" Compute Root Mean Squared Error. \"\"\"\n",
    "    return np.sqrt(np.mean(np.power(y_pred - y_true, 2)))"
   ]
  },
  {
   "cell_type": "code",
   "execution_count": 35,
   "metadata": {
    "collapsed": true
   },
   "outputs": [],
   "source": [
    "movielens_test = movielens_test.iloc[1:10,:]"
   ]
  },
  {
   "cell_type": "code",
   "execution_count": 36,
   "metadata": {
    "collapsed": true
   },
   "outputs": [],
   "source": [
    "def score_reco(estimate_f):\n",
    "    \"\"\" RMSE-based predictive performance evaluation with pandas. \"\"\"\n",
    "    ids_to_estimate = zip(movielens_test.user_id, movielens_test.movie_id)\n",
    "    estimated = np.array([estimate_f(u,i) for (u,i) in ids_to_estimate])\n",
    "    real = movielens_test.rating.values\n",
    "    return compute_rmse(estimated, real)"
   ]
  },
  {
   "cell_type": "markdown",
   "metadata": {},
   "source": [
    "## Part 2b: Similarity Functions:\n",
    "To get you started, here are two similarity measures. The  higher the value, the more similar.\n",
    "\n"
   ]
  },
  {
   "cell_type": "code",
   "execution_count": 12,
   "metadata": {
    "collapsed": true
   },
   "outputs": [],
   "source": [
    "def euclidean(s1, s2):\n",
    "    \"\"\"Take two pd.Series objects and return their euclidean 'similarity'.\"\"\"\n",
    "    diff = s1 - s2\n",
    "    return 1 / (1 + np.sqrt(np.sum(diff ** 2)))\n",
    "\n",
    "def cosine(s1, s2):\n",
    "    \"\"\"Take two pd.Series objects and return their cosine similarity.\"\"\"\n",
    "    return np.sum(s1 * s2) / np.sqrt(np.sum(s1 ** 2) * np.sum(s2 ** 2))\n",
    "\n",
    "#pearson\n",
    "#jaccard\n",
    "#binjaccard\n"
   ]
  },
  {
   "cell_type": "markdown",
   "metadata": {},
   "source": [
    "## Part 3: Recommendation Systems\n",
    "\n",
    "\n",
    "### Always Recommend a 3"
   ]
  },
  {
   "cell_type": "code",
   "execution_count": 37,
   "metadata": {
    "collapsed": true
   },
   "outputs": [],
   "source": [
    "def always3(user_id, movie_id):\n",
    "    return 3.0"
   ]
  },
  {
   "cell_type": "code",
   "execution_count": 38,
   "metadata": {},
   "outputs": [
    {
     "name": "stdout",
     "output_type": "stream",
     "text": [
      "RMSE for my estimate function: 1.20185042515\n"
     ]
    }
   ],
   "source": [
    "print('RMSE for my estimate function: %s' % score_reco(always3))"
   ]
  },
  {
   "cell_type": "markdown",
   "metadata": {},
   "source": [
    "### Average Movie score"
   ]
  },
  {
   "cell_type": "code",
   "execution_count": 99,
   "metadata": {
    "collapsed": true
   },
   "outputs": [],
   "source": [
    "# write a movie mean test\n",
    "\n",
    "def movie_mean(user_id, movie_id):\n",
    "    movies = movielens_train[movielens_train.movie_id == movie_id]\n",
    "    if len(movies) == 0:\n",
    "        return 3\n",
    "    else:\n",
    "        return movies.rating.mean()"
   ]
  },
  {
   "cell_type": "code",
   "execution_count": 98,
   "metadata": {},
   "outputs": [
    {
     "data": {
      "text/plain": [
       "0.92624522083554384"
      ]
     },
     "execution_count": 98,
     "metadata": {},
     "output_type": "execute_result"
    }
   ],
   "source": [
    "score_reco(movie_mean)"
   ]
  },
  {
   "cell_type": "markdown",
   "metadata": {},
   "source": [
    "### Collaborative Filtering: "
   ]
  },
  {
   "cell_type": "code",
   "execution_count": 100,
   "metadata": {
    "collapsed": true
   },
   "outputs": [],
   "source": [
    "class collabo_group(object):\n",
    "    \n",
    "    def __init__(self,input):\n",
    "        self.group = input\n",
    "        \n",
    "    def learn(self):\n",
    "        self.means_by_group = movielens_train.pivot_table('rating', index='movie_id', columns=self.group)          \n",
    "        \n",
    "    def estimate(self, user_id, movie_id):\n",
    "        \n",
    "        if movie_id not in self.means_by_group.index: \n",
    "            return 3.0\n",
    "        \n",
    "        user_group = users.ix[user_id, self.group]\n",
    "        if ~np.isnan(self.means_by_group.ix[movie_id, user_group]):\n",
    "            return self.means_by_group.ix[movie_id, user_group]\n",
    "        else:\n",
    "            return self.means_by_group.ix[movie_id].mean()"
   ]
  },
  {
   "cell_type": "code",
   "execution_count": 101,
   "metadata": {},
   "outputs": [
    {
     "name": "stdout",
     "output_type": "stream",
     "text": [
      "RMSE for gen: 0.996908802496\n"
     ]
    }
   ],
   "source": [
    "collabo_age = collabo_group('age')\n",
    "collabo_age.learn()\n",
    "print('RMSE for gen: %s' % score_reco(collabo_age.estimate))"
   ]
  },
  {
   "cell_type": "code",
   "execution_count": 102,
   "metadata": {},
   "outputs": [
    {
     "name": "stdout",
     "output_type": "stream",
     "text": [
      "RMSE for gen: 1.05883991959\n"
     ]
    }
   ],
   "source": [
    "collabo_gen = collabo_group('gender')\n",
    "collabo_gen.learn()\n",
    "print('RMSE for gen: %s' % score_reco(collabo_gen.estimate))"
   ]
  },
  {
   "cell_type": "code",
   "execution_count": 108,
   "metadata": {
    "collapsed": true
   },
   "outputs": [],
   "source": [
    "class CollaboCustom:\n",
    "    \"\"\" Collaborative filtering using a custom sim(u,u'). \"\"\"\n",
    "\n",
    "    def learn(self):\n",
    "        \"\"\" Prepare datastructures for estimation. \"\"\"\n",
    "        \n",
    "        self.all_user_profiles = movielens_train.pivot_table('rating', index='movie_id', columns='user_id')\n",
    "\n",
    "    def euclidean(self):\n",
    "        self.func = euclidean\n",
    "\n",
    "    def cosine(self):\n",
    "        self.func = cosine\n",
    "\n",
    "    def estimate(self, user_id, movie_id):\n",
    "        \"\"\" Ratings weighted by correlation similarity. \"\"\"\n",
    "        \n",
    "        user_condition = movielens_train.user_id != user_id\n",
    "        movie_condition = movielens_train.movie_id == movie_id\n",
    "        \n",
    "        ratings_by_others = movielens_train.loc[user_condition & movie_condition]\n",
    "        \n",
    "        if ratings_by_others.empty: \n",
    "            return 3.0\n",
    "        \n",
    "        ratings_by_others.set_index('user_id', inplace=True)\n",
    "        \n",
    "        their_ids = ratings_by_others.index\n",
    "        their_ratings = ratings_by_others.rating\n",
    "        their_profiles = self.all_user_profiles[their_ids]\n",
    "        user_profile = self.all_user_profiles[user_id]\n",
    "        \n",
    "        sims = their_profiles.apply(lambda profile: self.func(profile, user_profile), axis=0)\n",
    "        \n",
    "        ratings_sims = pd.DataFrame({'sim': sims, 'rating': their_ratings})\n",
    "        ratings_sims = ratings_sims[ratings_sims.sim > 0]\n",
    "        \n",
    "        if ratings_sims.empty:\n",
    "            return their_ratings.mean()\n",
    "        else:\n",
    "            return np.average(ratings_sims.rating, weights=ratings_sims.sim)"
   ]
  },
  {
   "cell_type": "code",
   "execution_count": 110,
   "metadata": {
    "scrolled": true
   },
   "outputs": [
    {
     "name": "stdout",
     "output_type": "stream",
     "text": [
      "RMSE for CollaboCustom: 0.926245220836\n"
     ]
    }
   ],
   "source": [
    "reco_cus = CollaboCustom()\n",
    "reco_cus.learn()\n",
    "reco_cus.cosine()\n",
    "print('RMSE for CollaboCustom: %s' % score_reco(reco_cus.estimate))"
   ]
  },
  {
   "cell_type": "markdown",
   "metadata": {},
   "source": [
    "# Homework:\n",
    "- Either download the larger version of movie lens or jester datasets and create an content-based filter. Remember, a content based filter is simply using a user's own history of items. We look at the item's attributes and predict based off of that.\n",
    "\n",
    "- Now try to combine content and collaborative filtering techniques.\n",
    "\n",
    "- Are there any extensions that you can think of? Think of some of the techniques that we've used in past classes. Can these supervised or unsupervised methods be used in combination with what we've learned today?"
   ]
  },
  {
   "cell_type": "markdown",
   "metadata": {},
   "source": [
    "\n",
    "### Additional resources + inspiration for this session:\n",
    "- [Datasets](http://shuaizhang.tech/2017/03/15/Datasets-For-Recommender-System/)\n",
    "- [Pandora’s Music Recommender](https://courses.cs.washington.edu/courses/csep521/07wi/prj/michael.pdf)\n",
    "- [Text Book](http://www.springer.com/gp/book/9780387858203#aboutBook)\n",
    "- [3 hour Tutorial](https://www.youtube.com/watch?v=F6gWjOc1FUs)\n",
    "- [4 Hour Tutorial](https://www.slideshare.net/xamat/recommender-systems-machine-learning-summer-school-2014-cmu)\n"
   ]
  }
 ],
 "metadata": {
  "kernelspec": {
   "display_name": "Python 3",
   "language": "python",
   "name": "python3"
  },
  "language_info": {
   "codemirror_mode": {
    "name": "ipython",
    "version": 3
   },
   "file_extension": ".py",
   "mimetype": "text/x-python",
   "name": "python",
   "nbconvert_exporter": "python",
   "pygments_lexer": "ipython3",
   "version": "3.6.0"
  }
 },
 "nbformat": 4,
 "nbformat_minor": 1
}
