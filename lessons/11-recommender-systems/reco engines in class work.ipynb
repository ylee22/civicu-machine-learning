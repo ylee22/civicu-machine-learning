{
 "cells": [
  {
   "cell_type": "code",
   "execution_count": 3,
   "metadata": {},
   "outputs": [
    {
     "name": "stderr",
     "output_type": "stream",
     "text": [
      "/Users/leey/anaconda3/lib/python3.6/site-packages/ipykernel_launcher.py:9: ParserWarning: Falling back to the 'python' engine because the 'c' engine does not support regex separators (separators > 1 char and different from '\\s+' are interpreted as regex); you can avoid this warning by specifying engine='python'.\n",
      "  if __name__ == '__main__':\n"
     ]
    }
   ],
   "source": [
    "import pandas as pd\n",
    "import numpy as np\n",
    "from sklearn.model_selection import train_test_split\n",
    "\n",
    "movielens_train = pd.read_csv('data/movielens_train.csv', index_col=0,encoding='latin-1')\n",
    "movielens_test = pd.read_csv('data/movielens_test.csv', index_col=0,encoding='latin-1')\n",
    "users = pd.read_table('data/users.dat',\n",
    "                      sep='::', header=None,\n",
    "                      names=['user_id', 'gender', 'age', 'occupation', 'zip'])\n",
    "\n"
   ]
  },
  {
   "cell_type": "code",
   "execution_count": 2,
   "metadata": {},
   "outputs": [
    {
     "name": "stdout",
     "output_type": "stream",
     "text": [
      "Index(['user_id', 'movie_id', 'rating', 'timestamp', 'gender', 'age',\n",
      "       'occupation', 'zip', 'title', 'genres', 'for_testing'],\n",
      "      dtype='object')\n",
      "(2668, 11)\n"
     ]
    }
   ],
   "source": [
    "print(movielens_test.columns)\n",
    "print(movielens_test.shape)"
   ]
  },
  {
   "cell_type": "code",
   "execution_count": 3,
   "metadata": {
    "collapsed": true
   },
   "outputs": [],
   "source": [
    "def rmse(pred_y, true_y):\n",
    "    \"\"\"root mean squared error\"\"\"\n",
    "    return np.sqrt(np.mean(np.power(pred_y - true_y, 2)))"
   ]
  },
  {
   "cell_type": "code",
   "execution_count": 4,
   "metadata": {
    "collapsed": true
   },
   "outputs": [],
   "source": [
    "def score_eval(pred_func):\n",
    "    \"\"\"function to evaluate the prediction function\"\"\"\n",
    "    # user id and movie id\n",
    "    user_movie = zip(movielens_test.user_id, movielens_test.movie_id)\n",
    "    # for each user, apply the prediction function\n",
    "    pred_score = np.array([pred_func(u, i) for u, i in user_movie])\n",
    "    true_score = movielens_test.rating\n",
    "    # return the prediction error\n",
    "    return rmse(pred_score, true_score)"
   ]
  },
  {
   "cell_type": "code",
   "execution_count": 5,
   "metadata": {
    "collapsed": true
   },
   "outputs": [],
   "source": [
    "def euclidean(s1, s2):\n",
    "    \"\"\"calculate euclidean distance for two series\"\"\"\n",
    "    return 1/(1 + np.sqrt(np.sum(np.power(s1 - s2, 2))))"
   ]
  },
  {
   "cell_type": "code",
   "execution_count": 63,
   "metadata": {
    "collapsed": true
   },
   "outputs": [],
   "source": [
    "def cosine(s1, s2):\n",
    "    \"\"\"calculate cosine similarity for two series\"\"\"\n",
    "    return np.sum(s1 * s2) / np.sqrt(np.sum(s1 ** 2) * np.sum(s2 ** 2))"
   ]
  },
  {
   "cell_type": "code",
   "execution_count": 187,
   "metadata": {},
   "outputs": [],
   "source": [
    "from collections import defaultdict\n",
    "\n",
    "# content based filter:\n",
    "# 0. convert genres into categories\n",
    "# 1. keep log of user's history\n",
    "# 2. search user's history to make rating\n",
    "\n",
    "def make_user_log(movie_df):\n",
    "    # dictionary with user keys and np arrays of movie id and ratings\n",
    "    user_id = set(movielens_test.user_id)\n",
    "    user_dict = dict.fromkeys(user_id)\n",
    "    movie_genre = pd.get_dummies(movielens_test.genres).reset_index(drop=True)\n",
    "    for key in user_dict.keys():\n",
    "        idx = movielens_test.user_id == key\n",
    "        movie_id_rating = movielens_test[idx][['movie_id', 'rating']].reset_index(drop=True)\n",
    "        temp = movie_genre[idx.values.reshape(-1,1)]\n",
    "        user_dict[key] = pd.concat([movie_id_rating, temp], axis=1)\n",
    "    return user_dict\n",
    "    \n",
    "def search_user_log(user_dict, user):\n",
    "    return user_dict[user]"
   ]
  },
  {
   "cell_type": "code",
   "execution_count": 192,
   "metadata": {},
   "outputs": [
    {
     "data": {
      "text/html": [
       "<div>\n",
       "<style>\n",
       "    .dataframe thead tr:only-child th {\n",
       "        text-align: right;\n",
       "    }\n",
       "\n",
       "    .dataframe thead th {\n",
       "        text-align: left;\n",
       "    }\n",
       "\n",
       "    .dataframe tbody tr th {\n",
       "        vertical-align: top;\n",
       "    }\n",
       "</style>\n",
       "<table border=\"1\" class=\"dataframe\">\n",
       "  <thead>\n",
       "    <tr style=\"text-align: right;\">\n",
       "      <th></th>\n",
       "      <th>Action</th>\n",
       "      <th>Action|Adventure</th>\n",
       "      <th>Action|Adventure|Animation|Horror|Sci-Fi</th>\n",
       "      <th>Action|Adventure|Children's|Comedy</th>\n",
       "      <th>Action|Adventure|Children's|Fantasy</th>\n",
       "      <th>Action|Adventure|Comedy</th>\n",
       "      <th>Action|Adventure|Comedy|Crime</th>\n",
       "      <th>Action|Adventure|Comedy|Horror</th>\n",
       "      <th>Action|Adventure|Comedy|Horror|Sci-Fi</th>\n",
       "      <th>Action|Adventure|Comedy|Romance</th>\n",
       "      <th>...</th>\n",
       "      <th>Mystery|Thriller</th>\n",
       "      <th>Romance</th>\n",
       "      <th>Romance|Thriller</th>\n",
       "      <th>Sci-Fi</th>\n",
       "      <th>Sci-Fi|Thriller</th>\n",
       "      <th>Sci-Fi|Thriller|War</th>\n",
       "      <th>Sci-Fi|War</th>\n",
       "      <th>Thriller</th>\n",
       "      <th>War</th>\n",
       "      <th>Western</th>\n",
       "    </tr>\n",
       "  </thead>\n",
       "  <tbody>\n",
       "    <tr>\n",
       "      <th>1009</th>\n",
       "      <td>0</td>\n",
       "      <td>0</td>\n",
       "      <td>0</td>\n",
       "      <td>0</td>\n",
       "      <td>0</td>\n",
       "      <td>0</td>\n",
       "      <td>0</td>\n",
       "      <td>0</td>\n",
       "      <td>0</td>\n",
       "      <td>0</td>\n",
       "      <td>...</td>\n",
       "      <td>0</td>\n",
       "      <td>0</td>\n",
       "      <td>0</td>\n",
       "      <td>0</td>\n",
       "      <td>0</td>\n",
       "      <td>0</td>\n",
       "      <td>0</td>\n",
       "      <td>0</td>\n",
       "      <td>0</td>\n",
       "      <td>0</td>\n",
       "    </tr>\n",
       "  </tbody>\n",
       "</table>\n",
       "<p>1 rows × 241 columns</p>\n",
       "</div>"
      ],
      "text/plain": [
       "      Action  Action|Adventure  Action|Adventure|Animation|Horror|Sci-Fi  \\\n",
       "1009       0                 0                                         0   \n",
       "\n",
       "      Action|Adventure|Children's|Comedy  Action|Adventure|Children's|Fantasy  \\\n",
       "1009                                   0                                    0   \n",
       "\n",
       "      Action|Adventure|Comedy  Action|Adventure|Comedy|Crime  \\\n",
       "1009                        0                              0   \n",
       "\n",
       "      Action|Adventure|Comedy|Horror  Action|Adventure|Comedy|Horror|Sci-Fi  \\\n",
       "1009                               0                                      0   \n",
       "\n",
       "      Action|Adventure|Comedy|Romance   ...     Mystery|Thriller  Romance  \\\n",
       "1009                                0   ...                    0        0   \n",
       "\n",
       "      Romance|Thriller  Sci-Fi  Sci-Fi|Thriller  Sci-Fi|Thriller|War  \\\n",
       "1009                 0       0                0                    0   \n",
       "\n",
       "      Sci-Fi|War  Thriller  War  Western  \n",
       "1009           0         0    0        0  \n",
       "\n",
       "[1 rows x 241 columns]"
      ]
     },
     "execution_count": 192,
     "metadata": {},
     "output_type": "execute_result"
    }
   ],
   "source": [
    "# users = movielens_test['user_id'].iloc[:10].reset_index(drop=True)\n",
    "# movie_rating = movielens_test[['movie_id', 'rating']].iloc[:10].reset_index(drop=True)\n",
    "\n",
    "test = movielens_test.iloc[:10]\n",
    "\n",
    "# user_id = set(users)\n",
    "# user_dict = dict.fromkeys(user_id\n",
    "movie_genre = pd.get_dummies(movielens_test.genres).reset_index(drop=True)\n",
    "idx = movielens_test.user_id == 5\n",
    "movie_genre[idx.values.reshape(-1,1)]\n",
    "# movie_genre = pd.get_dummies(test.genres)\n",
    "# make_user_log(test)"
   ]
  },
  {
   "cell_type": "code",
   "execution_count": 89,
   "metadata": {},
   "outputs": [
    {
     "data": {
      "text/plain": [
       "0    1.0\n",
       "1    0.0\n",
       "2    0.0\n",
       "3    0.0\n",
       "4    0.0\n",
       "dtype: float64"
      ]
     },
     "execution_count": 89,
     "metadata": {},
     "output_type": "execute_result"
    }
   ],
   "source": [
    "s = x.iloc[0, 3:]\n",
    "y = x.iloc[0:5,3:].T\n",
    "y.apply(lambda x: cosine(x, s), axis=0)\n",
    "# cosine(x.iloc[0,3:], x.iloc[0, 3:])"
   ]
  },
  {
   "cell_type": "code",
   "execution_count": 189,
   "metadata": {
    "collapsed": true
   },
   "outputs": [],
   "source": [
    "class ContentCustom:\n",
    "    \"\"\" Content filtering. \"\"\"\n",
    "    def __init__(self, movie_df, curr_user):\n",
    "        \"\"\" Prepare datastructures for estimation. \"\"\"\n",
    "        \n",
    "        self.all_user_profiles = make_user_log(movie_df)\n",
    "        self.curr_user_profile = search_user_log(self.all_user_profiles, curr_user)\n",
    "\n",
    "    def euclidean(self):\n",
    "        self.func = euclidean\n",
    "\n",
    "    def cosine(self):\n",
    "        self.func = cosine\n",
    "\n",
    "    def estimate(self, pred_movie):\n",
    "        \"\"\" Ratings weighted by correlation similarity. \"\"\"\n",
    "        \n",
    "        # find the closest movie the user has rated before\n",
    "        hist_movie = self.curr_user_profile.iloc[:, 3:].T\n",
    "        sims = hist_movie.apply(lambda x: self.func(x, pred_movie), axis=0)\n",
    "        \n",
    "        ratings_sims = pd.DataFrame({'sim': sims, 'rating': self.cur_user_profile.rating})\n",
    "        ratings_sims = ratings_sims[ratings_sims.sim == ratings_sims.sim.max(axis=0)]\n",
    "        \n",
    "        if ratings_sims.empty:\n",
    "            return 2.5\n",
    "        else:\n",
    "            return ratings_sims.rating"
   ]
  },
  {
   "cell_type": "code",
   "execution_count": 191,
   "metadata": {},
   "outputs": [
    {
     "data": {
      "text/plain": [
       "<bound method ContentCustom.cosine of <__main__.ContentCustom object at 0x1c7deaa90>>"
      ]
     },
     "execution_count": 191,
     "metadata": {},
     "output_type": "execute_result"
    }
   ],
   "source": [
    "content_filtering = ContentCustom(movielens_test, 5042)\n",
    "content_filtering.cosine\n",
    "content_filtering.estimate()"
   ]
  }
 ],
 "metadata": {
  "kernelspec": {
   "display_name": "Python 3",
   "language": "python",
   "name": "python3"
  },
  "language_info": {
   "codemirror_mode": {
    "name": "ipython",
    "version": 3
   },
   "file_extension": ".py",
   "mimetype": "text/x-python",
   "name": "python",
   "nbconvert_exporter": "python",
   "pygments_lexer": "ipython3",
   "version": "3.6.1"
  }
 },
 "nbformat": 4,
 "nbformat_minor": 2
}
