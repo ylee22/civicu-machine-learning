{
 "metadata": {
  "name": "",
  "signature": "sha256:a5083ebfd11e0bdbab099e351a22c08483e4aff78a033e383b723fbb70417872"
 },
 "nbformat": 3,
 "nbformat_minor": 0,
 "worksheets": [
  {
   "cells": [
    {
     "cell_type": "heading",
     "level": 1,
     "metadata": {},
     "source": [
      "Ensemble Learning Workbook"
     ]
    },
    {
     "cell_type": "code",
     "collapsed": false,
     "input": [
      "%pylab inline\n",
      "import numpy as np\n",
      "import sklearn as sk"
     ],
     "language": "python",
     "metadata": {},
     "outputs": [
      {
       "output_type": "stream",
       "stream": "stdout",
       "text": [
        "Populating the interactive namespace from numpy and matplotlib\n"
       ]
      },
      {
       "output_type": "stream",
       "stream": "stderr",
       "text": [
        "/usr/local/lib/python2.7/site-packages/matplotlib/font_manager.py:273: UserWarning: Matplotlib is building the font cache using fc-list. This may take a moment.\n",
        "  warnings.warn('Matplotlib is building the font cache using fc-list. This may take a moment.')\n"
       ]
      }
     ],
     "prompt_number": 1
    },
    {
     "cell_type": "code",
     "collapsed": false,
     "input": [
      "\"\"\" Import digits dataset. \"\"\"\n",
      "# http://scikit-learn.org/stable/auto_examples/datasets/plot_digits_last_image.html\n",
      "from sklearn.datasets import load_digits\n",
      "digits = load_digits()"
     ],
     "language": "python",
     "metadata": {},
     "outputs": [],
     "prompt_number": 2
    },
    {
     "cell_type": "code",
     "collapsed": false,
     "input": [
      "def convert_features_used_to_image_locations(features_used, clf):\n",
      "    features_used_as_image = np.zeros(64)\n",
      "    for f in features_used:\n",
      "        features_used_as_image[f] += 1\n",
      "    features_used_as_image = features_used_as_image.reshape((8,8))\n",
      "    locations_of_decision_points = np.argwhere(features_used_as_image > 0)\n",
      "    return [features_used_as_image, locations_of_decision_points]\n"
     ],
     "language": "python",
     "metadata": {},
     "outputs": [],
     "prompt_number": 3
    },
    {
     "cell_type": "code",
     "collapsed": false,
     "input": [
      "def plot_decision_points_on_image(ax, features_used_as_image, locations_of_decision_points):\n",
      "    [ax.plot(x,y,'r*', ms=15*features_used_as_image[x,y]) for [x,y] in locations_of_decision_points]"
     ],
     "language": "python",
     "metadata": {},
     "outputs": []
    },
    {
     "cell_type": "markdown",
     "metadata": {},
     "source": [
      "# Random Forests\n",
      "\n",
      "Generally speaking, a random forest is an ensmble learner where the weak learners are decision trees.\n",
      "\n",
      "Original paper on decision trees:  [Ho, 1995](http://ieeexplore.ieee.org/xpl/login.jsp?arnumber=598994) ([pdf](ftp://cm.bell-labs.com/who/tkh/papers/odt.pdf))\n",
      "\n",
      "Python's scikit-learn includes most of what we discussed pre-made in its [ensemble](http://scikit-learn.org/stable/modules/classes.html#module-sklearn.ensemble) library.\n",
      "\n",
      "Classes to run [Boosting (via AdaBoost)](http://scikit-learn.org/stable/modules/generated/sklearn.ensemble.AdaBoostClassifier.html#sklearn.ensemble.AdaBoostClassifier) and [Bagging](http://scikit-learn.org/stable/modules/generated/sklearn.ensemble.BaggingClassifier.html#sklearn.ensemble.BaggingClassifier) on arbitrary classifiers are given.\n",
      "However, we will be focusing particularly on a few of the random forest functions given in that sklearn library.\n"
     ]
    },
    {
     "cell_type": "markdown",
     "metadata": {},
     "source": [
      "### Bagging"
     ]
    },
    {
     "cell_type": "code",
     "collapsed": false,
     "input": [
      "\"\"\" Random forests made of bagged decision trees. \"\"\"\n",
      "# http://scikit-learn.org/stable/modules/ensemble.html#forests-of-randomized-trees\n",
      "\n",
      "from sklearn.ensemble import RandomForestClassifier\n",
      "clf = RandomForestClassifier(n_estimators=10, max_depth=2, n_jobs=-1)\n",
      "clf = clf.fit(digits.data, digits.target)\n",
      "score = clf.score(digits.data, digits.target)"
     ],
     "language": "python",
     "metadata": {},
     "outputs": [],
     "prompt_number": 14
    },
    {
     "cell_type": "code",
     "collapsed": false,
     "input": [
      "\"\"\" Pull out decision boundaries from all contained trees. \"\"\"\n",
      "features_used_as_image = np.zeros((8,8))\n",
      "locations_of_decision_points = []\n",
      "\n",
      "for est in clf.estimators_:  #for each weak learner\n",
      "    features_used_in_this_tree = [f for f in est.tree_.feature if f != -2]\n",
      "    [features_used_as_image_in_this_tree, locations_of_decision_points_in_this_tree] = \\\n",
      "        convert_features_used_to_image_locations(features_used_in_this_tree, est)\n",
      "    features_used_as_image += features_used_as_image_in_this_tree\n",
      "    locations_of_decision_points += list(locations_of_decision_points_in_this_tree)\n",
      "\n",
      "locations_of_decision_points = list(set([tuple(c) for c in locations_of_decision_points]))\n",
      "print locations_of_decision_points"
     ],
     "language": "python",
     "metadata": {},
     "outputs": [
      {
       "output_type": "stream",
       "stream": "stdout",
       "text": [
        "[(1, 2), (5, 4), (4, 6), (6, 6), (4, 1), (4, 4), (5, 2), (3, 2), (0, 2), (7, 4), (1, 5), (7, 5), (2, 3), (3, 6), (4, 3), (2, 5), (3, 4), (2, 4), (6, 5)]\n"
       ]
      }
     ],
     "prompt_number": 15
    },
    {
     "cell_type": "code",
     "collapsed": false,
     "input": [
      "\"\"\" Plot 3 random digits, with decision boundaries labeled using ensemble learner. \"\"\"\n",
      "\n",
      "N = len(digits.data)\n",
      "samples_to_show = np.random.randint(0,N,3)\n",
      "f, (ax1, ax2, ax3) = plt.subplots(nrows=1, ncols=3)\n",
      "f.set_figwidth(14)\n",
      "ax1.set_title(digits.target[samples_to_show[0]])\n",
      "ax1.matshow(digits.images[samples_to_show[0]], cmap=cm.gray_r)\n",
      "plot_decision_points_on_image(ax1, features_used_as_image, locations_of_decision_points)\n",
      "\n",
      "ax2.set_title(digits.target[samples_to_show[1]])\n",
      "ax2.matshow(digits.images[samples_to_show[1]], cmap=cm.gray_r)\n",
      "plot_decision_points_on_image(ax2, features_used_as_image, locations_of_decision_points)\n",
      "\n",
      "ax3.set_title(digits.target[samples_to_show[2]])\n",
      "ax3.matshow(digits.images[samples_to_show[2]], cmap=cm.gray_r)\n",
      "plot_decision_points_on_image(ax3, features_used_as_image, locations_of_decision_points)"
     ],
     "language": "python",
     "metadata": {},
     "outputs": [
      {
       "metadata": {},
       "output_type": "display_data",
       "png": "[encoded data removed]",
       "text": [
        "<matplotlib.figure.Figure at 0x7fba28ac81d0>"
       ]
      }
     ],
     "prompt_number": 16
    },
    {
     "cell_type": "markdown",
     "metadata": {},
     "source": [
      "### Boosting"
     ]
    },
    {
     "cell_type": "code",
     "collapsed": false,
     "input": [
      "\"\"\" Boosing \"\"\"\n",
      "# http://scikit-learn.org/stable/modules/ensemble.html#gradient-tree-boosting\n",
      "from sklearn.ensemble import GradientBoostingClassifier\n",
      "\n",
      "scores = []\n",
      "list_of_n_estimators = range(1,25)\n",
      "for n in list_of_n_estimators: # for n_estimators in [1:15]\n",
      "    temp_scores = []\n",
      "    for i in range(5):  # repeat this 5 times\n",
      "        clf = GradientBoostingClassifier(n_estimators=n, learning_rate=0.9,\n",
      "            max_depth=2, random_state=0, max_features=3).fit(digits.data, digits.target)\n",
      "        score = clf.score(digits.data, digits.target)\n",
      "        temp_scores.append(score)\n",
      "    avg_score = float(sum(temp_scores))/len(temp_scores)\n",
      "    scores.append(avg_score)\n",
      "    print n, avg_score\n",
      "    \n",
      "\n",
      "plot(list_of_n_estimators, scores)\n",
      "xlabel(\"n_estimators\")\n",
      "ylabel(\"score\")\n",
      "title(\"AdaBoost variant of Random Forest\")\n",
      "\n",
      "# Regarding learning rate:  http://scikit-learn.org/stable/modules/ensemble.html#gradient-boosting-shrinkage\n"
     ],
     "language": "python",
     "metadata": {},
     "outputs": [
      {
       "output_type": "stream",
       "stream": "stdout",
       "text": [
        "1 0.409571508069\n",
        "2"
       ]
      },
      {
       "output_type": "stream",
       "stream": "stdout",
       "text": [
        " 0.554257095159\n",
        "3"
       ]
      },
      {
       "output_type": "stream",
       "stream": "stdout",
       "text": [
        " 0.662771285476\n",
        "4"
       ]
      },
      {
       "output_type": "stream",
       "stream": "stdout",
       "text": [
        " 0.794657762938\n",
        "5"
       ]
      },
      {
       "output_type": "stream",
       "stream": "stdout",
       "text": [
        " 0.827490261547\n",
        "6"
       ]
      },
      {
       "output_type": "stream",
       "stream": "stdout",
       "text": [
        " 0.864774624374\n",
        "7"
       ]
      },
      {
       "output_type": "stream",
       "stream": "stdout",
       "text": [
        " 0.877017250974\n",
        "8"
       ]
      },
      {
       "output_type": "stream",
       "stream": "stdout",
       "text": [
        " 0.903171953255\n",
        "9"
       ]
      },
      {
       "output_type": "stream",
       "stream": "stdout",
       "text": [
        " 0.918196994992\n",
        "10"
       ]
      },
      {
       "output_type": "stream",
       "stream": "stdout",
       "text": [
        " 0.937673900946\n",
        "11"
       ]
      },
      {
       "output_type": "stream",
       "stream": "stdout",
       "text": [
        " 0.942682248191\n",
        "12"
       ]
      },
      {
       "output_type": "stream",
       "stream": "stdout",
       "text": [
        " 0.954368391764\n",
        "13"
       ]
      },
      {
       "output_type": "stream",
       "stream": "stdout",
       "text": [
        " 0.9632721202\n",
        "14"
       ]
      },
      {
       "output_type": "stream",
       "stream": "stdout",
       "text": [
        " 0.968836950473\n",
        "15"
       ]
      },
      {
       "output_type": "stream",
       "stream": "stdout",
       "text": [
        " 0.973288814691\n",
        "16"
       ]
      },
      {
       "output_type": "stream",
       "stream": "stdout",
       "text": [
        " 0.962159154146\n",
        "17"
       ]
      },
      {
       "output_type": "stream",
       "stream": "stdout",
       "text": [
        " 0.950473010573\n",
        "18"
       ]
      },
      {
       "output_type": "stream",
       "stream": "stdout",
       "text": [
        " 0.942682248191\n",
        "19"
       ]
      },
      {
       "output_type": "stream",
       "stream": "stdout",
       "text": [
        " 0.920422927101\n",
        "20"
       ]
      },
      {
       "output_type": "stream",
       "stream": "stdout",
       "text": [
        " 0.890929326656\n",
        "21"
       ]
      },
      {
       "output_type": "stream",
       "stream": "stdout",
       "text": [
        " 0.818030050083\n",
        "22"
       ]
      },
      {
       "output_type": "stream",
       "stream": "stdout",
       "text": [
        " 0.837506956038\n",
        "23"
       ]
      },
      {
       "output_type": "stream",
       "stream": "stdout",
       "text": [
        " 0.824707846411\n",
        "24"
       ]
      },
      {
       "output_type": "stream",
       "stream": "stdout",
       "text": [
        " 0.813578185865\n"
       ]
      },
      {
       "metadata": {},
       "output_type": "pyout",
       "prompt_number": 17,
       "text": [
        "<matplotlib.text.Text at 0x7fba28bc3990>"
       ]
      },
      {
       "metadata": {},
       "output_type": "display_data",
       "png": "[encoded data removed]",
       "text": [
        "<matplotlib.figure.Figure at 0x7fba26b5ccd0>"
       ]
      }
     ],
     "prompt_number": 17
    },
    {
     "cell_type": "markdown",
     "metadata": {},
     "source": [
      "sklearn on selecting the number of boosting iterations using [out-of-bag estimates](# regarding selection of number of iterations: \n",
      "http://scikit-learn.org/stable/auto_examples/ensemble/plot_gradient_boosting_oob.html#example-ensemble-plot-gradient-boosting-oob-py)"
     ]
    },
    {
     "cell_type": "code",
     "collapsed": false,
     "input": [
      "# Challenge: Add the time it takes to train and test a learner to the previous \"n_estimators vs score\" graph\n",
      "# Play with the 'max features' in a similar way.  (i.e., look for a good value for it)\n",
      "# What are the parameters of the best GradientBoostingClassifier you can make? \n",
      "#   (and did you split your data into train and test sets?)"
     ],
     "language": "python",
     "metadata": {},
     "outputs": [],
     "prompt_number": 18
    },
    {
     "cell_type": "code",
     "collapsed": false,
     "input": [
      "# Graph the effect the number of estimators has on performance where n_estimators is in [1,50]"
     ],
     "language": "python",
     "metadata": {},
     "outputs": [],
     "prompt_number": 19
    },
    {
     "cell_type": "code",
     "collapsed": false,
     "input": [
      "# Explore the relation between n_estimators and learning_rate"
     ],
     "language": "python",
     "metadata": {},
     "outputs": [],
     "prompt_number": 20
    },
    {
     "cell_type": "code",
     "collapsed": false,
     "input": [
      "# Pick a good set of paramters (n_estimators, learning_rate, max_depth)"
     ],
     "language": "python",
     "metadata": {},
     "outputs": [],
     "prompt_number": 21
    },
    {
     "cell_type": "markdown",
     "metadata": {},
     "source": [
      "## Other Variants and Final Challenges:"
     ]
    },
    {
     "cell_type": "code",
     "collapsed": false,
     "input": [
      "# As in Ho 1995, add processed features and re-train a learner of your choice."
     ],
     "language": "python",
     "metadata": {},
     "outputs": [],
     "prompt_number": 22
    },
    {
     "cell_type": "code",
     "collapsed": false,
     "input": [
      "# Train/test split.  (careful so all classes are represented in both data sets)"
     ],
     "language": "python",
     "metadata": {},
     "outputs": [],
     "prompt_number": 23
    },
    {
     "cell_type": "code",
     "collapsed": false,
     "input": [
      "\"\"\" Very random trees.  (even the decisions are random)\"\"\"\n",
      "# http://scikit-learn.org/stable/modules/ensemble.html#extremely-randomized-trees\n",
      "# Get ExtraTreesClassifier working on digits dataset.  Pick some good parameters"
     ],
     "language": "python",
     "metadata": {},
     "outputs": [
      {
       "metadata": {},
       "output_type": "pyout",
       "prompt_number": 24,
       "text": [
        "' Very random trees.  (even the decisions are random)'"
       ]
      }
     ],
     "prompt_number": 24
    },
    {
     "cell_type": "code",
     "collapsed": false,
     "input": [
      "# Compare performance of ExtraTreesClassifier to RandomForestClassifier"
     ],
     "language": "python",
     "metadata": {},
     "outputs": [],
     "prompt_number": 25
    },
    {
     "cell_type": "code",
     "collapsed": false,
     "input": [
      "\"\"\" Play with AdaBoost or Bagging objects directly \"\"\"\n",
      "# if you aren't already, switch over to using the AdaBoost or Bagging Classifiers given in sklearn.ensemble to create a forest.\n",
      "# Then use this framework to drop in a different classifier as a weak learner and compare your new predictor to your old random forest"
     ],
     "language": "python",
     "metadata": {},
     "outputs": [
      {
       "metadata": {},
       "output_type": "pyout",
       "prompt_number": 27,
       "text": [
        "' Play with AdaBoost or Bagging objects directly '"
       ]
      }
     ],
     "prompt_number": 27
    },
    {
     "cell_type": "markdown",
     "metadata": {},
     "source": [
      "## Other Datasets:\n",
      "* \"the\" MNIST [handwritten digits dataset](http://yann.lecun.com/exdb/mnist/)\n",
      "* [Housing Prices](http://www.cs.toronto.edu/~delve/data/census-house/desc.html)"
     ]
    }
   ],
   "metadata": {}
  }
 ]
}