{
 "cells": [
  {
   "cell_type": "code",
   "execution_count": 1,
   "metadata": {
    "collapsed": true
   },
   "outputs": [],
   "source": [
    "import pandas as pd\n",
    "import numpy as np"
   ]
  },
  {
   "cell_type": "code",
   "execution_count": 2,
   "metadata": {
    "collapsed": true
   },
   "outputs": [],
   "source": [
    "def entropy(p, base=2):\n",
    "    \"\"\" Calculate the entropy for a given probability or proportion \n",
    "    \n",
    "    There's half a bit of entropy of information in an event wtih 50% probability:\n",
    "    >>> entropy(.5, base=2)\n",
    "    0.5\n",
    "    \n",
    "    There's more than 1/2 bit (shannon) in a 40% event. Why?\n",
    "    >>> entropy(.4, base=2)\n",
    "    0.52877123795494496\n",
    "    \"\"\"\n",
    "    p = np.array(p)\n",
    "    p[(p <= 0) | (p > 1)] = 1.\n",
    "    return np.sum(-p * np.log(p) / np.log(base))"
   ]
  },
  {
   "cell_type": "code",
   "execution_count": 24,
   "metadata": {
    "collapsed": true
   },
   "outputs": [],
   "source": [
    "def value_entropy(values):\n",
    "    values = np.array(values)\n",
    "    unique_values, counts = np.unique(values, return_counts=True)\n",
    "    freqs = counts.astype('float') / len(values)\n",
    "    return entropy(freqs)"
   ]
  },
  {
   "cell_type": "code",
   "execution_count": 27,
   "metadata": {},
   "outputs": [
    {
     "data": {
      "text/plain": [
       "0.0"
      ]
     },
     "execution_count": 27,
     "metadata": {},
     "output_type": "execute_result"
    }
   ],
   "source": [
    "# 6 No's \n",
    "value_entropy([0, 0, 0, 0, 0, 0])"
   ]
  },
  {
   "cell_type": "code",
   "execution_count": 25,
   "metadata": {},
   "outputs": [
    {
     "data": {
      "text/plain": [
       "0.96123660472287598"
      ]
     },
     "execution_count": 25,
     "metadata": {},
     "output_type": "execute_result"
    }
   ],
   "source": [
    "p = [1, 0, 0, 0, 1, 0, 0, 0, 0, 1, 1, 0, 1]\n",
    "value_entropy(p)"
   ]
  }
 ],
 "metadata": {
  "kernelspec": {
   "display_name": "Python 3",
   "language": "python",
   "name": "python3"
  },
  "language_info": {
   "codemirror_mode": {
    "name": "ipython",
    "version": 3
   },
   "file_extension": ".py",
   "mimetype": "text/x-python",
   "name": "python",
   "nbconvert_exporter": "python",
   "pygments_lexer": "ipython3",
   "version": "3.6.1"
  }
 },
 "nbformat": 4,
 "nbformat_minor": 2
}
