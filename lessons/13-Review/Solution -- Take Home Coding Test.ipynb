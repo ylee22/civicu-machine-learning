{
 "cells": [
  {
   "cell_type": "markdown",
   "metadata": {},
   "source": [
    "## Interview \"Takehome\" Coding Test\n",
    "\n",
    "### Problem(s)\n",
    "\n",
    "1. find and download 1000 (or more) images of handwritten digits and correct labels for each (0 - 9)\n",
    "2. create a dataframe containing the image pixels for each image in a single row (vector) of integers or floats\n",
    "3. use SVD (PCA) algoirthms in Scikit-Learn (or any package) to reduce the dimensions of those vectors below 13-D\n",
    "4. cluster those vectors with a raw python function or script (using any algorithm you are familiar with, or one of your own design). Do **NOT** use sklearn or any other package not included in python (besides numpy and pandas) for this.\n",
    "5. use your cluster IDs to assign digit labels to each of the 1000 vectors (images). You **should** use the correct labels that you downloaded to make this assignment. But you should **NOT** use any machine learning model. Like #4 this should be a pure-python exercise. \n",
    "\n",
    "\n"
   ]
  },
  {
   "cell_type": "markdown",
   "metadata": {},
   "source": [
    "### Solution 1"
   ]
  },
  {
   "cell_type": "code",
   "execution_count": 1,
   "metadata": {},
   "outputs": [
    {
     "name": "stdout",
     "output_type": "stream",
     "text": [
      "Requirement already satisfied: requests in /home/hobs/.virtualenvs/civicu/lib/python3.5/site-packages\r\n",
      "Requirement already satisfied: chardet<3.1.0,>=3.0.2 in /home/hobs/.virtualenvs/civicu/lib/python3.5/site-packages (from requests)\r\n",
      "Requirement already satisfied: urllib3<1.23,>=1.21.1 in /home/hobs/.virtualenvs/civicu/lib/python3.5/site-packages (from requests)\r\n",
      "Requirement already satisfied: idna<2.7,>=2.5 in /home/hobs/.virtualenvs/civicu/lib/python3.5/site-packages (from requests)\r\n",
      "Requirement already satisfied: certifi>=2017.4.17 in /home/hobs/.virtualenvs/civicu/lib/python3.5/site-packages (from requests)\r\n"
     ]
    }
   ],
   "source": [
    "!pip install requests\n",
    "!pip install mnist"
   ]
  },
  {
   "cell_type": "code",
   "execution_count": 2,
   "metadata": {},
   "outputs": [],
   "source": [
    "import os\n",
    "\n",
    "dirname = 'MNIST'\n",
    "os.mkdir(dirname)\n",
    "os.chdir(dirname)"
   ]
  },
  {
   "cell_type": "code",
   "execution_count": 4,
   "metadata": {},
   "outputs": [],
   "source": [
    "import requests\n",
    "import gzip\n",
    "\n",
    "url = 'http://yann.lecun.com/exdb/mnist/'\n",
    "filename = ['t10k-images-idx3-ubyte', 't10k-images-idx1-ubyte']\n",
    "\n",
    "for filename in filenames:\n",
    "    resp = requests.get(url + filename + '.gz')\n",
    "    with gzip.open(filename + '.gz', 'wb') as fout:\n",
    "        for chunk in resp.iter_content(chunk_size=1024):\n",
    "            if chunk:\n",
    "                fout.write(chunk)\n",
    "    with gzip.open(filename + '.gz') as fin:\n",
    "        with gzip.open(filename, 'wb') as fout:\n",
    "            fout.write(fin.read())"
   ]
  },
  {
   "cell_type": "code",
   "execution_count": 5,
   "metadata": {},
   "outputs": [
    {
     "name": "stdout",
     "output_type": "stream",
     "text": [
      "t10k-images-idx1-ubyte\t   t10k-images-idx3-ubyte\r\n",
      "t10k-images-idx1-ubyte.gz  t10k-images-idx3-ubyte.gz\r\n"
     ]
    }
   ],
   "source": [
    "!ls"
   ]
  },
  {
   "cell_type": "code",
   "execution_count": null,
   "metadata": {},
   "outputs": [],
   "source": [
    "from mnist import MNIST"
   ]
  }
 ],
 "metadata": {
  "kernelspec": {
   "display_name": "Python 3",
   "language": "python",
   "name": "python3"
  },
  "language_info": {
   "codemirror_mode": {
    "name": "ipython",
    "version": 3
   },
   "file_extension": ".py",
   "mimetype": "text/x-python",
   "name": "python",
   "nbconvert_exporter": "python",
   "pygments_lexer": "ipython3",
   "version": "3.5.3"
  }
 },
 "nbformat": 4,
 "nbformat_minor": 2
}
