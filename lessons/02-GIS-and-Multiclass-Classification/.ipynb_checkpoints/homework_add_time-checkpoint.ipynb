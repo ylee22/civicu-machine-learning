{
 "cells": [
  {
   "cell_type": "code",
   "execution_count": 171,
   "metadata": {
    "collapsed": true
   },
   "outputs": [],
   "source": [
    "import pandas as pd"
   ]
  },
  {
   "cell_type": "code",
   "execution_count": 172,
   "metadata": {
    "collapsed": true
   },
   "outputs": [],
   "source": [
    "df = pd.read_csv('../shared-resources/portland_crime.csv', index_col=0, header=0)\n",
    "\n",
    "# clean up and drops all rows with nans in any of the columns\n",
    "df = df.dropna(how='any')"
   ]
  },
  {
   "cell_type": "code",
   "execution_count": 173,
   "metadata": {},
   "outputs": [
    {
     "data": {
      "text/html": [
       "<div>\n",
       "<style>\n",
       "    .dataframe thead tr:only-child th {\n",
       "        text-align: right;\n",
       "    }\n",
       "\n",
       "    .dataframe thead th {\n",
       "        text-align: left;\n",
       "    }\n",
       "\n",
       "    .dataframe tbody tr th {\n",
       "        vertical-align: top;\n",
       "    }\n",
       "</style>\n",
       "<table border=\"1\" class=\"dataframe\">\n",
       "  <thead>\n",
       "    <tr style=\"text-align: right;\">\n",
       "      <th></th>\n",
       "      <th>report_date</th>\n",
       "      <th>report_time</th>\n",
       "      <th>major_offense_type</th>\n",
       "      <th>address</th>\n",
       "      <th>neighborhood</th>\n",
       "      <th>police_precinct</th>\n",
       "      <th>police_district</th>\n",
       "      <th>xcoordinate</th>\n",
       "      <th>ycoordinate</th>\n",
       "    </tr>\n",
       "    <tr>\n",
       "      <th>id</th>\n",
       "      <th></th>\n",
       "      <th></th>\n",
       "      <th></th>\n",
       "      <th></th>\n",
       "      <th></th>\n",
       "      <th></th>\n",
       "      <th></th>\n",
       "      <th></th>\n",
       "      <th></th>\n",
       "    </tr>\n",
       "  </thead>\n",
       "  <tbody>\n",
       "    <tr>\n",
       "      <th>11</th>\n",
       "      <td>2014-01-05</td>\n",
       "      <td>17:53:00</td>\n",
       "      <td>Liquor Laws</td>\n",
       "      <td>SW ALDER ST and SW 10TH AVE, PORTLAND, OR 97205</td>\n",
       "      <td>DOWNTOWN</td>\n",
       "      <td>PORTLAND PREC CE</td>\n",
       "      <td>842</td>\n",
       "      <td>7.642970e+06</td>\n",
       "      <td>683475.64534</td>\n",
       "    </tr>\n",
       "    <tr>\n",
       "      <th>12</th>\n",
       "      <td>2014-01-23</td>\n",
       "      <td>22:15:00</td>\n",
       "      <td>Burglary</td>\n",
       "      <td>251-399 block of NE 80TH AVE, PORTLAND, OR 97213</td>\n",
       "      <td>MONTAVILLA</td>\n",
       "      <td>PORTLAND PREC EA</td>\n",
       "      <td>902</td>\n",
       "      <td>7.668701e+06</td>\n",
       "      <td>684231.79199</td>\n",
       "    </tr>\n",
       "    <tr>\n",
       "      <th>13</th>\n",
       "      <td>2014-01-14</td>\n",
       "      <td>16:27:00</td>\n",
       "      <td>Weapons</td>\n",
       "      <td>SW MORRISON ST and SW 6TH AVE, PORTLAND, OR 97204</td>\n",
       "      <td>DOWNTOWN</td>\n",
       "      <td>PORTLAND PREC CE</td>\n",
       "      <td>830</td>\n",
       "      <td>7.643759e+06</td>\n",
       "      <td>682869.68110</td>\n",
       "    </tr>\n",
       "    <tr>\n",
       "      <th>14</th>\n",
       "      <td>2014-01-19</td>\n",
       "      <td>17:51:00</td>\n",
       "      <td>Trespass</td>\n",
       "      <td>5201-5299 block of NE 91ST AVE, PORTLAND, OR 9...</td>\n",
       "      <td>SUMNER</td>\n",
       "      <td>PORTLAND PREC NO</td>\n",
       "      <td>642</td>\n",
       "      <td>7.672251e+06</td>\n",
       "      <td>697446.17126</td>\n",
       "    </tr>\n",
       "    <tr>\n",
       "      <th>15</th>\n",
       "      <td>2014-01-08</td>\n",
       "      <td>11:00:00</td>\n",
       "      <td>Disorderly Conduct</td>\n",
       "      <td>3300-3498 block of SE 26TH AVE, PORTLAND, OR 9...</td>\n",
       "      <td>HOSFRD-ABRNETHY</td>\n",
       "      <td>PORTLAND PREC CE</td>\n",
       "      <td>730</td>\n",
       "      <td>7.653553e+06</td>\n",
       "      <td>675335.70768</td>\n",
       "    </tr>\n",
       "  </tbody>\n",
       "</table>\n",
       "</div>"
      ],
      "text/plain": [
       "   report_date report_time  major_offense_type  \\\n",
       "id                                               \n",
       "11  2014-01-05    17:53:00         Liquor Laws   \n",
       "12  2014-01-23    22:15:00            Burglary   \n",
       "13  2014-01-14    16:27:00             Weapons   \n",
       "14  2014-01-19    17:51:00            Trespass   \n",
       "15  2014-01-08    11:00:00  Disorderly Conduct   \n",
       "\n",
       "                                              address     neighborhood  \\\n",
       "id                                                                       \n",
       "11    SW ALDER ST and SW 10TH AVE, PORTLAND, OR 97205         DOWNTOWN   \n",
       "12   251-399 block of NE 80TH AVE, PORTLAND, OR 97213       MONTAVILLA   \n",
       "13  SW MORRISON ST and SW 6TH AVE, PORTLAND, OR 97204         DOWNTOWN   \n",
       "14  5201-5299 block of NE 91ST AVE, PORTLAND, OR 9...           SUMNER   \n",
       "15  3300-3498 block of SE 26TH AVE, PORTLAND, OR 9...  HOSFRD-ABRNETHY   \n",
       "\n",
       "     police_precinct police_district   xcoordinate   ycoordinate  \n",
       "id                                                                \n",
       "11  PORTLAND PREC CE             842  7.642970e+06  683475.64534  \n",
       "12  PORTLAND PREC EA             902  7.668701e+06  684231.79199  \n",
       "13  PORTLAND PREC CE             830  7.643759e+06  682869.68110  \n",
       "14  PORTLAND PREC NO             642  7.672251e+06  697446.17126  \n",
       "15  PORTLAND PREC CE             730  7.653553e+06  675335.70768  "
      ]
     },
     "execution_count": 173,
     "metadata": {},
     "output_type": "execute_result"
    }
   ],
   "source": [
    "df.head()"
   ]
  },
  {
   "cell_type": "code",
   "execution_count": 174,
   "metadata": {},
   "outputs": [],
   "source": [
    "# pd.to_datetime(df.report_time.iloc[0], format='%H:%M:%S').time()\n",
    "df['date_time'] = pd.to_datetime(df.report_date + ' ' + df.report_time)\n",
    "# mask_7pm = X.dt.hour > 19"
   ]
  },
  {
   "cell_type": "code",
   "execution_count": 175,
   "metadata": {},
   "outputs": [
    {
     "data": {
      "text/plain": [
       "0.32973400052673163"
      ]
     },
     "execution_count": 175,
     "metadata": {},
     "output_type": "execute_result"
    }
   ],
   "source": [
    "from sklearn.linear_model import LogisticRegression\n",
    "from sklearn.preprocessing import LabelEncoder\n",
    "\n",
    "lr = LogisticRegression(class_weight='balanced')\n",
    "le = LabelEncoder()\n",
    "y = le.fit_transform(df.major_offense_type)\n",
    "# X.dt.hour.values.reshape(-1,1)\n",
    "lr = lr.fit(df['date_time'].dt.hour.values.reshape(-1,1), y)\n",
    "lr.score(df['date_time'].dt.hour.values.reshape(-1,1), y)"
   ]
  },
  {
   "cell_type": "code",
   "execution_count": 182,
   "metadata": {},
   "outputs": [],
   "source": [
    "le = LabelEncoder()\n",
    "X = pd.get_dummies(df.neighborhood)\n",
    "column_names = list(X.columns)\n",
    "df2 = pd.concat([df, X], axis=1).copy()"
   ]
  },
  {
   "cell_type": "code",
   "execution_count": 185,
   "metadata": {},
   "outputs": [
    {
     "data": {
      "text/plain": [
       "0.39281011324730047"
      ]
     },
     "execution_count": 185,
     "metadata": {},
     "output_type": "execute_result"
    }
   ],
   "source": [
    "df2['hour'] = df.date_time.dt.hour\n",
    "df2['weekday'] = (df.date_time.dt.weekday > 5).astype(int)\n",
    "# column_names = column_names + ['weekday']\n",
    "\n",
    "lr = lr.fit(df2[['xcoordinate', 'ycoordinate', 'weekday']], y)\n",
    "lr.score(df2[['xcoordinate', 'ycoordinate', 'weekday']], y)"
   ]
  }
 ],
 "metadata": {
  "kernelspec": {
   "display_name": "Python 3",
   "language": "python",
   "name": "python3"
  },
  "language_info": {
   "codemirror_mode": {
    "name": "ipython",
    "version": 3
   },
   "file_extension": ".py",
   "mimetype": "text/x-python",
   "name": "python",
   "nbconvert_exporter": "python",
   "pygments_lexer": "ipython3",
   "version": "3.6.1"
  }
 },
 "nbformat": 4,
 "nbformat_minor": 2
}
