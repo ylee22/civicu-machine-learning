{
 "cells": [
  {
   "cell_type": "markdown",
   "metadata": {},
   "source": [
    "# [Multiclass Classification](http://scikit-learn.org/stable/modules/multiclass.html#multiclass)\n",
    "\n",
    "## Review\n",
    "\n",
    "You've done...\n",
    "\n",
    "#### Regression\n",
    "\n",
    "* Linear regression to predict weight from height\n",
    "* **Multivariate** linear regresion to predict weight from height and gender\n",
    "\n",
    "#### Binary Classification\n",
    "\n",
    "If our data set contains only 2 genders, we have a binary classification problem.\n",
    "\n",
    "* Logistic regression to predict gender (*categorical*) from height (*univariate continuous*)  \n",
    "* Logistic regression to predict gender (*categorical*) from height and weight (*multivariate continuous*)\n",
    "\n",
    "## Today\n",
    "\n",
    "What do we do with are real-world data set with more than 2 genders?  \n",
    "Or more than 2 colors?  \n",
    "Or more than 2 types of endangered species?  \n",
    "Or more than categories/classes of any type?  \n",
    "\n",
    "Today you're going to do...\n",
    "\n",
    "#### Multiclass Classification\n",
    "\n",
    "* Predict crime (*multiclass*) from latitude (*univariate*)\n",
    "* Predict crime (*multiclass*) from lat, lon, date, time, neighborhood (*multivariate*)\n",
    "\n",
    "When we want to predict something that isn't just one class or another (binary), but has more than one category or class, we call that **Multiclass Classification**  \n"
   ]
  },
  {
   "cell_type": "code",
   "execution_count": 14,
   "metadata": {
    "collapsed": true
   },
   "outputs": [],
   "source": [
    "import pandas as pd\n",
    "import seaborn as sns\n",
    "%matplotlib inline"
   ]
  },
  {
   "cell_type": "code",
   "execution_count": 15,
   "metadata": {
    "collapsed": true
   },
   "outputs": [],
   "source": [
    "# df = pd.read_csv('https://raw.githubusercontent.com/hackoregon/hack-university-database-engineering/master/Data/Crime%20Data/crimedata.csv')\n",
    "# del df['record_id']\n",
    "# df.to_csv('../shared-resources/portland_crime.csv')\n",
    "df = pd.read_csv('../shared-resources/portland_crime.csv', index_col=0, header=0)"
   ]
  },
  {
   "cell_type": "code",
   "execution_count": 16,
   "metadata": {},
   "outputs": [
    {
     "data": {
      "text/html": [
       "<div>\n",
       "<style>\n",
       "    .dataframe thead tr:only-child th {\n",
       "        text-align: right;\n",
       "    }\n",
       "\n",
       "    .dataframe thead th {\n",
       "        text-align: left;\n",
       "    }\n",
       "\n",
       "    .dataframe tbody tr th {\n",
       "        vertical-align: top;\n",
       "    }\n",
       "</style>\n",
       "<table border=\"1\" class=\"dataframe\">\n",
       "  <thead>\n",
       "    <tr style=\"text-align: right;\">\n",
       "      <th></th>\n",
       "      <th>report_date</th>\n",
       "      <th>report_time</th>\n",
       "      <th>major_offense_type</th>\n",
       "      <th>address</th>\n",
       "      <th>neighborhood</th>\n",
       "      <th>police_precinct</th>\n",
       "      <th>police_district</th>\n",
       "      <th>xcoordinate</th>\n",
       "      <th>ycoordinate</th>\n",
       "    </tr>\n",
       "    <tr>\n",
       "      <th>id</th>\n",
       "      <th></th>\n",
       "      <th></th>\n",
       "      <th></th>\n",
       "      <th></th>\n",
       "      <th></th>\n",
       "      <th></th>\n",
       "      <th></th>\n",
       "      <th></th>\n",
       "      <th></th>\n",
       "    </tr>\n",
       "  </thead>\n",
       "  <tbody>\n",
       "    <tr>\n",
       "      <th>10</th>\n",
       "      <td>2014-01-06</td>\n",
       "      <td>09:25:00</td>\n",
       "      <td>Sex Offenses</td>\n",
       "      <td>Unknown/Not Available</td>\n",
       "      <td>SOUTH PORTLAND</td>\n",
       "      <td>PORTLAND PREC CE</td>\n",
       "      <td>890</td>\n",
       "      <td>NaN</td>\n",
       "      <td>NaN</td>\n",
       "    </tr>\n",
       "    <tr>\n",
       "      <th>11</th>\n",
       "      <td>2014-01-05</td>\n",
       "      <td>17:53:00</td>\n",
       "      <td>Liquor Laws</td>\n",
       "      <td>SW ALDER ST and SW 10TH AVE, PORTLAND, OR 97205</td>\n",
       "      <td>DOWNTOWN</td>\n",
       "      <td>PORTLAND PREC CE</td>\n",
       "      <td>842</td>\n",
       "      <td>7.642970e+06</td>\n",
       "      <td>683475.64534</td>\n",
       "    </tr>\n",
       "    <tr>\n",
       "      <th>12</th>\n",
       "      <td>2014-01-23</td>\n",
       "      <td>22:15:00</td>\n",
       "      <td>Burglary</td>\n",
       "      <td>251-399 block of NE 80TH AVE, PORTLAND, OR 97213</td>\n",
       "      <td>MONTAVILLA</td>\n",
       "      <td>PORTLAND PREC EA</td>\n",
       "      <td>902</td>\n",
       "      <td>7.668701e+06</td>\n",
       "      <td>684231.79199</td>\n",
       "    </tr>\n",
       "  </tbody>\n",
       "</table>\n",
       "</div>"
      ],
      "text/plain": [
       "   report_date report_time major_offense_type  \\\n",
       "id                                              \n",
       "10  2014-01-06    09:25:00       Sex Offenses   \n",
       "11  2014-01-05    17:53:00        Liquor Laws   \n",
       "12  2014-01-23    22:15:00           Burglary   \n",
       "\n",
       "                                             address    neighborhood  \\\n",
       "id                                                                     \n",
       "10                             Unknown/Not Available  SOUTH PORTLAND   \n",
       "11   SW ALDER ST and SW 10TH AVE, PORTLAND, OR 97205        DOWNTOWN   \n",
       "12  251-399 block of NE 80TH AVE, PORTLAND, OR 97213      MONTAVILLA   \n",
       "\n",
       "     police_precinct police_district   xcoordinate   ycoordinate  \n",
       "id                                                                \n",
       "10  PORTLAND PREC CE             890           NaN           NaN  \n",
       "11  PORTLAND PREC CE             842  7.642970e+06  683475.64534  \n",
       "12  PORTLAND PREC EA             902  7.668701e+06  684231.79199  "
      ]
     },
     "execution_count": 16,
     "metadata": {},
     "output_type": "execute_result"
    }
   ],
   "source": [
    "df.head(3)"
   ]
  },
  {
   "cell_type": "code",
   "execution_count": 17,
   "metadata": {},
   "outputs": [
    {
     "data": {
      "text/html": [
       "<div>\n",
       "<style>\n",
       "    .dataframe thead tr:only-child th {\n",
       "        text-align: right;\n",
       "    }\n",
       "\n",
       "    .dataframe thead th {\n",
       "        text-align: left;\n",
       "    }\n",
       "\n",
       "    .dataframe tbody tr th {\n",
       "        vertical-align: top;\n",
       "    }\n",
       "</style>\n",
       "<table border=\"1\" class=\"dataframe\">\n",
       "  <thead>\n",
       "    <tr style=\"text-align: right;\">\n",
       "      <th></th>\n",
       "      <th>xcoordinate</th>\n",
       "      <th>ycoordinate</th>\n",
       "    </tr>\n",
       "  </thead>\n",
       "  <tbody>\n",
       "    <tr>\n",
       "      <th>count</th>\n",
       "      <td>5.396300e+04</td>\n",
       "      <td>53963.000000</td>\n",
       "    </tr>\n",
       "    <tr>\n",
       "      <th>mean</th>\n",
       "      <td>7.655826e+06</td>\n",
       "      <td>684865.814018</td>\n",
       "    </tr>\n",
       "    <tr>\n",
       "      <th>std</th>\n",
       "      <td>1.611395e+04</td>\n",
       "      <td>11582.723344</td>\n",
       "    </tr>\n",
       "    <tr>\n",
       "      <th>min</th>\n",
       "      <td>7.568600e+06</td>\n",
       "      <td>588728.800520</td>\n",
       "    </tr>\n",
       "    <tr>\n",
       "      <th>25%</th>\n",
       "      <td>7.643957e+06</td>\n",
       "      <td>678147.698490</td>\n",
       "    </tr>\n",
       "    <tr>\n",
       "      <th>50%</th>\n",
       "      <td>7.650161e+06</td>\n",
       "      <td>684086.216210</td>\n",
       "    </tr>\n",
       "    <tr>\n",
       "      <th>75%</th>\n",
       "      <td>7.669203e+06</td>\n",
       "      <td>689327.735240</td>\n",
       "    </tr>\n",
       "    <tr>\n",
       "      <th>max</th>\n",
       "      <td>7.717426e+06</td>\n",
       "      <td>726347.339900</td>\n",
       "    </tr>\n",
       "  </tbody>\n",
       "</table>\n",
       "</div>"
      ],
      "text/plain": [
       "        xcoordinate    ycoordinate\n",
       "count  5.396300e+04   53963.000000\n",
       "mean   7.655826e+06  684865.814018\n",
       "std    1.611395e+04   11582.723344\n",
       "min    7.568600e+06  588728.800520\n",
       "25%    7.643957e+06  678147.698490\n",
       "50%    7.650161e+06  684086.216210\n",
       "75%    7.669203e+06  689327.735240\n",
       "max    7.717426e+06  726347.339900"
      ]
     },
     "execution_count": 17,
     "metadata": {},
     "output_type": "execute_result"
    }
   ],
   "source": [
    "df.describe()"
   ]
  },
  {
   "cell_type": "code",
   "execution_count": 18,
   "metadata": {},
   "outputs": [
    {
     "data": {
      "text/plain": [
       "array([[<matplotlib.axes._subplots.AxesSubplot object at 0x11ad401d0>,\n",
       "        <matplotlib.axes._subplots.AxesSubplot object at 0x11ec2fac8>]], dtype=object)"
      ]
     },
     "execution_count": 18,
     "metadata": {},
     "output_type": "execute_result"
    },
    {
     "data": {
      "image/png": "[encoded data removed]",
      "text/plain": [
       "<matplotlib.figure.Figure at 0x11a120ba8>"
      ]
     },
     "metadata": {},
     "output_type": "display_data"
    }
   ],
   "source": [
    "df.hist(bins=20)"
   ]
  },
  {
   "cell_type": "markdown",
   "metadata": {},
   "source": [
    "So we only have 3 numerical features to work with?  \n",
    "And one of them is useless (**id**)!\n",
    "\n",
    "#### **NOTE:** IDs are not always useless.\n",
    "\n",
    "One Kaggle competition was won by a machine that figured out that the ID contained the answer!  \n",
    "IDs often contain information about when the records were inserted into the DB.\n"
   ]
  },
  {
   "cell_type": "markdown",
   "metadata": {},
   "source": [
    "## Datetimes (Pandas **Timestamp**)\n",
    "\n",
    "There are lots of [numerical features](http://pandas.pydata.org/pandas-docs/stable/timeseries.html#time-date-components) we can extract from datetimes (Timestamp) objects\n",
    "\n",
    "* year\n",
    "* month\n",
    "* day of month\n",
    "* day of year\n",
    "* day of week\n",
    "* is it a holiday\n",
    "* is it a weekday\n",
    "\n",
    "..."
   ]
  },
  {
   "cell_type": "code",
   "execution_count": 19,
   "metadata": {
    "scrolled": true
   },
   "outputs": [
    {
     "data": {
      "text/plain": [
       "count                   61497\n",
       "unique                    365\n",
       "top       2014-01-01 00:00:00\n",
       "freq                      299\n",
       "first     2014-01-01 00:00:00\n",
       "last      2014-12-31 00:00:00\n",
       "Name: report_date, dtype: object"
      ]
     },
     "execution_count": 19,
     "metadata": {},
     "output_type": "execute_result"
    }
   ],
   "source": [
    "pd.to_datetime(df.report_date).describe()"
   ]
  },
  {
   "cell_type": "code",
   "execution_count": 20,
   "metadata": {},
   "outputs": [
    {
     "data": {
      "text/html": [
       "<div>\n",
       "<style>\n",
       "    .dataframe thead tr:only-child th {\n",
       "        text-align: right;\n",
       "    }\n",
       "\n",
       "    .dataframe thead th {\n",
       "        text-align: left;\n",
       "    }\n",
       "\n",
       "    .dataframe tbody tr th {\n",
       "        vertical-align: top;\n",
       "    }\n",
       "</style>\n",
       "<table border=\"1\" class=\"dataframe\">\n",
       "  <thead>\n",
       "    <tr style=\"text-align: right;\">\n",
       "      <th></th>\n",
       "      <th>report_date</th>\n",
       "      <th>report_time</th>\n",
       "      <th>major_offense_type</th>\n",
       "      <th>address</th>\n",
       "      <th>neighborhood</th>\n",
       "      <th>police_precinct</th>\n",
       "      <th>police_district</th>\n",
       "      <th>xcoordinate</th>\n",
       "      <th>ycoordinate</th>\n",
       "    </tr>\n",
       "    <tr>\n",
       "      <th>id</th>\n",
       "      <th></th>\n",
       "      <th></th>\n",
       "      <th></th>\n",
       "      <th></th>\n",
       "      <th></th>\n",
       "      <th></th>\n",
       "      <th></th>\n",
       "      <th></th>\n",
       "      <th></th>\n",
       "    </tr>\n",
       "  </thead>\n",
       "  <tbody>\n",
       "    <tr>\n",
       "      <th>10</th>\n",
       "      <td>2014-01-06 09:25:00</td>\n",
       "      <td>09:25:00</td>\n",
       "      <td>Sex Offenses</td>\n",
       "      <td>Unknown/Not Available</td>\n",
       "      <td>SOUTH PORTLAND</td>\n",
       "      <td>PORTLAND PREC CE</td>\n",
       "      <td>890</td>\n",
       "      <td>NaN</td>\n",
       "      <td>NaN</td>\n",
       "    </tr>\n",
       "    <tr>\n",
       "      <th>11</th>\n",
       "      <td>2014-01-05 17:53:00</td>\n",
       "      <td>17:53:00</td>\n",
       "      <td>Liquor Laws</td>\n",
       "      <td>SW ALDER ST and SW 10TH AVE, PORTLAND, OR 97205</td>\n",
       "      <td>DOWNTOWN</td>\n",
       "      <td>PORTLAND PREC CE</td>\n",
       "      <td>842</td>\n",
       "      <td>7.642970e+06</td>\n",
       "      <td>683475.64534</td>\n",
       "    </tr>\n",
       "    <tr>\n",
       "      <th>12</th>\n",
       "      <td>2014-01-23 22:15:00</td>\n",
       "      <td>22:15:00</td>\n",
       "      <td>Burglary</td>\n",
       "      <td>251-399 block of NE 80TH AVE, PORTLAND, OR 97213</td>\n",
       "      <td>MONTAVILLA</td>\n",
       "      <td>PORTLAND PREC EA</td>\n",
       "      <td>902</td>\n",
       "      <td>7.668701e+06</td>\n",
       "      <td>684231.79199</td>\n",
       "    </tr>\n",
       "  </tbody>\n",
       "</table>\n",
       "</div>"
      ],
      "text/plain": [
       "           report_date report_time major_offense_type  \\\n",
       "id                                                      \n",
       "10 2014-01-06 09:25:00    09:25:00       Sex Offenses   \n",
       "11 2014-01-05 17:53:00    17:53:00        Liquor Laws   \n",
       "12 2014-01-23 22:15:00    22:15:00           Burglary   \n",
       "\n",
       "                                             address    neighborhood  \\\n",
       "id                                                                     \n",
       "10                             Unknown/Not Available  SOUTH PORTLAND   \n",
       "11   SW ALDER ST and SW 10TH AVE, PORTLAND, OR 97205        DOWNTOWN   \n",
       "12  251-399 block of NE 80TH AVE, PORTLAND, OR 97213      MONTAVILLA   \n",
       "\n",
       "     police_precinct police_district   xcoordinate   ycoordinate  \n",
       "id                                                                \n",
       "10  PORTLAND PREC CE             890           NaN           NaN  \n",
       "11  PORTLAND PREC CE             842  7.642970e+06  683475.64534  \n",
       "12  PORTLAND PREC EA             902  7.668701e+06  684231.79199  "
      ]
     },
     "execution_count": 20,
     "metadata": {},
     "output_type": "execute_result"
    }
   ],
   "source": [
    "df['report_date'] = pd.to_datetime(df.report_date + ' ' + df.report_time)\n",
    "df.head(3)"
   ]
  },
  {
   "cell_type": "markdown",
   "metadata": {},
   "source": [
    "## What about categories like neighborhood?\n",
    "\n",
    "`pd.get_dummies` can convert any categorical variable to separate binary class variables, one in each column.  \n",
    "`pd.concat` can combine multiple tables into one\n",
    "\n",
    "\n",
    "So let's add the neighborhood\n",
    "\n",
    "**NOTE:** Only do this for *categorical* variables, **not** *ordinals*"
   ]
  },
  {
   "cell_type": "code",
   "execution_count": 21,
   "metadata": {},
   "outputs": [
    {
     "data": {
      "text/plain": [
       "DOWNTOWN                     5394\n",
       "HAZELWOOD                    3727\n",
       "CHINA/OLD TOWN               3243\n",
       "LENTS                        2513\n",
       "POWELHST-GILBRT              2437\n",
       "CENTENNIAL                   2076\n",
       "NORTHWEST                    2047\n",
       "PEARL                        1549\n",
       "LLOYD                        1542\n",
       "MONTAVILLA                   1374\n",
       "BUCKMAN-WEST                 1318\n",
       "ST JOHNS                     1281\n",
       "CULLY                        1149\n",
       "RICHMOND                     1035\n",
       "PARKROSE                     1013\n",
       "ELIOT                         933\n",
       "HOSFRD-ABRNETHY               878\n",
       "BRENTWD-DARLNGT               831\n",
       "KERNS                         822\n",
       "MILL PARK                     817\n",
       "PORTSMOUTH                    737\n",
       "OVERLOOK                      708\n",
       "FOSTER-POWELL                 695\n",
       "GOOSE HOLLOW                  681\n",
       "KENTON                        667\n",
       "SELLWD-MORELAND               658\n",
       "KING                          656\n",
       "CRSTN-KENILWTH                655\n",
       "SUNNYSIDE                     635\n",
       "HAYDEN ISLAND                 633\n",
       "                             ... \n",
       "GRESHAM - WILKES EAST          49\n",
       "MARKHAM                        45\n",
       "MAPLEWOOD                      42\n",
       "S BURLINGAME                   41\n",
       "ARNOLD CREEK                   34\n",
       "WOODLAND PARK                  25\n",
       "MARSHALL PARK                  21\n",
       "NORTHWEST HTS                  20\n",
       "ARDENWALD                      16\n",
       "CRESTWOOD                      16\n",
       "GRESHAM - CENTENNIAL EAST      14\n",
       "GRESHAM - NORTH GRESHAM         6\n",
       "GRESHAM - NORTHWEST GRESH       4\n",
       "HEALY HEIGHTS                   4\n",
       "TUALATIN - TU1                  3\n",
       "GRESHAM - NORTH CENTRAL         3\n",
       "CENTRAL BEAVERTON               2\n",
       "GRESHAM - HOLLYBROOK            2\n",
       "WSLOT                           2\n",
       "BEAVERTON - FIVE OAKS 3C        2\n",
       "GRESHAM - NORTHEAST GRESH       2\n",
       "GRESHAM - DOWNTOWN              2\n",
       "GRESHAM - SOUTHWEST GRESH       2\n",
       "GRESHAM - KELLY CREEK           2\n",
       "GRESHAM - A.S.E.R.T.            1\n",
       "TUALATIN - TU2                  1\n",
       "DWRW                            1\n",
       "GRESHAM - MT. HOOD              1\n",
       "WEST BEAVERTON                  1\n",
       "TUALATIN - TU3                  1\n",
       "Name: neighborhood, Length: 117, dtype: int64"
      ]
     },
     "execution_count": 21,
     "metadata": {},
     "output_type": "execute_result"
    }
   ],
   "source": [
    "df.neighborhood.value_counts()"
   ]
  },
  {
   "cell_type": "code",
   "execution_count": 29,
   "metadata": {},
   "outputs": [
    {
     "ename": "TypeError",
     "evalue": "'>' not supported between instances of 'str' and 'float'",
     "output_type": "error",
     "traceback": [
      "\u001b[0;31m---------------------------------------------------------------------------\u001b[0m",
      "\u001b[0;31mTypeError\u001b[0m                                 Traceback (most recent call last)",
      "\u001b[0;32m<ipython-input-29-8bfcfa79cf17>\u001b[0m in \u001b[0;36m<module>\u001b[0;34m()\u001b[0m\n\u001b[1;32m      1\u001b[0m \u001b[0;32mfrom\u001b[0m \u001b[0msklearn\u001b[0m\u001b[0;34m.\u001b[0m\u001b[0mpreprocessing\u001b[0m \u001b[0;32mimport\u001b[0m \u001b[0mLabelEncoder\u001b[0m\u001b[0;34m\u001b[0m\u001b[0m\n\u001b[1;32m      2\u001b[0m \u001b[0mle\u001b[0m \u001b[0;34m=\u001b[0m \u001b[0mLabelEncoder\u001b[0m\u001b[0;34m(\u001b[0m\u001b[0;34m)\u001b[0m\u001b[0;34m\u001b[0m\u001b[0m\n\u001b[0;32m----> 3\u001b[0;31m \u001b[0mle\u001b[0m\u001b[0;34m.\u001b[0m\u001b[0mfit\u001b[0m\u001b[0;34m(\u001b[0m\u001b[0mdf\u001b[0m\u001b[0;34m.\u001b[0m\u001b[0mneighborhood\u001b[0m\u001b[0;34m)\u001b[0m\u001b[0;34m\u001b[0m\u001b[0m\n\u001b[0m\u001b[1;32m      4\u001b[0m \u001b[0;31m# df['neighborhood_int'] = le.transform(df.neighborhood)\u001b[0m\u001b[0;34m\u001b[0m\u001b[0;34m\u001b[0m\u001b[0m\n",
      "\u001b[0;32m/Users/leey/anaconda3/lib/python3.6/site-packages/sklearn/preprocessing/label.py\u001b[0m in \u001b[0;36mfit\u001b[0;34m(self, y)\u001b[0m\n\u001b[1;32m    112\u001b[0m         \u001b[0my\u001b[0m \u001b[0;34m=\u001b[0m \u001b[0mcolumn_or_1d\u001b[0m\u001b[0;34m(\u001b[0m\u001b[0my\u001b[0m\u001b[0;34m,\u001b[0m \u001b[0mwarn\u001b[0m\u001b[0;34m=\u001b[0m\u001b[0;32mTrue\u001b[0m\u001b[0;34m)\u001b[0m\u001b[0;34m\u001b[0m\u001b[0m\n\u001b[1;32m    113\u001b[0m         \u001b[0m_check_numpy_unicode_bug\u001b[0m\u001b[0;34m(\u001b[0m\u001b[0my\u001b[0m\u001b[0;34m)\u001b[0m\u001b[0;34m\u001b[0m\u001b[0m\n\u001b[0;32m--> 114\u001b[0;31m         \u001b[0mself\u001b[0m\u001b[0;34m.\u001b[0m\u001b[0mclasses_\u001b[0m \u001b[0;34m=\u001b[0m \u001b[0mnp\u001b[0m\u001b[0;34m.\u001b[0m\u001b[0munique\u001b[0m\u001b[0;34m(\u001b[0m\u001b[0my\u001b[0m\u001b[0;34m)\u001b[0m\u001b[0;34m\u001b[0m\u001b[0m\n\u001b[0m\u001b[1;32m    115\u001b[0m         \u001b[0;32mreturn\u001b[0m \u001b[0mself\u001b[0m\u001b[0;34m\u001b[0m\u001b[0m\n\u001b[1;32m    116\u001b[0m \u001b[0;34m\u001b[0m\u001b[0m\n",
      "\u001b[0;32m/Users/leey/anaconda3/lib/python3.6/site-packages/numpy/lib/arraysetops.py\u001b[0m in \u001b[0;36munique\u001b[0;34m(ar, return_index, return_inverse, return_counts)\u001b[0m\n\u001b[1;32m    212\u001b[0m         \u001b[0maux\u001b[0m \u001b[0;34m=\u001b[0m \u001b[0mar\u001b[0m\u001b[0;34m[\u001b[0m\u001b[0mperm\u001b[0m\u001b[0;34m]\u001b[0m\u001b[0;34m\u001b[0m\u001b[0m\n\u001b[1;32m    213\u001b[0m     \u001b[0;32melse\u001b[0m\u001b[0;34m:\u001b[0m\u001b[0;34m\u001b[0m\u001b[0m\n\u001b[0;32m--> 214\u001b[0;31m         \u001b[0mar\u001b[0m\u001b[0;34m.\u001b[0m\u001b[0msort\u001b[0m\u001b[0;34m(\u001b[0m\u001b[0;34m)\u001b[0m\u001b[0;34m\u001b[0m\u001b[0m\n\u001b[0m\u001b[1;32m    215\u001b[0m         \u001b[0maux\u001b[0m \u001b[0;34m=\u001b[0m \u001b[0mar\u001b[0m\u001b[0;34m\u001b[0m\u001b[0m\n\u001b[1;32m    216\u001b[0m     \u001b[0mflag\u001b[0m \u001b[0;34m=\u001b[0m \u001b[0mnp\u001b[0m\u001b[0;34m.\u001b[0m\u001b[0mconcatenate\u001b[0m\u001b[0;34m(\u001b[0m\u001b[0;34m(\u001b[0m\u001b[0;34m[\u001b[0m\u001b[0;32mTrue\u001b[0m\u001b[0;34m]\u001b[0m\u001b[0;34m,\u001b[0m \u001b[0maux\u001b[0m\u001b[0;34m[\u001b[0m\u001b[0;36m1\u001b[0m\u001b[0;34m:\u001b[0m\u001b[0;34m]\u001b[0m \u001b[0;34m!=\u001b[0m \u001b[0maux\u001b[0m\u001b[0;34m[\u001b[0m\u001b[0;34m:\u001b[0m\u001b[0;34m-\u001b[0m\u001b[0;36m1\u001b[0m\u001b[0;34m]\u001b[0m\u001b[0;34m)\u001b[0m\u001b[0;34m)\u001b[0m\u001b[0;34m\u001b[0m\u001b[0m\n",
      "\u001b[0;31mTypeError\u001b[0m: '>' not supported between instances of 'str' and 'float'"
     ]
    }
   ],
   "source": [
    "from sklearn.preprocessing import LabelEncoder\n",
    "le = LabelEncoder()\n",
    "le.fit(df.neighborhood)\n",
    "# df['neighborhood_int'] = le.transform(df.neighborhood)"
   ]
  },
  {
   "cell_type": "code",
   "execution_count": 32,
   "metadata": {},
   "outputs": [
    {
     "data": {
      "text/html": [
       "<div>\n",
       "<style>\n",
       "    .dataframe thead tr:only-child th {\n",
       "        text-align: right;\n",
       "    }\n",
       "\n",
       "    .dataframe thead th {\n",
       "        text-align: left;\n",
       "    }\n",
       "\n",
       "    .dataframe tbody tr th {\n",
       "        vertical-align: top;\n",
       "    }\n",
       "</style>\n",
       "<table border=\"1\" class=\"dataframe\">\n",
       "  <thead>\n",
       "    <tr style=\"text-align: right;\">\n",
       "      <th></th>\n",
       "      <th>ALAMEDA</th>\n",
       "      <th>ARBOR LODGE</th>\n",
       "      <th>ARDENWALD</th>\n",
       "      <th>ARGAY</th>\n",
       "      <th>ARLINGTON HGHTS</th>\n",
       "      <th>ARNOLD CREEK</th>\n",
       "      <th>ASHCREEK</th>\n",
       "      <th>BEAUMONT-WILSHR</th>\n",
       "      <th>BEAVERTON - FIVE OAKS 3C</th>\n",
       "      <th>BOISE</th>\n",
       "      <th>...</th>\n",
       "      <th>TUALATIN - TU3</th>\n",
       "      <th>UNIVERSITY PARK</th>\n",
       "      <th>VERNON</th>\n",
       "      <th>W PORTLAND PARK</th>\n",
       "      <th>WEST BEAVERTON</th>\n",
       "      <th>WILKES</th>\n",
       "      <th>WOODLAND PARK</th>\n",
       "      <th>WOODLAWN</th>\n",
       "      <th>WOODSTOCK</th>\n",
       "      <th>WSLOT</th>\n",
       "    </tr>\n",
       "    <tr>\n",
       "      <th>id</th>\n",
       "      <th></th>\n",
       "      <th></th>\n",
       "      <th></th>\n",
       "      <th></th>\n",
       "      <th></th>\n",
       "      <th></th>\n",
       "      <th></th>\n",
       "      <th></th>\n",
       "      <th></th>\n",
       "      <th></th>\n",
       "      <th></th>\n",
       "      <th></th>\n",
       "      <th></th>\n",
       "      <th></th>\n",
       "      <th></th>\n",
       "      <th></th>\n",
       "      <th></th>\n",
       "      <th></th>\n",
       "      <th></th>\n",
       "      <th></th>\n",
       "      <th></th>\n",
       "    </tr>\n",
       "  </thead>\n",
       "  <tbody>\n",
       "    <tr>\n",
       "      <th>10</th>\n",
       "      <td>0</td>\n",
       "      <td>0</td>\n",
       "      <td>0</td>\n",
       "      <td>0</td>\n",
       "      <td>0</td>\n",
       "      <td>0</td>\n",
       "      <td>0</td>\n",
       "      <td>0</td>\n",
       "      <td>0</td>\n",
       "      <td>0</td>\n",
       "      <td>...</td>\n",
       "      <td>0</td>\n",
       "      <td>0</td>\n",
       "      <td>0</td>\n",
       "      <td>0</td>\n",
       "      <td>0</td>\n",
       "      <td>0</td>\n",
       "      <td>0</td>\n",
       "      <td>0</td>\n",
       "      <td>0</td>\n",
       "      <td>0</td>\n",
       "    </tr>\n",
       "    <tr>\n",
       "      <th>11</th>\n",
       "      <td>0</td>\n",
       "      <td>0</td>\n",
       "      <td>0</td>\n",
       "      <td>0</td>\n",
       "      <td>0</td>\n",
       "      <td>0</td>\n",
       "      <td>0</td>\n",
       "      <td>0</td>\n",
       "      <td>0</td>\n",
       "      <td>0</td>\n",
       "      <td>...</td>\n",
       "      <td>0</td>\n",
       "      <td>0</td>\n",
       "      <td>0</td>\n",
       "      <td>0</td>\n",
       "      <td>0</td>\n",
       "      <td>0</td>\n",
       "      <td>0</td>\n",
       "      <td>0</td>\n",
       "      <td>0</td>\n",
       "      <td>0</td>\n",
       "    </tr>\n",
       "    <tr>\n",
       "      <th>12</th>\n",
       "      <td>0</td>\n",
       "      <td>0</td>\n",
       "      <td>0</td>\n",
       "      <td>0</td>\n",
       "      <td>0</td>\n",
       "      <td>0</td>\n",
       "      <td>0</td>\n",
       "      <td>0</td>\n",
       "      <td>0</td>\n",
       "      <td>0</td>\n",
       "      <td>...</td>\n",
       "      <td>0</td>\n",
       "      <td>0</td>\n",
       "      <td>0</td>\n",
       "      <td>0</td>\n",
       "      <td>0</td>\n",
       "      <td>0</td>\n",
       "      <td>0</td>\n",
       "      <td>0</td>\n",
       "      <td>0</td>\n",
       "      <td>0</td>\n",
       "    </tr>\n",
       "  </tbody>\n",
       "</table>\n",
       "<p>3 rows × 117 columns</p>\n",
       "</div>"
      ],
      "text/plain": [
       "    ALAMEDA  ARBOR LODGE  ARDENWALD  ARGAY  ARLINGTON HGHTS  ARNOLD CREEK  \\\n",
       "id                                                                          \n",
       "10        0            0          0      0                0             0   \n",
       "11        0            0          0      0                0             0   \n",
       "12        0            0          0      0                0             0   \n",
       "\n",
       "    ASHCREEK  BEAUMONT-WILSHR  BEAVERTON - FIVE OAKS 3C  BOISE  ...    \\\n",
       "id                                                              ...     \n",
       "10         0                0                         0      0  ...     \n",
       "11         0                0                         0      0  ...     \n",
       "12         0                0                         0      0  ...     \n",
       "\n",
       "    TUALATIN - TU3  UNIVERSITY PARK  VERNON  W PORTLAND PARK  WEST BEAVERTON  \\\n",
       "id                                                                             \n",
       "10               0                0       0                0               0   \n",
       "11               0                0       0                0               0   \n",
       "12               0                0       0                0               0   \n",
       "\n",
       "    WILKES  WOODLAND PARK  WOODLAWN  WOODSTOCK  WSLOT  \n",
       "id                                                     \n",
       "10       0              0         0          0      0  \n",
       "11       0              0         0          0      0  \n",
       "12       0              0         0          0      0  \n",
       "\n",
       "[3 rows x 117 columns]"
      ]
     },
     "execution_count": 32,
     "metadata": {},
     "output_type": "execute_result"
    }
   ],
   "source": [
    "neighborhood = pd.get_dummies(df['neighborhood'])\n",
    "neighborhood.head(3)"
   ]
  },
  {
   "cell_type": "code",
   "execution_count": null,
   "metadata": {
    "collapsed": true
   },
   "outputs": [],
   "source": [
    "df = pd.concat([df, neighborhood], axis=1)"
   ]
  },
  {
   "cell_type": "code",
   "execution_count": null,
   "metadata": {},
   "outputs": [],
   "source": [
    "df.describe()"
   ]
  },
  {
   "cell_type": "markdown",
   "metadata": {},
   "source": []
  },
  {
   "cell_type": "code",
   "execution_count": null,
   "metadata": {},
   "outputs": [],
   "source": [
    "df_crime = pd.get_dummies(df2.major_offense_type)\n",
    "df_crime.describe()"
   ]
  },
  {
   "cell_type": "code",
   "execution_count": null,
   "metadata": {
    "collapsed": true
   },
   "outputs": [],
   "source": [
    "# another way to convert a class into a number\n",
    "from sklearn.preprocessing import LabelEncoder\n",
    "le = LabelEncoder()\n",
    "le.fit(df2.major_offense_type)\n",
    "df2['major_offense_type_int'] = le.transform(df2.major_offense_type) "
   ]
  },
  {
   "cell_type": "code",
   "execution_count": null,
   "metadata": {
    "collapsed": true
   },
   "outputs": [],
   "source": [
    "from sklearn.linear_model import LinearRegression\n",
    "lr = LinearRegression()\n",
    "df2 = df.dropna(how='any').copy()\n",
    "X = df2[['xcoordinate', 'ycoordinate'] + list(neighborhood.columns)]\n",
    "y=df_crime\n",
    "lr = lr.fit(X, y)\n",
    "lr.score(X, y)"
   ]
  },
  {
   "cell_type": "code",
   "execution_count": null,
   "metadata": {
    "collapsed": true
   },
   "outputs": [],
   "source": [
    "predicted_crime = pd.DataFrame(lr.predict(X), columns=df_crime.columns)\n",
    "predicted_crime.describe()"
   ]
  },
  {
   "cell_type": "code",
   "execution_count": null,
   "metadata": {},
   "outputs": [],
   "source": [
    "from sklearn.linear_model import LogisticRegression\n",
    "lr = LogisticRegression(class_weight='balanced', solver='lbfgs', multi_class='multinomial')\n",
    "y = df2.major_offense_type.values.reshape(-1, 1)\n",
    "print(y.shape)\n",
    "lr = lr.fit(X, y)  # .values[:,1].reshape(-1,1))\n",
    "lr.score(X, y)"
   ]
  },
  {
   "cell_type": "code",
   "execution_count": null,
   "metadata": {
    "collapsed": true
   },
   "outputs": [],
   "source": [
    "df = pd.read_csv('../shared-resources/portland_crime.csv', index_col='id', header=0)\n",
    "del df['Unnamed: 0']"
   ]
  },
  {
   "cell_type": "code",
   "execution_count": null,
   "metadata": {},
   "outputs": [],
   "source": [
    "df.to_csv('../shared-resources/portland_crime.csv')\n",
    "print(df.columns[4])\n",
    "df[df.columns[4]]\n"
   ]
  },
  {
   "cell_type": "code",
   "execution_count": null,
   "metadata": {},
   "outputs": [],
   "source": [
    "df['report_date'][10]"
   ]
  }
 ],
 "metadata": {
  "kernelspec": {
   "display_name": "Python 3",
   "language": "python",
   "name": "python3"
  },
  "language_info": {
   "codemirror_mode": {
    "name": "ipython",
    "version": 3
   },
   "file_extension": ".py",
   "mimetype": "text/x-python",
   "name": "python",
   "nbconvert_exporter": "python",
   "pygments_lexer": "ipython3",
   "version": "3.6.1"
  }
 },
 "nbformat": 4,
 "nbformat_minor": 2
}
