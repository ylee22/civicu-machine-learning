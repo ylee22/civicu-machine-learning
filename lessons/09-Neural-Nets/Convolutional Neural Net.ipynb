{
 "cells": [
  {
   "cell_type": "markdown",
   "metadata": {},
   "source": [
    "Keras has an awesome [blog post](https://blog.keras.io/building-powerful-image-classification-models-using-very-little-data.html) on building a CNN for image classification.\n",
    "\n",
    "[I've started adapting it](https://github.com/totalgood/labeler/blob/master/labeler/experiment.py) to classify cascadia wild images of coyotes, bears, etc.\n",
    "\n",
    "Let's run a Haggle competition (like Chris did) to see who can get the best average F1 score on a per-class basis.  \n",
    "First lets define the performance metric.  \n",
    "Here's [a great blog post](http://blog.revolutionanalytics.com/2016/03/com_class_eval_metrics_r.html) on \"per-class\" F-1 scores (great for imbalanced test sets).  \n",
    "But let's use sklearn's [`classification_report`](https://stackoverflow.com/a/9092866/623735) for our competition, so there's no misunderstanding.  \n",
    "Your score will just be the mean of the F-1 column.  \n",
    "BONUS: why are the mean precision, recall, and F-1 score all the same?!!! "
   ]
  },
  {
   "cell_type": "code",
   "execution_count": null,
   "metadata": {},
   "outputs": [],
   "source": []
  }
 ],
 "metadata": {
  "kernelspec": {
   "display_name": "Python 3",
   "language": "python",
   "name": "python3"
  },
  "language_info": {
   "codemirror_mode": {
    "name": "ipython",
    "version": 3
   },
   "file_extension": ".py",
   "mimetype": "text/x-python",
   "name": "python",
   "nbconvert_exporter": "python",
   "pygments_lexer": "ipython3",
   "version": "3.6.3"
  }
 },
 "nbformat": 4,
 "nbformat_minor": 2
}
