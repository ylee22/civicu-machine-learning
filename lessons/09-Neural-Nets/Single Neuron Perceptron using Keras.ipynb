{
 "cells": [
  {
   "cell_type": "code",
   "execution_count": 16,
   "metadata": {},
   "outputs": [
    {
     "data": {
      "image/png": "[encoded data removed]",
      "text/plain": [
       "<matplotlib.figure.Figure at 0x7f6e47958e80>"
      ]
     },
     "metadata": {},
     "output_type": "display_data"
    }
   ],
   "source": [
    "import pandas as pd\n",
    "np = pd.np\n",
    "import matplotlib\n",
    "%matplotlib inline\n",
    "df = pd.read_csv('../shared-resources/heights_weights_genders.csv')\n",
    "df.plot.scatter(x='Height', y='Weight')\n",
    "# !pip install keras\n",
    "import keras"
   ]
  },
  {
   "cell_type": "code",
   "execution_count": 17,
   "metadata": {
    "collapsed": true
   },
   "outputs": [],
   "source": [
    "X = df[['Height', 'Weight']].values\n",
    "y = (df.Gender == 'Female').astype(int)\n",
    "\n",
    "from sklearn.preprocessing import MinMaxScaler\n",
    "\n",
    "scaler = MinMaxScaler()\n",
    "X = scaler.fit_transform(X)"
   ]
  },
  {
   "cell_type": "markdown",
   "metadata": {},
   "source": [
    "### keras documentation:\n",
    "\n",
    "1. [activation functions](https://keras.io/activations/)  \n",
    "2. [loss functions](https://keras.io/losses/)  \n",
    "3. [optimization algorithms](https://keras.io/optimizers/)  "
   ]
  },
  {
   "cell_type": "code",
   "execution_count": 18,
   "metadata": {
    "scrolled": true
   },
   "outputs": [
    {
     "name": "stdout",
     "output_type": "stream",
     "text": [
      "[array([[-1.40812075],\n",
      "       [-1.19805884]], dtype=float32), array([ 0.], dtype=float32)]\n"
     ]
    }
   ],
   "source": [
    "from keras.models import Sequential\n",
    "from keras.layers import Activation, Dense\n",
    "\n",
    "model = Sequential()\n",
    "model.add(Dense(1, input_shape=X.shape[1:]))  # model.layers[0].get_weights()[:].shape: [(2,),]\n",
    "model.add(Activation('linear'))  # relu, softmax, sigmoid\n",
    "model.compile(loss='mean_squared_error', optimizer='sgd') \n",
    "# notice that there are 2 random weights and a bias (initialized to zero), just like we had before\n",
    "print(model.layers[0].get_weights())\n",
    "    \n",
    "    "
   ]
  },
  {
   "cell_type": "code",
   "execution_count": 41,
   "metadata": {},
   "outputs": [
    {
     "name": "stdout",
     "output_type": "stream",
     "text": [
      "Epoch 1/20\n",
      "10000/10000 [==============================] - 0s - loss: 0.0879     \n",
      "Epoch 2/20\n",
      "10000/10000 [==============================] - 0s - loss: 0.0878     \n",
      "Epoch 3/20\n",
      "10000/10000 [==============================] - 0s - loss: 0.0879     \n",
      "Epoch 4/20\n",
      "10000/10000 [==============================] - 0s - loss: 0.0878     \n",
      "Epoch 5/20\n",
      "10000/10000 [==============================] - 0s - loss: 0.0878     \n",
      "Epoch 6/20\n",
      "10000/10000 [==============================] - 0s - loss: 0.0879     \n",
      "Epoch 7/20\n",
      "10000/10000 [==============================] - 0s - loss: 0.0879     \n",
      "Epoch 8/20\n",
      "10000/10000 [==============================] - 0s - loss: 0.0879     \n",
      "Epoch 9/20\n",
      "10000/10000 [==============================] - 0s - loss: 0.0879     \n",
      "Epoch 10/20\n",
      "10000/10000 [==============================] - 0s - loss: 0.0879     \n",
      "Epoch 11/20\n",
      "10000/10000 [==============================] - 0s - loss: 0.0879     \n",
      "Epoch 12/20\n",
      "10000/10000 [==============================] - 0s - loss: 0.0879     \n",
      "Epoch 13/20\n",
      "10000/10000 [==============================] - 0s - loss: 0.0878     \n",
      "Epoch 14/20\n",
      "10000/10000 [==============================] - 0s - loss: 0.0878     \n",
      "Epoch 15/20\n",
      "10000/10000 [==============================] - 0s - loss: 0.0878     \n",
      "Epoch 16/20\n",
      "10000/10000 [==============================] - 0s - loss: 0.0879     \n",
      "Epoch 17/20\n",
      "10000/10000 [==============================] - 0s - loss: 0.0878     \n",
      "Epoch 18/20\n",
      "10000/10000 [==============================] - 0s - loss: 0.0878     \n",
      "Epoch 19/20\n",
      "10000/10000 [==============================] - 0s - loss: 0.0878     \n",
      "Epoch 20/20\n",
      "10000/10000 [==============================] - 0s - loss: 0.0879     \n"
     ]
    },
    {
     "data": {
      "text/plain": [
       "<keras.callbacks.History at 0x7f6e3e66d4e0>"
      ]
     },
     "execution_count": 41,
     "metadata": {},
     "output_type": "execute_result"
    }
   ],
   "source": [
    "model.fit(X, y, epochs=20, batch_size=10)"
   ]
  },
  {
   "cell_type": "code",
   "execution_count": 22,
   "metadata": {},
   "outputs": [
    {
     "name": "stdout",
     "output_type": "stream",
     "text": [
      "(10000, 1)\n",
      "(10000,)\n",
      "0.326112252027\n"
     ]
    },
    {
     "name": "stderr",
     "output_type": "stream",
     "text": [
      "/home/hobs/.virtualenvs/civicu/lib/python3.6/site-packages/ipykernel_launcher.py:4: FutureWarning: reshape is deprecated and will raise in a subsequent release. Please use .values.reshape(...) instead\n",
      "  after removing the cwd from sys.path.\n"
     ]
    }
   ],
   "source": [
    "ypred = model.predict(X)\n",
    "print(ypred.shape)\n",
    "print(y.shape)\n",
    "mad = np.abs(ypred - y.reshape(len(y), 1)).mean()\n",
    "print(mad)"
   ]
  },
  {
   "cell_type": "code",
   "execution_count": 26,
   "metadata": {},
   "outputs": [
    {
     "data": {
      "text/plain": [
       "dtype('float64')"
      ]
     },
     "execution_count": 26,
     "metadata": {},
     "output_type": "execute_result"
    }
   ],
   "source": [
    "# Your turn: compute RMSE and compare to your \"Pure Python\" accuracy\n",
    "df.Height.dtype"
   ]
  },
  {
   "cell_type": "code",
   "execution_count": 39,
   "metadata": {
    "scrolled": true
   },
   "outputs": [
    {
     "name": "stdout",
     "output_type": "stream",
     "text": [
      "(10000,)\n",
      "10000\n"
     ]
    },
    {
     "ename": "IndexError",
     "evalue": "too many indices for array",
     "output_type": "error",
     "traceback": [
      "\u001b[0;31m---------------------------------------------------------------------------\u001b[0m",
      "\u001b[0;31mIndexError\u001b[0m                                Traceback (most recent call last)",
      "\u001b[0;32m<ipython-input-39-aa7c93ae19b2>\u001b[0m in \u001b[0;36m<module>\u001b[0;34m()\u001b[0m\n\u001b[1;32m      2\u001b[0m \u001b[0mprint\u001b[0m\u001b[0;34m(\u001b[0m\u001b[0mX\u001b[0m\u001b[0;34m[\u001b[0m\u001b[0;34m:\u001b[0m\u001b[0;34m,\u001b[0m\u001b[0;36m0\u001b[0m\u001b[0;34m]\u001b[0m\u001b[0;34m.\u001b[0m\u001b[0mshape\u001b[0m\u001b[0;34m)\u001b[0m\u001b[0;34m\u001b[0m\u001b[0m\n\u001b[1;32m      3\u001b[0m \u001b[0mprint\u001b[0m\u001b[0;34m(\u001b[0m\u001b[0mlen\u001b[0m\u001b[0;34m(\u001b[0m\u001b[0mmask\u001b[0m\u001b[0;34m)\u001b[0m\u001b[0;34m)\u001b[0m\u001b[0;34m\u001b[0m\u001b[0m\n\u001b[0;32m----> 4\u001b[0;31m \u001b[0mtypes\u001b[0m \u001b[0;34m=\u001b[0m \u001b[0mX\u001b[0m\u001b[0;34m[\u001b[0m\u001b[0;34m:\u001b[0m\u001b[0;34m,\u001b[0m\u001b[0;36m0\u001b[0m\u001b[0;34m]\u001b[0m\u001b[0;34m.\u001b[0m\u001b[0mT\u001b[0m\u001b[0;34m[\u001b[0m\u001b[0;34m~\u001b[0m\u001b[0mmask\u001b[0m\u001b[0;34m]\u001b[0m\u001b[0;34m.\u001b[0m\u001b[0mapply\u001b[0m\u001b[0;34m(\u001b[0m\u001b[0;32mlambda\u001b[0m \u001b[0mx\u001b[0m\u001b[0;34m:\u001b[0m \u001b[0;32mnot\u001b[0m \u001b[0misinstance\u001b[0m\u001b[0;34m(\u001b[0m\u001b[0mx\u001b[0m\u001b[0;34m,\u001b[0m \u001b[0mfloat\u001b[0m\u001b[0;34m)\u001b[0m\u001b[0;34m)\u001b[0m\u001b[0;34m\u001b[0m\u001b[0m\n\u001b[0m\u001b[1;32m      5\u001b[0m \u001b[0mprint\u001b[0m\u001b[0;34m(\u001b[0m\u001b[0mpd\u001b[0m\u001b[0;34m.\u001b[0m\u001b[0mnp\u001b[0m\u001b[0;34m.\u001b[0m\u001b[0msum\u001b[0m\u001b[0;34m(\u001b[0m\u001b[0mtypes\u001b[0m\u001b[0;34m)\u001b[0m\u001b[0;34m)\u001b[0m\u001b[0;34m\u001b[0m\u001b[0m\n\u001b[1;32m      6\u001b[0m \u001b[0mmask\u001b[0m \u001b[0;34m=\u001b[0m \u001b[0mypred\u001b[0m\u001b[0;34m.\u001b[0m\u001b[0mastype\u001b[0m\u001b[0;34m(\u001b[0m\u001b[0mbool\u001b[0m\u001b[0;34m)\u001b[0m\u001b[0;34m\u001b[0m\u001b[0m\n",
      "\u001b[0;31mIndexError\u001b[0m: too many indices for array"
     ]
    }
   ],
   "source": [
    "# Your turn: plot your results\n",
    "from seaborn.utils import plt\n",
    "plt.lmplot()\n",
    "print(X[:,0].shape)\n",
    "print(len(mask))\n",
    "types = X[:,0].T[~mask].apply(lambda x: not isinstance(x, float))\n",
    "print(pd.np.sum(types))\n",
    "mask = ypred.astype(bool)\n",
    "ax =  pd.DataFrame(X[mask]).plot(kind='scatter', alpha=.5, x=0, y=1, c='red')\n",
    "ax =  pr.DataFrame(X[~mask]).plot(kind='scatter', alpha=.1, x=0, y=1, c='green', ax=ax)"
   ]
  },
  {
   "cell_type": "code",
   "execution_count": null,
   "metadata": {
    "collapsed": true
   },
   "outputs": [],
   "source": [
    "# can you think of a better NN architecture?\n",
    "# Your turn: add another neuron, do you get better accuracy if it's on the same layer (parallel) or on a second layer (in series)\n",
    "# Your turn: now you have a \"budget\" of 3 neurons... give it a go!"
   ]
  },
  {
   "cell_type": "markdown",
   "metadata": {},
   "source": [
    "Try it on the Iris Data!\n",
    "that's multiclass so you need to use `pd.get_dummies`\n",
    "And your last Keras layer needs 3 neurons (3 outputs for the 3 possible classes)"
   ]
  }
 ],
 "metadata": {
  "kernelspec": {
   "display_name": "Python 3",
   "language": "python",
   "name": "python3"
  },
  "language_info": {
   "codemirror_mode": {
    "name": "ipython",
    "version": 3
   },
   "file_extension": ".py",
   "mimetype": "text/x-python",
   "name": "python",
   "nbconvert_exporter": "python",
   "pygments_lexer": "ipython3",
   "version": "3.6.1"
  }
 },
 "nbformat": 4,
 "nbformat_minor": 2
}
