{
 "cells": [
  {
   "cell_type": "markdown",
   "metadata": {},
   "source": [
    "## Final Exam: Hands-On Portion\n",
    "\n",
    "\n",
    "**Instructions**\n",
    "This should take 1 - 2 hours of time. Do your best! We'll be grading not based accuracy, but on comprehension of the problem, the methods noted, and your approach. Good luck! \n",
    "\n",
    "### **The Challenge**\n",
    "\n",
    "The executive team is interested in a user class called **\"Adopted Users\"** for its cloud project collaboration platform. \n",
    "\n",
    "What's an \"Adopted User\"?\n",
    "- The team has defined this as a user who **logs in at least once a day across 3 days in seven day period**. \n",
    "\n",
    "- This means, Chris is a super user if he logs in on Monday, Wednesday and Friday. He's also a super user if he logs in Tuesday, Friday, then the following Monday. Thus the problem deals with \"rolling\" periods. \n",
    "\n",
    "**A. Use time-series data in the table \"user_engagement.csv\" to tag these users**.\n",
    "\n",
    "After identifying these users, the team would like to find out: \n",
    "\n",
    "**B. \"What factors drives users to become 'Adopted Users'\"? **\n",
    "\n",
    "This means a mixture of exploratory data analysis, feature engineer, model, crossvalidation and parameter tuning, and finally running feature importance. Feel free to use your creativity and explore and think through other potential solutions.\n",
    "\n"
   ]
  },
  {
   "cell_type": "markdown",
   "metadata": {},
   "source": [
    "## Read Essentials"
   ]
  },
  {
   "cell_type": "code",
   "execution_count": 324,
   "metadata": {
    "collapsed": true
   },
   "outputs": [],
   "source": [
    "import pandas as pd\n",
    "import numpy as np\n",
    "from matplotlib import pyplot as plt\n",
    "%matplotlib inline\n",
    "\n",
    "raw_users = pd.read_csv('./users.csv', encoding='latin-1')\n",
    "raw_user_engagement = pd.read_csv('./user_engagement.csv')"
   ]
  },
  {
   "cell_type": "markdown",
   "metadata": {},
   "source": [
    "**Data Dictionary:**\n",
    "\n",
    "A. user_engagement.csv\n",
    "- time_stamp: mm/dd/yyy hh:mm:ss\n",
    "- user_id\n",
    "- visited: 1, indicating that they visited \n",
    "\n",
    "B. users.csv\n",
    "- name:  the  user's  name\n",
    "- object_id: the  user's  id\n",
    "- email: email address\n",
    "-  creation_source: How was account created?\n",
    "    - personal_projects: invited to join another user's personal workspace\n",
    "    - guest_invite: invited to an organization as a guest (limited permissions)\n",
    "    - org_invite: invited to an organization (as a full member)\n",
    "    - signup: signed up via the website\n",
    "    - signup_google_auth: signed up using google authentication (using a google email account for their login id)\n",
    "    \n",
    "- creation_time:  when  they  created  their  account\n",
    "- last_session_creation_time:   unix  timestamp  of  last  login\n",
    "- opted_in_to_mailing_list:  whether  they  have  opted  into  receiving\n",
    "marketing  emails\n",
    "- enabled_for_marketing_drip:  whether  they  are  on  the  regular\n",
    "marketing  email  drip\n",
    "- org_id:   the  organization  (group  of  users)  they  belong  to\n",
    "- invited_by_user_id:   which  user  invited  them  to  join  (if  applicable).\n"
   ]
  },
  {
   "cell_type": "markdown",
   "metadata": {},
   "source": [
    "## 1. Explore \n",
    "1. User Desribe and Head to explore your two datasets\n",
    "2. create a few bar plots to explore your data\n",
    "- [Some ideas](https://machinelearningmastery.com/quick-and-dirty-data-analysis-with-pandas/)\n",
    "3. How many unique user_ids are there in each table? in both?\n",
    "\n",
    "List out some cleansing steps and note things you might have to have you do in order to get your data set into a feature frame and a target frame.\n",
    "\n",
    "Helpful functions: \n",
    "- is.in, groupby, plot.bar()"
   ]
  },
  {
   "cell_type": "code",
   "execution_count": 2,
   "metadata": {},
   "outputs": [
    {
     "data": {
      "text/html": [
       "<div>\n",
       "<style>\n",
       "    .dataframe thead tr:only-child th {\n",
       "        text-align: right;\n",
       "    }\n",
       "\n",
       "    .dataframe thead th {\n",
       "        text-align: left;\n",
       "    }\n",
       "\n",
       "    .dataframe tbody tr th {\n",
       "        vertical-align: top;\n",
       "    }\n",
       "</style>\n",
       "<table border=\"1\" class=\"dataframe\">\n",
       "  <thead>\n",
       "    <tr style=\"text-align: right;\">\n",
       "      <th></th>\n",
       "      <th>object_id</th>\n",
       "      <th>creation_time</th>\n",
       "      <th>name</th>\n",
       "      <th>email</th>\n",
       "      <th>creation_source</th>\n",
       "      <th>last_session_creation_time</th>\n",
       "      <th>opted_in_to_mailing_list</th>\n",
       "      <th>enabled_for_marketing_drip</th>\n",
       "      <th>org_id</th>\n",
       "      <th>invited_by_user_id</th>\n",
       "    </tr>\n",
       "  </thead>\n",
       "  <tbody>\n",
       "    <tr>\n",
       "      <th>0</th>\n",
       "      <td>1</td>\n",
       "      <td>4/22/2014 3:53</td>\n",
       "      <td>Clausen August</td>\n",
       "      <td>AugustCClausen@yahoo.com</td>\n",
       "      <td>GUEST_INVITE</td>\n",
       "      <td>1.398139e+09</td>\n",
       "      <td>1</td>\n",
       "      <td>0</td>\n",
       "      <td>11</td>\n",
       "      <td>10803.0</td>\n",
       "    </tr>\n",
       "    <tr>\n",
       "      <th>1</th>\n",
       "      <td>2</td>\n",
       "      <td>11/15/2013 3:45</td>\n",
       "      <td>Poole Matthew</td>\n",
       "      <td>MatthewPoole@gustr.com</td>\n",
       "      <td>ORG_INVITE</td>\n",
       "      <td>1.396238e+09</td>\n",
       "      <td>0</td>\n",
       "      <td>0</td>\n",
       "      <td>1</td>\n",
       "      <td>316.0</td>\n",
       "    </tr>\n",
       "    <tr>\n",
       "      <th>2</th>\n",
       "      <td>3</td>\n",
       "      <td>3/19/2013 23:14</td>\n",
       "      <td>Bottrill Mitchell</td>\n",
       "      <td>MitchellBottrill@gustr.com</td>\n",
       "      <td>ORG_INVITE</td>\n",
       "      <td>1.363735e+09</td>\n",
       "      <td>0</td>\n",
       "      <td>0</td>\n",
       "      <td>94</td>\n",
       "      <td>1525.0</td>\n",
       "    </tr>\n",
       "    <tr>\n",
       "      <th>3</th>\n",
       "      <td>4</td>\n",
       "      <td>5/21/2013 8:09</td>\n",
       "      <td>Clausen Nicklas</td>\n",
       "      <td>NicklasSClausen@yahoo.com</td>\n",
       "      <td>GUEST_INVITE</td>\n",
       "      <td>1.369210e+09</td>\n",
       "      <td>0</td>\n",
       "      <td>0</td>\n",
       "      <td>1</td>\n",
       "      <td>5151.0</td>\n",
       "    </tr>\n",
       "    <tr>\n",
       "      <th>4</th>\n",
       "      <td>5</td>\n",
       "      <td>1/17/2013 10:14</td>\n",
       "      <td>Raw Grace</td>\n",
       "      <td>GraceRaw@yahoo.com</td>\n",
       "      <td>GUEST_INVITE</td>\n",
       "      <td>1.358850e+09</td>\n",
       "      <td>0</td>\n",
       "      <td>0</td>\n",
       "      <td>193</td>\n",
       "      <td>5240.0</td>\n",
       "    </tr>\n",
       "  </tbody>\n",
       "</table>\n",
       "</div>"
      ],
      "text/plain": [
       "   object_id    creation_time               name                       email  \\\n",
       "0          1   4/22/2014 3:53     Clausen August    AugustCClausen@yahoo.com   \n",
       "1          2  11/15/2013 3:45      Poole Matthew      MatthewPoole@gustr.com   \n",
       "2          3  3/19/2013 23:14  Bottrill Mitchell  MitchellBottrill@gustr.com   \n",
       "3          4   5/21/2013 8:09    Clausen Nicklas   NicklasSClausen@yahoo.com   \n",
       "4          5  1/17/2013 10:14          Raw Grace          GraceRaw@yahoo.com   \n",
       "\n",
       "  creation_source  last_session_creation_time  opted_in_to_mailing_list  \\\n",
       "0    GUEST_INVITE                1.398139e+09                         1   \n",
       "1      ORG_INVITE                1.396238e+09                         0   \n",
       "2      ORG_INVITE                1.363735e+09                         0   \n",
       "3    GUEST_INVITE                1.369210e+09                         0   \n",
       "4    GUEST_INVITE                1.358850e+09                         0   \n",
       "\n",
       "   enabled_for_marketing_drip  org_id  invited_by_user_id  \n",
       "0                           0      11             10803.0  \n",
       "1                           0       1               316.0  \n",
       "2                           0      94              1525.0  \n",
       "3                           0       1              5151.0  \n",
       "4                           0     193              5240.0  "
      ]
     },
     "execution_count": 2,
     "metadata": {},
     "output_type": "execute_result"
    }
   ],
   "source": [
    "raw_users.head()"
   ]
  },
  {
   "cell_type": "code",
   "execution_count": 3,
   "metadata": {},
   "outputs": [
    {
     "data": {
      "text/html": [
       "<div>\n",
       "<style>\n",
       "    .dataframe thead tr:only-child th {\n",
       "        text-align: right;\n",
       "    }\n",
       "\n",
       "    .dataframe thead th {\n",
       "        text-align: left;\n",
       "    }\n",
       "\n",
       "    .dataframe tbody tr th {\n",
       "        vertical-align: top;\n",
       "    }\n",
       "</style>\n",
       "<table border=\"1\" class=\"dataframe\">\n",
       "  <thead>\n",
       "    <tr style=\"text-align: right;\">\n",
       "      <th></th>\n",
       "      <th>time_stamp</th>\n",
       "      <th>user_id</th>\n",
       "      <th>visited</th>\n",
       "    </tr>\n",
       "  </thead>\n",
       "  <tbody>\n",
       "    <tr>\n",
       "      <th>0</th>\n",
       "      <td>2014-04-22 03:53:30</td>\n",
       "      <td>1</td>\n",
       "      <td>1</td>\n",
       "    </tr>\n",
       "    <tr>\n",
       "      <th>1</th>\n",
       "      <td>2013-11-15 03:45:04</td>\n",
       "      <td>2</td>\n",
       "      <td>1</td>\n",
       "    </tr>\n",
       "    <tr>\n",
       "      <th>2</th>\n",
       "      <td>2013-11-29 03:45:04</td>\n",
       "      <td>2</td>\n",
       "      <td>1</td>\n",
       "    </tr>\n",
       "    <tr>\n",
       "      <th>3</th>\n",
       "      <td>2013-12-09 03:45:04</td>\n",
       "      <td>2</td>\n",
       "      <td>1</td>\n",
       "    </tr>\n",
       "    <tr>\n",
       "      <th>4</th>\n",
       "      <td>2013-12-25 03:45:04</td>\n",
       "      <td>2</td>\n",
       "      <td>1</td>\n",
       "    </tr>\n",
       "  </tbody>\n",
       "</table>\n",
       "</div>"
      ],
      "text/plain": [
       "            time_stamp  user_id  visited\n",
       "0  2014-04-22 03:53:30        1        1\n",
       "1  2013-11-15 03:45:04        2        1\n",
       "2  2013-11-29 03:45:04        2        1\n",
       "3  2013-12-09 03:45:04        2        1\n",
       "4  2013-12-25 03:45:04        2        1"
      ]
     },
     "execution_count": 3,
     "metadata": {},
     "output_type": "execute_result"
    }
   ],
   "source": [
    "raw_user_engagement.head()"
   ]
  },
  {
   "cell_type": "code",
   "execution_count": 190,
   "metadata": {},
   "outputs": [
    {
     "data": {
      "text/plain": [
       "0   2014-04-22 03:53:30\n",
       "1   2013-11-15 03:45:04\n",
       "2   2013-11-29 03:45:04\n",
       "3   2013-12-09 03:45:04\n",
       "4   2013-12-25 03:45:04\n",
       "Name: time_stamp, dtype: datetime64[ns]"
      ]
     },
     "execution_count": 190,
     "metadata": {},
     "output_type": "execute_result"
    }
   ],
   "source": [
    "# PART 1\n",
    "# determine super user (someone who logs in at least 3 different days in 7 day period)\n",
    "# *** as long as the user has at least once achieved super user status, they're permanently a super user\n",
    "# *** meaning that they don't have to continuously log in 3 different days in 7 day period for the rest of the time\n",
    "\n",
    "# PART 2\n",
    "# identify features of a super user\n",
    "\n",
    "# there are 12000 users\n",
    "raw_user_engagement.user_id.describe()\n",
    "\n",
    "# turn time stamps into usable data\n",
    "x = pd.to_datetime(raw_user_engagement.time_stamp)"
   ]
  },
  {
   "cell_type": "markdown",
   "metadata": {},
   "source": [
    "## 2.  Create your Target Variable\n",
    "1. You want to use a combination of steps to create a rolling 7 day period window. This rolling window of 7 days should count the number of log-ins. \n",
    "2. (optional) Execute any additional Exploratory Data analysis (EDA) you wish:\n",
    "\n",
    "        Exploratory Data Analysis (EDA) is used on the one hand to answer questions, test business assumptions, generate hypotheses for further analysis. On the other hand, you can also use it to prepare the data for modeling. The thing that these two probably have in common is a good knowledge of your data to either get the answers that you need or to develop an intuition for interpreting the results of future modeling.\n",
    "\n",
    "\n",
    "A few helpful methods in pandas\n",
    "- [to_period](https://stackoverflow.com/questions/23840797/convert-a-column-of-timestamps-into-periods-in-pandas)\n",
    "- [groupby](https://www.google.com/search?q=groupby&oq=groupby&aqs=chrome..69i57j0l2j69i60l3.1487j1j4&sourceid=chrome&ie=UTF-8)\n",
    "- [resample](http://pandas.pydata.org/pandas-docs/version/0.17.0/generated/pandas.DataFrame.resample.html)\n",
    "- [rolling](http://pandas.pydata.org/pandas-docs/stable/computation.html#window-functions)\n",
    "\n",
    "Inputs:\n",
    "- user_engagement\n",
    "\n",
    "Output: \n",
    "- Call your target dataframe \"target\"\n"
   ]
  },
  {
   "cell_type": "code",
   "execution_count": 154,
   "metadata": {},
   "outputs": [],
   "source": [
    "user_engagement = raw_user_engagement\n",
    "user_engagement['time_stamp'] = x\n",
    "\n",
    "u_dict = {}\n",
    "\n",
    "# shove each user log history into dictionary, only if they have at least 3 log ins\n",
    "for u in user_engagement.user_id:\n",
    "    if len(user_engagement[user_engagement.user_id==u]) > 2:\n",
    "        u_dict[u] = user_engagement[user_engagement.user_id==u]\n",
    "    "
   ]
  },
  {
   "cell_type": "code",
   "execution_count": 289,
   "metadata": {},
   "outputs": [
    {
     "name": "stderr",
     "output_type": "stream",
     "text": [
      "/Users/leey/anaconda3/lib/python3.6/site-packages/ipykernel_launcher.py:11: FutureWarning: how in .resample() is deprecated\n",
      "the new syntax is .resample(...)..apply(<func>)\n",
      "  # This is added back by InteractiveShellApp.init_path()\n"
     ]
    }
   ],
   "source": [
    "# for each user history, fill each recorded time with 1, and fill 0 for the rest of the days\n",
    "# get users for sum > 3\n",
    "\n",
    "super_users = []\n",
    "for k in u_dict.keys():\n",
    "    temp = pd.DataFrame(np.ones([len(u_dict[k]), 1]))\n",
    "    temp.columns = ['visited']\n",
    "    # set the index with the timestamp\n",
    "    temp = temp.set_index(u_dict[k].time_stamp.dt.date)\n",
    "    temp.index = pd.to_datetime(temp.index)\n",
    "    temp = temp.resample('1D', how=lambda x: x.mean() if len(x) > 0 else 0)\n",
    "    # if user logged in for 3 days in 7 days, then sum should be at least 1\n",
    "    num_super_visit = (temp.rolling(window=7, min_periods=0).sum() > 2).sum()[0]\n",
    "    if num_super_visit > 0:\n",
    "        super_users.append(k)"
   ]
  },
  {
   "cell_type": "code",
   "execution_count": 297,
   "metadata": {},
   "outputs": [
    {
     "name": "stdout",
     "output_type": "stream",
     "text": [
      "1594\n",
      "2007\n",
      "[2, 10, 20, 33, 42, 43, 50, 53, 63, 69]\n"
     ]
    }
   ],
   "source": [
    "print(len(super_users))\n",
    "print(len(u_dict.keys()))\n",
    "print(super_users[:10])"
   ]
  },
  {
   "cell_type": "code",
   "execution_count": 295,
   "metadata": {
    "collapsed": true
   },
   "outputs": [],
   "source": [
    "target = raw_users[raw_users.object_id.isin(super_users)]"
   ]
  },
  {
   "cell_type": "code",
   "execution_count": 301,
   "metadata": {},
   "outputs": [
    {
     "name": "stdout",
     "output_type": "stream",
     "text": [
      "(1594, 10)\n"
     ]
    },
    {
     "data": {
      "text/html": [
       "<div>\n",
       "<style>\n",
       "    .dataframe thead tr:only-child th {\n",
       "        text-align: right;\n",
       "    }\n",
       "\n",
       "    .dataframe thead th {\n",
       "        text-align: left;\n",
       "    }\n",
       "\n",
       "    .dataframe tbody tr th {\n",
       "        vertical-align: top;\n",
       "    }\n",
       "</style>\n",
       "<table border=\"1\" class=\"dataframe\">\n",
       "  <thead>\n",
       "    <tr style=\"text-align: right;\">\n",
       "      <th></th>\n",
       "      <th>object_id</th>\n",
       "      <th>creation_time</th>\n",
       "      <th>name</th>\n",
       "      <th>email</th>\n",
       "      <th>creation_source</th>\n",
       "      <th>last_session_creation_time</th>\n",
       "      <th>opted_in_to_mailing_list</th>\n",
       "      <th>enabled_for_marketing_drip</th>\n",
       "      <th>org_id</th>\n",
       "      <th>invited_by_user_id</th>\n",
       "    </tr>\n",
       "  </thead>\n",
       "  <tbody>\n",
       "    <tr>\n",
       "      <th>1</th>\n",
       "      <td>2</td>\n",
       "      <td>11/15/2013 3:45</td>\n",
       "      <td>Poole Matthew</td>\n",
       "      <td>MatthewPoole@gustr.com</td>\n",
       "      <td>ORG_INVITE</td>\n",
       "      <td>1.396238e+09</td>\n",
       "      <td>0</td>\n",
       "      <td>0</td>\n",
       "      <td>1</td>\n",
       "      <td>316.0</td>\n",
       "    </tr>\n",
       "    <tr>\n",
       "      <th>9</th>\n",
       "      <td>10</td>\n",
       "      <td>1/16/2013 22:08</td>\n",
       "      <td>Santos Carla</td>\n",
       "      <td>CarlaFerreiraSantos@gustr.com</td>\n",
       "      <td>ORG_INVITE</td>\n",
       "      <td>1.401833e+09</td>\n",
       "      <td>1</td>\n",
       "      <td>1</td>\n",
       "      <td>318</td>\n",
       "      <td>4143.0</td>\n",
       "    </tr>\n",
       "    <tr>\n",
       "      <th>19</th>\n",
       "      <td>20</td>\n",
       "      <td>3/6/2014 11:46</td>\n",
       "      <td>Helms Mikayla</td>\n",
       "      <td>lqyvjilf@uhzdq.com</td>\n",
       "      <td>SIGNUP</td>\n",
       "      <td>1.401364e+09</td>\n",
       "      <td>0</td>\n",
       "      <td>0</td>\n",
       "      <td>58</td>\n",
       "      <td>NaN</td>\n",
       "    </tr>\n",
       "    <tr>\n",
       "      <th>32</th>\n",
       "      <td>33</td>\n",
       "      <td>3/11/2014 6:29</td>\n",
       "      <td>Araujo José</td>\n",
       "      <td>JoseMartinsAraujo@cuvox.de</td>\n",
       "      <td>GUEST_INVITE</td>\n",
       "      <td>1.401518e+09</td>\n",
       "      <td>0</td>\n",
       "      <td>0</td>\n",
       "      <td>401</td>\n",
       "      <td>79.0</td>\n",
       "    </tr>\n",
       "    <tr>\n",
       "      <th>41</th>\n",
       "      <td>42</td>\n",
       "      <td>11/11/2012 19:05</td>\n",
       "      <td>Pinto Giovanna</td>\n",
       "      <td>GiovannaCunhaPinto@cuvox.de</td>\n",
       "      <td>SIGNUP</td>\n",
       "      <td>1.401045e+09</td>\n",
       "      <td>1</td>\n",
       "      <td>0</td>\n",
       "      <td>235</td>\n",
       "      <td>NaN</td>\n",
       "    </tr>\n",
       "  </tbody>\n",
       "</table>\n",
       "</div>"
      ],
      "text/plain": [
       "    object_id     creation_time            name  \\\n",
       "1           2   11/15/2013 3:45   Poole Matthew   \n",
       "9          10   1/16/2013 22:08    Santos Carla   \n",
       "19         20    3/6/2014 11:46   Helms Mikayla   \n",
       "32         33    3/11/2014 6:29     Araujo José   \n",
       "41         42  11/11/2012 19:05  Pinto Giovanna   \n",
       "\n",
       "                            email creation_source  last_session_creation_time  \\\n",
       "1          MatthewPoole@gustr.com      ORG_INVITE                1.396238e+09   \n",
       "9   CarlaFerreiraSantos@gustr.com      ORG_INVITE                1.401833e+09   \n",
       "19             lqyvjilf@uhzdq.com          SIGNUP                1.401364e+09   \n",
       "32     JoseMartinsAraujo@cuvox.de    GUEST_INVITE                1.401518e+09   \n",
       "41    GiovannaCunhaPinto@cuvox.de          SIGNUP                1.401045e+09   \n",
       "\n",
       "    opted_in_to_mailing_list  enabled_for_marketing_drip  org_id  \\\n",
       "1                          0                           0       1   \n",
       "9                          1                           1     318   \n",
       "19                         0                           0      58   \n",
       "32                         0                           0     401   \n",
       "41                         1                           0     235   \n",
       "\n",
       "    invited_by_user_id  \n",
       "1                316.0  \n",
       "9               4143.0  \n",
       "19                 NaN  \n",
       "32                79.0  \n",
       "41                 NaN  "
      ]
     },
     "execution_count": 301,
     "metadata": {},
     "output_type": "execute_result"
    }
   ],
   "source": [
    "print(target.shape)\n",
    "target.head()"
   ]
  },
  {
   "cell_type": "markdown",
   "metadata": {},
   "source": [
    "## 3. Data Cleanse  + Feature Engineering:\n",
    "- Are there any steps you need to take to cleanse the data some more?\n",
    "- Do you need to apply any masks?\n",
    "- Do you need to take care of missing data? \n",
    "- Anything you need to drop? Things that don't make sense to include as a feature? .drop(['col1','col2'], axis = 1)\n",
    "- Can you think of any features to create?\n",
    "- do you need to one hot encode? pd.get_dummies or OneHotEncode from sklearn\n",
    "\n",
    "Other useful functions:\n",
    "- pd.concat([df1,df2], axis = 1) -- this will bind two dataframes column wise\n",
    "\n",
    "Outputs: \n",
    "- y, your target \n",
    "- X, a dataframe for features"
   ]
  },
  {
   "cell_type": "code",
   "execution_count": 325,
   "metadata": {},
   "outputs": [],
   "source": [
    "users = raw_users \n",
    "\n",
    "# target has the super users\n",
    "# I have to re-encode user id to true/false (super user/not super user)\n",
    "users.loc[~raw_users.object_id.isin(super_users),'object_id']=0\n",
    "users.loc[raw_users.object_id.isin(super_users), 'object_id']=1\n",
    "\n",
    "# select features to detect super user id (object_id)\n",
    "X = users[['opted_in_to_mailing_list','enabled_for_marketing_drip','org_id']]\n",
    "y = users.object_id"
   ]
  },
  {
   "cell_type": "code",
   "execution_count": 326,
   "metadata": {},
   "outputs": [
    {
     "data": {
      "text/plain": [
       "count    12000.000000\n",
       "mean         0.132833\n",
       "std          0.339409\n",
       "min          0.000000\n",
       "25%          0.000000\n",
       "50%          0.000000\n",
       "75%          0.000000\n",
       "max          1.000000\n",
       "Name: object_id, dtype: float64"
      ]
     },
     "execution_count": 326,
     "metadata": {},
     "output_type": "execute_result"
    }
   ],
   "source": [
    "y.describe()"
   ]
  },
  {
   "cell_type": "markdown",
   "metadata": {},
   "source": [
    "### 4.Train Test Split\n",
    "- use \"train_test_split\" from sklearn.model_selection.\n",
    "- use random_state = 100 \n",
    "- test_size = .15"
   ]
  },
  {
   "cell_type": "code",
   "execution_count": 344,
   "metadata": {},
   "outputs": [
    {
     "data": {
      "text/plain": [
       "((10200, 3), (10200,), (1800, 3), (1800,))"
      ]
     },
     "execution_count": 344,
     "metadata": {},
     "output_type": "execute_result"
    }
   ],
   "source": [
    "from sklearn.model_selection import train_test_split, GridSearchCV, RandomizedSearchCV\n",
    "\n",
    "X_train, X_test, y_train, y_test = train_test_split(X, y, test_size = .15, random_state = 100)\n",
    "X_train.shape,y_train.shape, X_test.shape, y_test.shape,"
   ]
  },
  {
   "cell_type": "markdown",
   "metadata": {},
   "source": [
    "### 5. Modeling\n",
    "- Choose 1 or 2 classifier (or regressors, depending on what your target variable is)\n",
    "- use some cross validation and parameter optimization techiniques[hints here](https://github.com/hackoregon/civicu-machine-learning/blob/master/lessons/13-Hyperparameter-Optimization/Class%2013%20-%20Part%201%2C%20Hyper%20Parameter%20Tuning.ipynb):\n",
    "    - cross validaiton\n",
    "    - manaul search \n",
    "    - random search or gridsearch\n",
    "- choose a scoring method (depends on classificaton or regression task)\n",
    "\n",
    "\n",
    "\n",
    "Hint:\n",
    "- If your gridsearch doesn't work, try X_train.values y_train.values"
   ]
  },
  {
   "cell_type": "code",
   "execution_count": 336,
   "metadata": {},
   "outputs": [
    {
     "data": {
      "text/plain": [
       "0.85611111111111116"
      ]
     },
     "execution_count": 336,
     "metadata": {},
     "output_type": "execute_result"
    }
   ],
   "source": [
    "# use randomforest\n",
    "from sklearn.ensemble import RandomForestClassifier\n",
    "\n",
    "clf = RandomForestClassifier(n_jobs=-1, n_estimators = 10)\n",
    "clf.fit(X_train,y_train)\n",
    "clf.score(X_test, y_test)"
   ]
  },
  {
   "cell_type": "code",
   "execution_count": 337,
   "metadata": {
    "collapsed": true
   },
   "outputs": [],
   "source": [
    "def explore_grid (param_grid):\n",
    "    clf = RandomForestClassifier(n_jobs=-1, n_estimators = 10)\n",
    "    grid_explore = GridSearchCV(\n",
    "        clf,\n",
    "        param_grid,\n",
    "        cv=4,\n",
    "        scoring='accuracy')\n",
    "    grid_explore.fit(X_train, y_train)\n",
    "    return pd.DataFrame(grid_explore.grid_scores_)[['parameters','mean_validation_score']]"
   ]
  },
  {
   "cell_type": "code",
   "execution_count": 340,
   "metadata": {},
   "outputs": [
    {
     "name": "stderr",
     "output_type": "stream",
     "text": [
      "/Users/leey/anaconda3/lib/python3.6/site-packages/sklearn/model_selection/_search.py:761: DeprecationWarning: The grid_scores_ attribute was deprecated in version 0.18 in favor of the more elaborate cv_results_ attribute. The grid_scores_ attribute will not be available from 0.20\n",
      "  DeprecationWarning)\n"
     ]
    },
    {
     "data": {
      "text/plain": [
       "<matplotlib.axes._subplots.AxesSubplot at 0x129f6f080>"
      ]
     },
     "execution_count": 340,
     "metadata": {},
     "output_type": "execute_result"
    },
    {
     "data": {
      "image/png": "[encoded data removed]",
      "text/plain": [
       "<matplotlib.figure.Figure at 0x129f0e198>"
      ]
     },
     "metadata": {},
     "output_type": "display_data"
    }
   ],
   "source": [
    "max_depth_explore = explore_grid([{\"max_depth\": np.arange(1,20)}])\n",
    "max_depth_explore.plot()"
   ]
  },
  {
   "cell_type": "code",
   "execution_count": 342,
   "metadata": {},
   "outputs": [
    {
     "name": "stderr",
     "output_type": "stream",
     "text": [
      "/Users/leey/anaconda3/lib/python3.6/site-packages/sklearn/model_selection/_search.py:761: DeprecationWarning: The grid_scores_ attribute was deprecated in version 0.18 in favor of the more elaborate cv_results_ attribute. The grid_scores_ attribute will not be available from 0.20\n",
      "  DeprecationWarning)\n"
     ]
    },
    {
     "data": {
      "text/plain": [
       "<matplotlib.axes._subplots.AxesSubplot at 0x12baa1940>"
      ]
     },
     "execution_count": 342,
     "metadata": {},
     "output_type": "execute_result"
    },
    {
     "data": {
      "image/png": "[encoded data removed]",
      "text/plain": [
       "<matplotlib.figure.Figure at 0x129f63240>"
      ]
     },
     "metadata": {},
     "output_type": "display_data"
    }
   ],
   "source": [
    "max_depth_explore = explore_grid([{\"n_estimators\": np.arange(1,30)}])\n",
    "max_depth_explore.plot()"
   ]
  },
  {
   "cell_type": "code",
   "execution_count": 345,
   "metadata": {},
   "outputs": [
    {
     "data": {
      "text/plain": [
       "RandomizedSearchCV(cv=4, error_score='raise',\n",
       "          estimator=RandomForestClassifier(bootstrap=True, class_weight=None, criterion='gini',\n",
       "            max_depth=None, max_features='auto', max_leaf_nodes=None,\n",
       "            min_impurity_decrease=0.0, min_impurity_split=None,\n",
       "            min_samples_leaf=1, min_samples_split=2,\n",
       "            min_weight_fraction_leaf=0.0, n_estimators=10, n_jobs=-1,\n",
       "            oob_score=False, random_state=None, verbose=0,\n",
       "            warm_start=False),\n",
       "          fit_params=None, iid=True, n_iter=7, n_jobs=1,\n",
       "          param_distributions={'max_depth': array([1, 2, 3, 4, 5]), 'n_estimators': array([5, 6, 7, 8, 9])},\n",
       "          pre_dispatch='2*n_jobs', random_state=None, refit=True,\n",
       "          return_train_score='warn', scoring=None, verbose=0)"
      ]
     },
     "execution_count": 345,
     "metadata": {},
     "output_type": "execute_result"
    }
   ],
   "source": [
    "\n",
    "param_dist = {\"max_depth\": np.arange(1,6),\n",
    "              \"n_estimators\": np.arange(5,10)\n",
    "             }\n",
    "\n",
    "clf = RandomForestClassifier(n_jobs=-1)\n",
    "\n",
    "# run randomized search\n",
    "n_iter_search = 7\n",
    "random_search = RandomizedSearchCV(clf, param_distributions=param_dist,\n",
    "                                   cv=4,\n",
    "                                   n_iter=n_iter_search)\n",
    "random_search.fit(X, y)"
   ]
  },
  {
   "cell_type": "code",
   "execution_count": 347,
   "metadata": {},
   "outputs": [
    {
     "data": {
      "text/plain": [
       "0.87111111111111106"
      ]
     },
     "execution_count": 347,
     "metadata": {},
     "output_type": "execute_result"
    }
   ],
   "source": [
    "random_search.best_estimator_.score(X_test,y_test)"
   ]
  },
  {
   "cell_type": "code",
   "execution_count": 348,
   "metadata": {},
   "outputs": [
    {
     "data": {
      "text/plain": [
       "array([ 0.00958585,  0.02025067,  0.97016348])"
      ]
     },
     "execution_count": 348,
     "metadata": {},
     "output_type": "execute_result"
    }
   ],
   "source": [
    "random_search.best_estimator_.feature_importances_"
   ]
  },
  {
   "cell_type": "markdown",
   "metadata": {},
   "source": [
    "### 6. Test Performance on holdout data  (x_test, y_test)\n",
    "1. Which performance metric would you use for this?\n",
    "2. Bring up confusion matrix from confusion matrix and classification report"
   ]
  },
  {
   "cell_type": "code",
   "execution_count": 71,
   "metadata": {
    "collapsed": true
   },
   "outputs": [],
   "source": [
    "from sklearn.metrics import classification_report, confusion_matrix\n",
    "\n",
    "\n",
    "#y_pred_in =  # your predictions\n",
    "#y_test_in =  # your true ys\n",
    "#print(classification_report(y_pred=y_pred_in, y_true=y_test_in))\n",
    "#print(confusion_matrix(y_pred=y_pred_in, y_true=y_test_in))"
   ]
  },
  {
   "cell_type": "markdown",
   "metadata": {},
   "source": [
    "### 7. Feature Importance\n",
    "- Goal: Create a table with two columns: Variable and Importance. Sort by Importance. \n",
    "- Use either [permutation Feature Importance (may take a while)](https://github.com/hackoregon/civicu-machine-learning/blob/master/lessons/13-Hyperparameter-Optimization/Class%2013%20-%20Part%202%2C%20Permutation%20Feature%20Importance.ipynb) or [RandomForest's Feature Importance method](http://scikit-learn.org/stable/modules/generated/sklearn.tree.DecisionTreeClassifier.html)"
   ]
  },
  {
   "cell_type": "code",
   "execution_count": 70,
   "metadata": {
    "scrolled": true
   },
   "outputs": [
    {
     "data": {
      "text/html": [
       "<div>\n",
       "<table border=\"1\" class=\"dataframe\">\n",
       "  <thead>\n",
       "    <tr style=\"text-align: right;\">\n",
       "      <th></th>\n",
       "      <th>Variable</th>\n",
       "      <th>Importance</th>\n",
       "    </tr>\n",
       "  </thead>\n",
       "  <tbody>\n",
       "  </tbody>\n",
       "</table>\n",
       "</div>"
      ],
      "text/plain": [
       "Empty DataFrame\n",
       "Columns: [Variable, Importance]\n",
       "Index: []"
      ]
     },
     "execution_count": 70,
     "metadata": {},
     "output_type": "execute_result"
    }
   ],
   "source": [
    "importance = pd.DataFrame(\n",
    "    {'Variable': [], \n",
    "     'Importance':[]},\n",
    "    columns = [\"Variable\", \"Importance\"])\\\n",
    "    .sort_values('Importance', ascending = False)\n",
    "importance"
   ]
  },
  {
   "cell_type": "markdown",
   "metadata": {},
   "source": [
    "### 8. Story Telling\n",
    "- What are your next steps now? \n",
    "- What do you want to tell leadership?\n",
    "- How confident are you with this information?\n",
    "- Are there additional steps or data sets that you'd like to perform?\n",
    "\n",
    "Write 1 to 2 paragraphs or a a few bullet points discussing the above."
   ]
  }
 ],
 "metadata": {
  "kernelspec": {
   "display_name": "Python 3",
   "language": "python",
   "name": "python3"
  },
  "language_info": {
   "codemirror_mode": {
    "name": "ipython",
    "version": 3
   },
   "file_extension": ".py",
   "mimetype": "text/x-python",
   "name": "python",
   "nbconvert_exporter": "python",
   "pygments_lexer": "ipython3",
   "version": "3.6.1"
  }
 },
 "nbformat": 4,
 "nbformat_minor": 2
}
