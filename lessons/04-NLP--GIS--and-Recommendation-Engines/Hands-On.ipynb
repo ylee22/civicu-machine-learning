{
 "cells": [
  {
   "cell_type": "markdown",
   "metadata": {},
   "source": [
    "# Hands-on NLP and Naive Bayes\n",
    "\n",
    "Prepared by Chris Gian for Hack Oregon's Week \n",
    "Sources:\n",
    "- Based mostly on: [Lab 10 of Harvard's CS109](https://github.com/cs109/2015lab10) class. \n",
    "- Adapted for use with sklearn way of text processing: [Working With Text Data](http://scikit-learn.org/stable/tutorial/text_analytics/working_with_text_data.html)\n",
    "- Hobson Lane's book: [NLP in Action](https://www.manning.com/books/natural-language-processing-in-action)\n",
    "\n",
    "## Setting up"
   ]
  },
  {
   "cell_type": "code",
   "execution_count": 1,
   "metadata": {
    "collapsed": true
   },
   "outputs": [],
   "source": [
    "import requests\n",
    "import pandas as pd\n",
    "import numpy as np\n",
    "\n",
    "from sklearn.naive_bayes import MultinomialNB\n",
    "\n",
    "from sklearn.feature_extraction.text import CountVectorizer, TfidfTransformer\n",
    "from sklearn.model_selection import train_test_split\n",
    "from sklearn.metrics import classification_report, confusion_matrix\n",
    "\n",
    "# inline plotting\n",
    "%matplotlib inline\n",
    "\n",
    "\n",
    "# Vectorize, Transform\n",
    "def make_X(data, min_df_in, stopwords, lowercase,ngram):\n",
    "    vectorizer = CountVectorizer(min_df=min_df_in, stop_words= stopwords, lowercase= lowercase, ngram_range=ngram)\n",
    "    term_doc_matrix = vectorizer.fit_transform(data)\n",
    "    term_doc_matrix = term_doc_matrix.todense()\n",
    "    term_doc_matrix = pd.DataFrame(term_doc_matrix)\n",
    "    transformer = TfidfTransformer()\n",
    "    tfidf = transformer.fit_transform(term_doc_matrix)\n",
    "    tfidf = pd.DataFrame(tfidf.toarray())\n",
    "    return tfidf, vectorizer, transformer\n",
    "\n",
    "# Send scores to a google docs\n",
    "def post_score(name, your_score):\n",
    "    send = 'https://docs.google.com/forms/d/e/1FAIpQLSfOdYRNhf_z3PsHDxMu-IoqaUbUaI9uSHflExgZuBoC1HNvtQ/formResponse?'    \n",
    "    send += 'entry.278237990=' + name\n",
    "    send += '&entry.415269798=' + str(your_score)\n",
    "    r = requests.post(send)\n",
    "    print(r)"
   ]
  },
  {
   "cell_type": "markdown",
   "metadata": {},
   "source": [
    "## Data + Prep"
   ]
  },
  {
   "cell_type": "code",
   "execution_count": 2,
   "metadata": {
    "collapsed": true
   },
   "outputs": [],
   "source": [
    "# Read Data\n",
    "critics = pd.read_csv('resources/critics.csv')\n",
    "critics = critics[critics.fresh != 'none']\n",
    "df = critics.copy().dropna()\n",
    "# split\n",
    "X = df.quote\n",
    "y = df.fresh == 'fresh'"
   ]
  },
  {
   "cell_type": "code",
   "execution_count": 3,
   "metadata": {},
   "outputs": [
    {
     "data": {
      "image/png": "[encoded data removed]",
      "text/plain": [
       "<matplotlib.figure.Figure at 0x2470d438eb8>"
      ]
     },
     "metadata": {},
     "output_type": "display_data"
    }
   ],
   "source": [
    "_ = critics.groupby('fresh').size().plot('bar')"
   ]
  },
  {
   "cell_type": "markdown",
   "metadata": {},
   "source": [
    "## Feature Engineering"
   ]
  },
  {
   "cell_type": "markdown",
   "metadata": {},
   "source": [
    "At this point you might have employed the following during feature engineering:\n",
    "1. Dealt with contractions and abbreviations\n",
    "2. normalized your vocabulary via\n",
    "    - Case Norming\n",
    "    - Stemming\n",
    "    - Lemmatization\n",
    "3. included a stop words list\n",
    "    - words to exclude such as \"it\" or \"the\" \n",
    "4. Parts of Speech Tagging\n",
    "5. Created \"N-Grams\" where your token looks like \n",
    "    - [\"Ice Cream\", \"New York City\"] rather than\n",
    "    - [New, york, city, ice, cream]\n",
    "6. Dimensionality reduction\n",
    "7. included meta data such as time and critic"
   ]
  },
  {
   "cell_type": "markdown",
   "metadata": {},
   "source": [
    "<br>\n",
    "<br>\n",
    "<br>"
   ]
  },
  {
   "cell_type": "markdown",
   "metadata": {},
   "source": [
    "**(Optional Step) Lemmatization and Parts of Speech Tagging using spacy**\n",
    "- Current script will create 5 additional columns\n",
    "- Takes a quite some time for large data frames\n",
    "\n",
    "Need to load lanaguage model [here](https://spacy.io/docs/usage/models)"
   ]
  },
  {
   "cell_type": "code",
   "execution_count": 4,
   "metadata": {
    "collapsed": true
   },
   "outputs": [],
   "source": [
    "import spacy\n",
    "import en_core_web_md #you have to download this from \n",
    "nlp = en_core_web_md.load() \n",
    "data_spacy = df"
   ]
  },
  {
   "cell_type": "code",
   "execution_count": 5,
   "metadata": {
    "scrolled": true
   },
   "outputs": [
    {
     "data": {
      "text/html": [
       "<div>\n",
       "<table border=\"1\" class=\"dataframe\">\n",
       "  <thead>\n",
       "    <tr style=\"text-align: right;\">\n",
       "      <th></th>\n",
       "      <th>critic</th>\n",
       "      <th>fresh</th>\n",
       "      <th>imdb</th>\n",
       "      <th>publication</th>\n",
       "      <th>quote</th>\n",
       "      <th>review_date</th>\n",
       "      <th>rtid</th>\n",
       "      <th>title</th>\n",
       "      <th>tokens</th>\n",
       "      <th>tokens_stopwords</th>\n",
       "      <th>lemma</th>\n",
       "      <th>pos</th>\n",
       "      <th>stopword</th>\n",
       "    </tr>\n",
       "  </thead>\n",
       "  <tbody>\n",
       "    <tr>\n",
       "      <th>1</th>\n",
       "      <td>Derek Adams</td>\n",
       "      <td>fresh</td>\n",
       "      <td>114709</td>\n",
       "      <td>Time Out</td>\n",
       "      <td>So ingenious in concept, design and execution ...</td>\n",
       "      <td>2009-10-04</td>\n",
       "      <td>9559</td>\n",
       "      <td>Toy story</td>\n",
       "      <td>[So, ingenious, in, concept, ,, design, and, e...</td>\n",
       "      <td>[So, ingenious, in, concept, ,, design, and, e...</td>\n",
       "      <td>[so, ingenious, in, concept, ,, design, and, e...</td>\n",
       "      <td>[ADV, ADJ, ADP, NOUN, PUNCT, NOUN, CCONJ, NOUN...</td>\n",
       "      <td>[False, False, False, False, False, False, Fal...</td>\n",
       "    </tr>\n",
       "    <tr>\n",
       "      <th>2</th>\n",
       "      <td>Richard Corliss</td>\n",
       "      <td>fresh</td>\n",
       "      <td>114709</td>\n",
       "      <td>TIME Magazine</td>\n",
       "      <td>The year's most inventive comedy.</td>\n",
       "      <td>2008-08-31</td>\n",
       "      <td>9559</td>\n",
       "      <td>Toy story</td>\n",
       "      <td>[The, year, 's, most, inventive, comedy, .]</td>\n",
       "      <td>[The, year, 's, most, inventive, comedy, .]</td>\n",
       "      <td>[the, year, 's, most, inventive, comedy, .]</td>\n",
       "      <td>[DET, NOUN, PART, ADV, ADJ, NOUN, PUNCT]</td>\n",
       "      <td>[False, False, False, False, False, False, False]</td>\n",
       "    </tr>\n",
       "  </tbody>\n",
       "</table>\n",
       "</div>"
      ],
      "text/plain": [
       "            critic  fresh    imdb    publication  \\\n",
       "1      Derek Adams  fresh  114709       Time Out   \n",
       "2  Richard Corliss  fresh  114709  TIME Magazine   \n",
       "\n",
       "                                               quote review_date  rtid  \\\n",
       "1  So ingenious in concept, design and execution ...  2009-10-04  9559   \n",
       "2                  The year's most inventive comedy.  2008-08-31  9559   \n",
       "\n",
       "       title                                             tokens  \\\n",
       "1  Toy story  [So, ingenious, in, concept, ,, design, and, e...   \n",
       "2  Toy story        [The, year, 's, most, inventive, comedy, .]   \n",
       "\n",
       "                                    tokens_stopwords  \\\n",
       "1  [So, ingenious, in, concept, ,, design, and, e...   \n",
       "2        [The, year, 's, most, inventive, comedy, .]   \n",
       "\n",
       "                                               lemma  \\\n",
       "1  [so, ingenious, in, concept, ,, design, and, e...   \n",
       "2        [the, year, 's, most, inventive, comedy, .]   \n",
       "\n",
       "                                                 pos  \\\n",
       "1  [ADV, ADJ, ADP, NOUN, PUNCT, NOUN, CCONJ, NOUN...   \n",
       "2           [DET, NOUN, PART, ADV, ADJ, NOUN, PUNCT]   \n",
       "\n",
       "                                            stopword  \n",
       "1  [False, False, False, False, False, False, Fal...  \n",
       "2  [False, False, False, False, False, False, False]  "
      ]
     },
     "execution_count": 5,
     "metadata": {},
     "output_type": "execute_result"
    }
   ],
   "source": [
    "parsed = nlp.pipe(iter(data_spacy['quote']), batch_size=1, n_threads=4)\n",
    "stop = []\n",
    "# Create Features\n",
    "tokens, lemma, parts, stopword = [], [], [], []\n",
    "\n",
    "for parsed_doc in parsed:\n",
    "    tokens.append([n.text for n in parsed_doc])\n",
    "    lemma.append([n.lemma_ for n in parsed_doc])\n",
    "    parts.append([n.pos_ for n in parsed_doc])\n",
    "    stopword.append([n.is_stop for n in parsed_doc])\n",
    "\n",
    "# Assign Parsed into Dataframe\n",
    "data_spacy['tokens'] = tokens     \n",
    "data_spacy['tokens_stopwords'] = data_spacy['tokens'].apply(lambda x: [item for item in x if item not in stop])\n",
    "data_spacy['lemma'] = lemma\n",
    "data_spacy['pos'] = parts\n",
    "data_spacy['stopword'] = stopword\n",
    "\n",
    "# Describe resulting frame\n",
    "data_spacy.head(2)"
   ]
  },
  {
   "cell_type": "markdown",
   "metadata": {},
   "source": [
    "<br>\n",
    "<br>\n",
    "<br>"
   ]
  },
  {
   "cell_type": "markdown",
   "metadata": {},
   "source": [
    "**(Optional Step)** Stop words removal\n",
    "\n",
    "- Note that you can use \"english\" as an argument. \n",
    "- This will take out common english stopwords.\n",
    "- In addition NLTK has a great english stopwords list too. \n",
    "- Finally, you can always supply your own!"
   ]
  },
  {
   "cell_type": "code",
   "execution_count": 6,
   "metadata": {
    "collapsed": true
   },
   "outputs": [],
   "source": [
    "stopwords_list = [] # your work here"
   ]
  },
  {
   "cell_type": "markdown",
   "metadata": {},
   "source": [
    "<br>\n",
    "<br>\n",
    "<br>"
   ]
  },
  {
   "cell_type": "markdown",
   "metadata": {},
   "source": [
    "### Make Features and Create Train Test Split\n",
    "\n",
    "- Sklearn makes a few things easy for you. Check below arguments I set up. There's more if you explore documentation. You can now:\n",
    "    - Normalize casing\n",
    "    - create ngrams using a range (1,1) for single, (1,2) for one to two grams\n",
    "    - stopwords\n",
    "    - min_df"
   ]
  },
  {
   "cell_type": "code",
   "execution_count": 7,
   "metadata": {
    "scrolled": true
   },
   "outputs": [
    {
     "data": {
      "text/plain": [
       "((12554, 3234), (12554,), (2216, 3234), (2216,))"
      ]
     },
     "execution_count": 7,
     "metadata": {},
     "output_type": "execute_result"
    }
   ],
   "source": [
    "x_in = X # YOUR TURN:  <--- Your engineered features go here.\n",
    "X2, vectorizer_2, transformer_2 = make_X(\n",
    "    x_in,\n",
    "    min_df_in= 10, # Option.\n",
    "    stopwords=stopwords_list, # Option edit from above.\n",
    "    lowercase = False, # Option.\n",
    "    ngram = (1,1) # Option. \n",
    ")\n",
    "# Create Hold data set to judge predictive ability on new data\n",
    "seed = 100\n",
    "X_train, X_test,y_train, y_test = train_test_split(X2,y, test_size=0.15, random_state=seed)\n",
    "X_train.shape, y_train.shape, X_test.shape, y_test.shape"
   ]
  },
  {
   "cell_type": "markdown",
   "metadata": {},
   "source": [
    "<br>\n",
    "<br>\n",
    "<br>"
   ]
  },
  {
   "cell_type": "markdown",
   "metadata": {},
   "source": [
    "**(Optional Step)** Dimension Reduction via \"truncated svd\" also called, \"Latent Semantic Indexing\""
   ]
  },
  {
   "cell_type": "code",
   "execution_count": 8,
   "metadata": {
    "collapsed": true,
    "scrolled": true
   },
   "outputs": [],
   "source": [
    "# svd = TruncatedSVD(n_components=500, n_iter=10, random_state=seed)\n",
    "# X_train = svd.fit_transform(X_train)  \n",
    "# X_test = svd.transform(X_test)  \n",
    "# Note that this must be used as classifier because NB does not take negative values.\n",
    "# clf = LinearDiscriminantAnalysis() great for using with Latent Semantic Indexing"
   ]
  },
  {
   "cell_type": "markdown",
   "metadata": {},
   "source": [
    "<br>\n",
    "<br>\n",
    "<br>"
   ]
  },
  {
   "cell_type": "markdown",
   "metadata": {},
   "source": [
    "### Choose your classifier\n",
    "- Try other classifiers as well\n",
    "\n",
    "If you're using Naive Bayes. There's a single tuning parameter:\n",
    "\n",
    "**Alpha:** [From Wikipedia](https://en.wikipedia.org/wiki/Naive_Bayes_classifier)\n",
    "\n",
    "\"If a given class and feature value never occur together in the training data, then the frequency-based probability estimate will be zero. This is problematic because it will wipe out all information in the other probabilities when they are multiplied. Therefore, it is often desirable to incorporate a small-sample correction, called pseudocount, in all probability estimates such that no probability is ever set to be exactly zero. This way of regularizing naive Bayes is called Laplace smoothing when the pseudocount is one, and Lidstone smoothing in the general case.\""
   ]
  },
  {
   "cell_type": "code",
   "execution_count": 15,
   "metadata": {
    "scrolled": true
   },
   "outputs": [
    {
     "data": {
      "text/plain": [
       "MultinomialNB(alpha=1, class_prior=None, fit_prior=True)"
      ]
     },
     "execution_count": 15,
     "metadata": {},
     "output_type": "execute_result"
    }
   ],
   "source": [
    "clf = MultinomialNB(alpha=1) # A smoothing parameter. \n",
    "clf.fit(X_train,y_train)"
   ]
  },
  {
   "cell_type": "markdown",
   "metadata": {},
   "source": [
    "<br>\n",
    "<br>\n",
    "<br>"
   ]
  },
  {
   "cell_type": "markdown",
   "metadata": {},
   "source": [
    "### Performance"
   ]
  },
  {
   "cell_type": "code",
   "execution_count": 16,
   "metadata": {},
   "outputs": [
    {
     "name": "stdout",
     "output_type": "stream",
     "text": [
      "Accuracy on Training Data: 0.805162\n",
      "Accuracy on Test Data: 0.734206\n"
     ]
    }
   ],
   "source": [
    "print(\"Accuracy on Training Data: %f\" % clf.score(X_train,y_train))\n",
    "print(\"Accuracy on Test Data: %f\" % clf.score(X_test,y_test))"
   ]
  },
  {
   "cell_type": "code",
   "execution_count": 17,
   "metadata": {},
   "outputs": [
    {
     "data": {
      "text/plain": [
       "array([[ 0.18501805,  0.20938628],\n",
       "       [ 0.05640794,  0.54918773]])"
      ]
     },
     "execution_count": 17,
     "metadata": {},
     "output_type": "execute_result"
    }
   ],
   "source": [
    "y_pred = clf.predict(X_test)\n",
    "cm = confusion_matrix(y_pred= y_pred, y_true=y_test)\n",
    "cm / cm.sum()"
   ]
  },
  {
   "cell_type": "code",
   "execution_count": 18,
   "metadata": {
    "scrolled": true
   },
   "outputs": [
    {
     "name": "stdout",
     "output_type": "stream",
     "text": [
      "             precision    recall  f1-score   support\n",
      "\n",
      "      False       0.77      0.47      0.58       874\n",
      "       True       0.72      0.91      0.81      1342\n",
      "\n",
      "avg / total       0.74      0.73      0.72      2216\n",
      "\n"
     ]
    }
   ],
   "source": [
    "print(classification_report(y_pred = y_pred, y_true = y_test))"
   ]
  },
  {
   "cell_type": "markdown",
   "metadata": {},
   "source": [
    "<br>\n",
    "<br>\n",
    "<br>"
   ]
  },
  {
   "cell_type": "markdown",
   "metadata": {},
   "source": [
    "### Post your score!"
   ]
  },
  {
   "cell_type": "code",
   "execution_count": 19,
   "metadata": {},
   "outputs": [
    {
     "name": "stdout",
     "output_type": "stream",
     "text": [
      "Baseline, Accuracy score of: 0.734206\n"
     ]
    }
   ],
   "source": [
    "name = \"Baseline\"\n",
    "result = clf.score(X_test,y_test)\n",
    "print('%s, Accuracy score of: %f' % (name, result))"
   ]
  },
  {
   "cell_type": "code",
   "execution_count": 20,
   "metadata": {},
   "outputs": [
    {
     "name": "stdout",
     "output_type": "stream",
     "text": [
      "<Response [200]>\n"
     ]
    }
   ],
   "source": [
    "post_score(name = name, your_score = np.round(result,decimals=3))"
   ]
  }
 ],
 "metadata": {
  "kernelspec": {
   "display_name": "Python 3",
   "language": "python",
   "name": "python3"
  },
  "language_info": {
   "codemirror_mode": {
    "name": "ipython",
    "version": 3
   },
   "file_extension": ".py",
   "mimetype": "text/x-python",
   "name": "python",
   "nbconvert_exporter": "python",
   "pygments_lexer": "ipython3",
   "version": "3.6.0"
  }
 },
 "nbformat": 4,
 "nbformat_minor": 2
}
