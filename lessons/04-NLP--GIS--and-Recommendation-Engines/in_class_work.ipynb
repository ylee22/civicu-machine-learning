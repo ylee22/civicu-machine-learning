{
 "cells": [
  {
   "cell_type": "code",
   "execution_count": 1,
   "metadata": {
    "collapsed": true
   },
   "outputs": [],
   "source": [
    "import requests\n",
    "import pandas as pd\n",
    "import numpy as np\n",
    "\n",
    "from sklearn.naive_bayes import MultinomialNB\n",
    "\n",
    "from sklearn.feature_extraction.text import CountVectorizer, TfidfTransformer\n",
    "from sklearn.model_selection import train_test_split\n",
    "from sklearn.metrics import classification_report, confusion_matrix\n",
    "\n",
    "# inline plotting\n",
    "%matplotlib inline\n",
    "\n",
    "\n",
    "# Vectorize, Transform\n",
    "def make_X(data, min_df_in, stopwords, lowercase,ngram):\n",
    "    vectorizer = CountVectorizer(min_df=min_df_in, stop_words= stopwords, lowercase= lowercase, ngram_range=ngram)\n",
    "    term_doc_matrix = vectorizer.fit_transform(data)\n",
    "    term_doc_matrix = term_doc_matrix.todense()\n",
    "    term_doc_matrix = pd.DataFrame(term_doc_matrix)\n",
    "    transformer = TfidfTransformer()\n",
    "    tfidf = transformer.fit_transform(term_doc_matrix)\n",
    "    tfidf = pd.DataFrame(tfidf.toarray())\n",
    "    return tfidf, vectorizer, transformer\n",
    "\n",
    "# Send scores to a google docs\n",
    "def post_score(name, your_score):\n",
    "    send = 'https://docs.google.com/forms/d/e/1FAIpQLSfOdYRNhf_z3PsHDxMu-IoqaUbUaI9uSHflExgZuBoC1HNvtQ/formResponse?'    \n",
    "    send += 'entry.278237990=' + name\n",
    "    send += '&entry.415269798=' + str(your_score)\n",
    "    r = requests.post(send)\n",
    "    print(r)"
   ]
  },
  {
   "cell_type": "code",
   "execution_count": 34,
   "metadata": {},
   "outputs": [
    {
     "data": {
      "text/html": [
       "<div>\n",
       "<style>\n",
       "    .dataframe thead tr:only-child th {\n",
       "        text-align: right;\n",
       "    }\n",
       "\n",
       "    .dataframe thead th {\n",
       "        text-align: left;\n",
       "    }\n",
       "\n",
       "    .dataframe tbody tr th {\n",
       "        vertical-align: top;\n",
       "    }\n",
       "</style>\n",
       "<table border=\"1\" class=\"dataframe\">\n",
       "  <thead>\n",
       "    <tr style=\"text-align: right;\">\n",
       "      <th></th>\n",
       "      <th>critic</th>\n",
       "      <th>fresh</th>\n",
       "      <th>imdb</th>\n",
       "      <th>publication</th>\n",
       "      <th>quote</th>\n",
       "      <th>review_date</th>\n",
       "      <th>rtid</th>\n",
       "      <th>title</th>\n",
       "    </tr>\n",
       "  </thead>\n",
       "  <tbody>\n",
       "    <tr>\n",
       "      <th>1</th>\n",
       "      <td>Derek Adams</td>\n",
       "      <td>fresh</td>\n",
       "      <td>114709</td>\n",
       "      <td>Time Out</td>\n",
       "      <td>So ingenious in concept, design and execution ...</td>\n",
       "      <td>2009-10-04</td>\n",
       "      <td>9559</td>\n",
       "      <td>Toy story</td>\n",
       "    </tr>\n",
       "    <tr>\n",
       "      <th>2</th>\n",
       "      <td>Richard Corliss</td>\n",
       "      <td>fresh</td>\n",
       "      <td>114709</td>\n",
       "      <td>TIME Magazine</td>\n",
       "      <td>The year's most inventive comedy.</td>\n",
       "      <td>2008-08-31</td>\n",
       "      <td>9559</td>\n",
       "      <td>Toy story</td>\n",
       "    </tr>\n",
       "    <tr>\n",
       "      <th>3</th>\n",
       "      <td>David Ansen</td>\n",
       "      <td>fresh</td>\n",
       "      <td>114709</td>\n",
       "      <td>Newsweek</td>\n",
       "      <td>A winning animated feature that has something ...</td>\n",
       "      <td>2008-08-18</td>\n",
       "      <td>9559</td>\n",
       "      <td>Toy story</td>\n",
       "    </tr>\n",
       "    <tr>\n",
       "      <th>4</th>\n",
       "      <td>Leonard Klady</td>\n",
       "      <td>fresh</td>\n",
       "      <td>114709</td>\n",
       "      <td>Variety</td>\n",
       "      <td>The film sports a provocative and appealing st...</td>\n",
       "      <td>2008-06-09</td>\n",
       "      <td>9559</td>\n",
       "      <td>Toy story</td>\n",
       "    </tr>\n",
       "    <tr>\n",
       "      <th>5</th>\n",
       "      <td>Jonathan Rosenbaum</td>\n",
       "      <td>fresh</td>\n",
       "      <td>114709</td>\n",
       "      <td>Chicago Reader</td>\n",
       "      <td>An entertaining computer-generated, hyperreali...</td>\n",
       "      <td>2008-03-10</td>\n",
       "      <td>9559</td>\n",
       "      <td>Toy story</td>\n",
       "    </tr>\n",
       "  </tbody>\n",
       "</table>\n",
       "</div>"
      ],
      "text/plain": [
       "               critic  fresh    imdb     publication  \\\n",
       "1         Derek Adams  fresh  114709        Time Out   \n",
       "2     Richard Corliss  fresh  114709   TIME Magazine   \n",
       "3         David Ansen  fresh  114709        Newsweek   \n",
       "4       Leonard Klady  fresh  114709         Variety   \n",
       "5  Jonathan Rosenbaum  fresh  114709  Chicago Reader   \n",
       "\n",
       "                                               quote review_date  rtid  \\\n",
       "1  So ingenious in concept, design and execution ...  2009-10-04  9559   \n",
       "2                  The year's most inventive comedy.  2008-08-31  9559   \n",
       "3  A winning animated feature that has something ...  2008-08-18  9559   \n",
       "4  The film sports a provocative and appealing st...  2008-06-09  9559   \n",
       "5  An entertaining computer-generated, hyperreali...  2008-03-10  9559   \n",
       "\n",
       "       title  \n",
       "1  Toy story  \n",
       "2  Toy story  \n",
       "3  Toy story  \n",
       "4  Toy story  \n",
       "5  Toy story  "
      ]
     },
     "execution_count": 34,
     "metadata": {},
     "output_type": "execute_result"
    }
   ],
   "source": [
    "df.head()"
   ]
  },
  {
   "cell_type": "code",
   "execution_count": 2,
   "metadata": {
    "collapsed": true
   },
   "outputs": [],
   "source": [
    "# Read Data\n",
    "critics = pd.read_csv('resources/critics.csv')\n",
    "critics = critics[critics.fresh != 'none']\n",
    "df = critics.copy().dropna()\n",
    "# split\n",
    "X = df.quote\n",
    "y = df.fresh == 'fresh'"
   ]
  },
  {
   "cell_type": "code",
   "execution_count": 26,
   "metadata": {},
   "outputs": [],
   "source": [
    "# lower all case\n",
    "X_lower = X.apply(lambda x: x.lower())"
   ]
  },
  {
   "cell_type": "code",
   "execution_count": 35,
   "metadata": {},
   "outputs": [],
   "source": [
    "import spacy\n",
    "# import en_core_web_md #you have to download this from \n",
    "nlp = spacy.load('en_core_web_sm')\n",
    "data_spacy = df"
   ]
  },
  {
   "cell_type": "code",
   "execution_count": 37,
   "metadata": {},
   "outputs": [
    {
     "data": {
      "text/html": [
       "<div>\n",
       "<style>\n",
       "    .dataframe thead tr:only-child th {\n",
       "        text-align: right;\n",
       "    }\n",
       "\n",
       "    .dataframe thead th {\n",
       "        text-align: left;\n",
       "    }\n",
       "\n",
       "    .dataframe tbody tr th {\n",
       "        vertical-align: top;\n",
       "    }\n",
       "</style>\n",
       "<table border=\"1\" class=\"dataframe\">\n",
       "  <thead>\n",
       "    <tr style=\"text-align: right;\">\n",
       "      <th></th>\n",
       "      <th>critic</th>\n",
       "      <th>fresh</th>\n",
       "      <th>imdb</th>\n",
       "      <th>publication</th>\n",
       "      <th>quote</th>\n",
       "      <th>review_date</th>\n",
       "      <th>rtid</th>\n",
       "      <th>title</th>\n",
       "    </tr>\n",
       "  </thead>\n",
       "  <tbody>\n",
       "    <tr>\n",
       "      <th>1</th>\n",
       "      <td>Derek Adams</td>\n",
       "      <td>fresh</td>\n",
       "      <td>114709</td>\n",
       "      <td>Time Out</td>\n",
       "      <td>so ingenious in concept, design and execution ...</td>\n",
       "      <td>2009-10-04</td>\n",
       "      <td>9559</td>\n",
       "      <td>Toy story</td>\n",
       "    </tr>\n",
       "    <tr>\n",
       "      <th>2</th>\n",
       "      <td>Richard Corliss</td>\n",
       "      <td>fresh</td>\n",
       "      <td>114709</td>\n",
       "      <td>TIME Magazine</td>\n",
       "      <td>the year's most inventive comedy.</td>\n",
       "      <td>2008-08-31</td>\n",
       "      <td>9559</td>\n",
       "      <td>Toy story</td>\n",
       "    </tr>\n",
       "    <tr>\n",
       "      <th>3</th>\n",
       "      <td>David Ansen</td>\n",
       "      <td>fresh</td>\n",
       "      <td>114709</td>\n",
       "      <td>Newsweek</td>\n",
       "      <td>a winning animated feature that has something ...</td>\n",
       "      <td>2008-08-18</td>\n",
       "      <td>9559</td>\n",
       "      <td>Toy story</td>\n",
       "    </tr>\n",
       "    <tr>\n",
       "      <th>4</th>\n",
       "      <td>Leonard Klady</td>\n",
       "      <td>fresh</td>\n",
       "      <td>114709</td>\n",
       "      <td>Variety</td>\n",
       "      <td>the film sports a provocative and appealing st...</td>\n",
       "      <td>2008-06-09</td>\n",
       "      <td>9559</td>\n",
       "      <td>Toy story</td>\n",
       "    </tr>\n",
       "    <tr>\n",
       "      <th>5</th>\n",
       "      <td>Jonathan Rosenbaum</td>\n",
       "      <td>fresh</td>\n",
       "      <td>114709</td>\n",
       "      <td>Chicago Reader</td>\n",
       "      <td>an entertaining computer-generated, hyperreali...</td>\n",
       "      <td>2008-03-10</td>\n",
       "      <td>9559</td>\n",
       "      <td>Toy story</td>\n",
       "    </tr>\n",
       "  </tbody>\n",
       "</table>\n",
       "</div>"
      ],
      "text/plain": [
       "               critic  fresh    imdb     publication  \\\n",
       "1         Derek Adams  fresh  114709        Time Out   \n",
       "2     Richard Corliss  fresh  114709   TIME Magazine   \n",
       "3         David Ansen  fresh  114709        Newsweek   \n",
       "4       Leonard Klady  fresh  114709         Variety   \n",
       "5  Jonathan Rosenbaum  fresh  114709  Chicago Reader   \n",
       "\n",
       "                                               quote review_date  rtid  \\\n",
       "1  so ingenious in concept, design and execution ...  2009-10-04  9559   \n",
       "2                  the year's most inventive comedy.  2008-08-31  9559   \n",
       "3  a winning animated feature that has something ...  2008-08-18  9559   \n",
       "4  the film sports a provocative and appealing st...  2008-06-09  9559   \n",
       "5  an entertaining computer-generated, hyperreali...  2008-03-10  9559   \n",
       "\n",
       "       title  \n",
       "1  Toy story  \n",
       "2  Toy story  \n",
       "3  Toy story  \n",
       "4  Toy story  \n",
       "5  Toy story  "
      ]
     },
     "execution_count": 37,
     "metadata": {},
     "output_type": "execute_result"
    }
   ],
   "source": [
    "data_spacy['quote'] = data_spacy['quote'].apply(lambda x: x.lower())\n",
    "data_spacy.head()"
   ]
  },
  {
   "cell_type": "code",
   "execution_count": 44,
   "metadata": {},
   "outputs": [
    {
     "data": {
      "text/html": [
       "<div>\n",
       "<style>\n",
       "    .dataframe thead tr:only-child th {\n",
       "        text-align: right;\n",
       "    }\n",
       "\n",
       "    .dataframe thead th {\n",
       "        text-align: left;\n",
       "    }\n",
       "\n",
       "    .dataframe tbody tr th {\n",
       "        vertical-align: top;\n",
       "    }\n",
       "</style>\n",
       "<table border=\"1\" class=\"dataframe\">\n",
       "  <thead>\n",
       "    <tr style=\"text-align: right;\">\n",
       "      <th></th>\n",
       "      <th>critic</th>\n",
       "      <th>fresh</th>\n",
       "      <th>imdb</th>\n",
       "      <th>publication</th>\n",
       "      <th>quote</th>\n",
       "      <th>review_date</th>\n",
       "      <th>rtid</th>\n",
       "      <th>title</th>\n",
       "      <th>tokens</th>\n",
       "      <th>tokens_stopwords</th>\n",
       "      <th>lemma</th>\n",
       "      <th>pos</th>\n",
       "      <th>stopword</th>\n",
       "    </tr>\n",
       "  </thead>\n",
       "  <tbody>\n",
       "    <tr>\n",
       "      <th>1</th>\n",
       "      <td>Derek Adams</td>\n",
       "      <td>fresh</td>\n",
       "      <td>114709</td>\n",
       "      <td>Time Out</td>\n",
       "      <td>so ingenious in concept, design and execution ...</td>\n",
       "      <td>2009-10-04</td>\n",
       "      <td>9559</td>\n",
       "      <td>Toy story</td>\n",
       "      <td>[so, ingenious, in, concept, ,, design, and, e...</td>\n",
       "      <td>[so, ingenious, in, concept, ,, design, and, e...</td>\n",
       "      <td>[so, ingenious, in, concept, ,, design, and, e...</td>\n",
       "      <td>[ADV, ADJ, ADP, NOUN, PUNCT, NOUN, CCONJ, NOUN...</td>\n",
       "      <td>[True, False, True, False, False, False, True,...</td>\n",
       "    </tr>\n",
       "    <tr>\n",
       "      <th>2</th>\n",
       "      <td>Richard Corliss</td>\n",
       "      <td>fresh</td>\n",
       "      <td>114709</td>\n",
       "      <td>TIME Magazine</td>\n",
       "      <td>the year's most inventive comedy.</td>\n",
       "      <td>2008-08-31</td>\n",
       "      <td>9559</td>\n",
       "      <td>Toy story</td>\n",
       "      <td>[the, year, 's, most, inventive, comedy, .]</td>\n",
       "      <td>[the, year, 's, most, inventive, comedy, .]</td>\n",
       "      <td>[the, year, 's, most, inventive, comedy, .]</td>\n",
       "      <td>[DET, NOUN, PART, ADV, ADJ, NOUN, PUNCT]</td>\n",
       "      <td>[True, False, False, True, False, False, False]</td>\n",
       "    </tr>\n",
       "  </tbody>\n",
       "</table>\n",
       "</div>"
      ],
      "text/plain": [
       "            critic  fresh    imdb    publication  \\\n",
       "1      Derek Adams  fresh  114709       Time Out   \n",
       "2  Richard Corliss  fresh  114709  TIME Magazine   \n",
       "\n",
       "                                               quote review_date  rtid  \\\n",
       "1  so ingenious in concept, design and execution ...  2009-10-04  9559   \n",
       "2                  the year's most inventive comedy.  2008-08-31  9559   \n",
       "\n",
       "       title                                             tokens  \\\n",
       "1  Toy story  [so, ingenious, in, concept, ,, design, and, e...   \n",
       "2  Toy story        [the, year, 's, most, inventive, comedy, .]   \n",
       "\n",
       "                                    tokens_stopwords  \\\n",
       "1  [so, ingenious, in, concept, ,, design, and, e...   \n",
       "2        [the, year, 's, most, inventive, comedy, .]   \n",
       "\n",
       "                                               lemma  \\\n",
       "1  [so, ingenious, in, concept, ,, design, and, e...   \n",
       "2        [the, year, 's, most, inventive, comedy, .]   \n",
       "\n",
       "                                                 pos  \\\n",
       "1  [ADV, ADJ, ADP, NOUN, PUNCT, NOUN, CCONJ, NOUN...   \n",
       "2           [DET, NOUN, PART, ADV, ADJ, NOUN, PUNCT]   \n",
       "\n",
       "                                            stopword  \n",
       "1  [True, False, True, False, False, False, True,...  \n",
       "2    [True, False, False, True, False, False, False]  "
      ]
     },
     "execution_count": 44,
     "metadata": {},
     "output_type": "execute_result"
    }
   ],
   "source": [
    "parsed = nlp.pipe(iter(data_spacy['quote']), batch_size=1, n_threads=4)\n",
    "stop = []\n",
    "# Create Features\n",
    "tokens, lemma, parts, stopword = [], [], [], []\n",
    "\n",
    "for parsed_doc in parsed:\n",
    "    tokens.append([n.text for n in parsed_doc])\n",
    "    lemma.append([n.lemma_ for n in parsed_doc])\n",
    "    parts.append([n.pos_ for n in parsed_doc])\n",
    "    stopword.append([n.is_stop for n in parsed_doc])\n",
    "\n",
    "# Assign Parsed into Dataframe\n",
    "data_spacy['tokens'] = tokens     \n",
    "data_spacy['tokens_stopwords'] = data_spacy['tokens'].apply(lambda x: [item for item in x if item not in stop])\n",
    "data_spacy['lemma'] = lemma\n",
    "data_spacy['pos'] = parts\n",
    "data_spacy['stopword'] = stopword\n",
    "\n",
    "# Describe resulting frame\n",
    "data_spacy.head(2)"
   ]
  },
  {
   "cell_type": "code",
   "execution_count": 47,
   "metadata": {
    "collapsed": true
   },
   "outputs": [],
   "source": [
    "stopwords_list = ['is','the','a','an','has','have','the','of','to','and','a','in'] # your work here"
   ]
  },
  {
   "cell_type": "code",
   "execution_count": 62,
   "metadata": {},
   "outputs": [],
   "source": [
    "x_in = df['quote'] # YOUR TURN:  <--- Your engineered features go here.\n",
    "X2, vectorizer_2, transformer_2 = make_X(\n",
    "    x_in,\n",
    "    min_df_in= 10, # Option.\n",
    "    stopwords=stopwords_list, # Option edit from above.\n",
    "    lowercase = False, # Option.\n",
    "    ngram = (1,1) # Option. \n",
    ")"
   ]
  },
  {
   "cell_type": "code",
   "execution_count": 74,
   "metadata": {},
   "outputs": [
    {
     "data": {
      "text/plain": [
       "(14770, 621)"
      ]
     },
     "execution_count": 74,
     "metadata": {},
     "output_type": "execute_result"
    }
   ],
   "source": [
    "temp = pd.get_dummies(df.critic)\n",
    "temp.shape"
   ]
  },
  {
   "cell_type": "code",
   "execution_count": 76,
   "metadata": {},
   "outputs": [
    {
     "data": {
      "text/plain": [
       "(14770, 13)"
      ]
     },
     "execution_count": 76,
     "metadata": {},
     "output_type": "execute_result"
    }
   ],
   "source": [
    "df.shape"
   ]
  },
  {
   "cell_type": "code",
   "execution_count": null,
   "metadata": {
    "collapsed": true
   },
   "outputs": [],
   "source": [
    "# Create Hold data set to judge predictive ability on new data\n",
    "seed = 100\n",
    "X_train, X_test,y_train, y_test = train_test_split(X2,y, test_size=0.15, random_state=seed)\n",
    "X_train.shape, y_train.shape, X_test.shape, y_test.shape"
   ]
  },
  {
   "cell_type": "code",
   "execution_count": 55,
   "metadata": {},
   "outputs": [
    {
     "data": {
      "text/plain": [
       "LogisticRegression(C=1.0, class_weight='balanced', dual=False,\n",
       "          fit_intercept=True, intercept_scaling=1, max_iter=100,\n",
       "          multi_class='ovr', n_jobs=1, penalty='l2', random_state=None,\n",
       "          solver='liblinear', tol=0.0001, verbose=0, warm_start=False)"
      ]
     },
     "execution_count": 55,
     "metadata": {},
     "output_type": "execute_result"
    }
   ],
   "source": [
    "from sklearn.linear_model import LogisticRegression\n",
    "\n",
    "clf = LogisticRegression(class_weight='balanced')\n",
    "lr.fit(df_pca15.values[:,:n_components], df_pca15.digit_id)\n",
    "# clf = MultinomialNB(alpha=1) # A smoothing parameter.\n",
    "\n",
    "clf.fit(X_train,y_train)"
   ]
  },
  {
   "cell_type": "code",
   "execution_count": 56,
   "metadata": {},
   "outputs": [
    {
     "name": "stdout",
     "output_type": "stream",
     "text": [
      "Accuracy on Training Data: 0.833997\n",
      "Accuracy on Test Data: 0.753159\n"
     ]
    }
   ],
   "source": [
    "print(\"Accuracy on Training Data: %f\" % clf.score(X_train,y_train))\n",
    "print(\"Accuracy on Test Data: %f\" % clf.score(X_test,y_test))"
   ]
  },
  {
   "cell_type": "code",
   "execution_count": 52,
   "metadata": {},
   "outputs": [
    {
     "data": {
      "text/plain": [
       "array([[ 0.20126354,  0.19314079],\n",
       "       [ 0.06001805,  0.54557762]])"
      ]
     },
     "execution_count": 52,
     "metadata": {},
     "output_type": "execute_result"
    }
   ],
   "source": [
    "y_pred = clf.predict(X_test)\n",
    "cm = confusion_matrix(y_pred= y_pred, y_true=y_test)\n",
    "cm / cm.sum()"
   ]
  },
  {
   "cell_type": "code",
   "execution_count": 53,
   "metadata": {},
   "outputs": [
    {
     "name": "stdout",
     "output_type": "stream",
     "text": [
      "             precision    recall  f1-score   support\n",
      "\n",
      "      False       0.77      0.51      0.61       874\n",
      "       True       0.74      0.90      0.81      1342\n",
      "\n",
      "avg / total       0.75      0.75      0.73      2216\n",
      "\n"
     ]
    }
   ],
   "source": [
    "print(classification_report(y_pred = y_pred, y_true = y_test))"
   ]
  },
  {
   "cell_type": "code",
   "execution_count": 54,
   "metadata": {},
   "outputs": [
    {
     "name": "stdout",
     "output_type": "stream",
     "text": [
      "Baseline, Accuracy score of: 0.746841\n"
     ]
    }
   ],
   "source": [
    "name = \"Baseline\"\n",
    "result = clf.score(X_test,y_test)\n",
    "print('%s, Accuracy score of: %f' % (name, result))"
   ]
  }
 ],
 "metadata": {
  "kernelspec": {
   "display_name": "Python 3",
   "language": "python",
   "name": "python3"
  },
  "language_info": {
   "codemirror_mode": {
    "name": "ipython",
    "version": 3
   },
   "file_extension": ".py",
   "mimetype": "text/x-python",
   "name": "python",
   "nbconvert_exporter": "python",
   "pygments_lexer": "ipython3",
   "version": "3.6.1"
  }
 },
 "nbformat": 4,
 "nbformat_minor": 2
}
