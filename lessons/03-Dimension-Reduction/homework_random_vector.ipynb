{
 "cells": [
  {
   "cell_type": "code",
   "execution_count": 29,
   "metadata": {},
   "outputs": [],
   "source": [
    "import numpy as np\n",
    "\n",
    "# generate 1000 random 2d vectors\n",
    "x2_1 = np.random.uniform(0, 1, (1000,2))"
   ]
  },
  {
   "cell_type": "code",
   "execution_count": 30,
   "metadata": {},
   "outputs": [
    {
     "name": "stdout",
     "output_type": "stream",
     "text": [
      "min: 0.336236075288 \n",
      "max: 0.932324167929\n"
     ]
    }
   ],
   "source": [
    "# compute the length of each of the vectors\n",
    "d2_1 = np.hypot(x2_1[:,0],x2_1[:,1])\n",
    "\n",
    "# find min and max\n",
    "print('min:',min(d2_1),'\\nmax:', max(d2_1))"
   ]
  },
  {
   "cell_type": "code",
   "execution_count": 17,
   "metadata": {},
   "outputs": [],
   "source": [
    "# generate 1000000 random 2d vectors\n",
    "x2_2 = np.random.uniform(0, 1, (1000000,2))"
   ]
  },
  {
   "cell_type": "code",
   "execution_count": 18,
   "metadata": {},
   "outputs": [
    {
     "name": "stdout",
     "output_type": "stream",
     "text": [
      "min: 0.000544991649959 \n",
      "max: 1.41361490255\n"
     ]
    }
   ],
   "source": [
    "# compute the length of each of the vectors\n",
    "d2_2 = np.hypot(x2_2[:,0],x2_2[:,1])\n",
    "\n",
    "# find min and max\n",
    "print('min:',min(d2_2),'\\nmax:', max(d2_2))"
   ]
  },
  {
   "cell_type": "code",
   "execution_count": 34,
   "metadata": {
    "collapsed": true
   },
   "outputs": [],
   "source": [
    "# repeat for 3d vectors\n",
    "x3_1 = np.random.uniform(0, 1, (1000,3))"
   ]
  },
  {
   "cell_type": "code",
   "execution_count": 35,
   "metadata": {},
   "outputs": [
    {
     "name": "stdout",
     "output_type": "stream",
     "text": [
      "min: 0.0765134483979 \n",
      "max: 1.58262755442\n"
     ]
    }
   ],
   "source": [
    "# compute the length of each of the vectors\n",
    "d3_1 = np.linalg.norm(x3_1, axis=1)\n",
    "\n",
    "# find min and max\n",
    "print('min:', min(d3_1), '\\nmax:', max(d3_1))"
   ]
  },
  {
   "cell_type": "code",
   "execution_count": 37,
   "metadata": {
    "collapsed": true
   },
   "outputs": [],
   "source": [
    "# generate 1000000 random 3d vectors\n",
    "x3_2 = np.random.uniform(0, 1, (1000000,3))"
   ]
  },
  {
   "cell_type": "code",
   "execution_count": 39,
   "metadata": {},
   "outputs": [
    {
     "name": "stdout",
     "output_type": "stream",
     "text": [
      "min:  0.00882234199695 \n",
      "max: 1.71421275793\n"
     ]
    }
   ],
   "source": [
    "# compute the length of each of the vectors\n",
    "d3_2 = np.linalg.norm(x3_2, axis=1)\n",
    "\n",
    "# find min and max\n",
    "print('min: ', min(d3_2), '\\nmax:', max(d3_2))"
   ]
  },
  {
   "cell_type": "code",
   "execution_count": 42,
   "metadata": {},
   "outputs": [],
   "source": [
    "# repeat for 10d vectors\n",
    "x10_1 = np.random.uniform(0, 1, (1000, 10))"
   ]
  },
  {
   "cell_type": "code",
   "execution_count": 43,
   "metadata": {},
   "outputs": [
    {
     "name": "stdout",
     "output_type": "stream",
     "text": [
      "min: 0.851752969351 \n",
      "max: 2.56341367114\n"
     ]
    }
   ],
   "source": [
    "# compute the length of each of the vectors\n",
    "d10_1 = np.linalg.norm(x10_1, axis=1)\n",
    "\n",
    "# find min and max\n",
    "print('min:', min(d10_1), '\\nmax:', max(d10_1))"
   ]
  },
  {
   "cell_type": "code",
   "execution_count": 47,
   "metadata": {},
   "outputs": [
    {
     "name": "stdout",
     "output_type": "stream",
     "text": [
      "min: 0.448807647476 \n",
      "max: 2.86224112701\n"
     ]
    }
   ],
   "source": [
    "x10_2 = np.random.uniform(0, 1, (1000000, 10))\n",
    "\n",
    "d10_2 = np.linalg.norm(x10_2, axis=1)\n",
    "print('min:', min(d10_2), '\\nmax:', max(d10_2))"
   ]
  },
  {
   "cell_type": "code",
   "execution_count": null,
   "metadata": {
    "collapsed": true
   },
   "outputs": [],
   "source": [
    "# repeat for 20d vectors\n",
    "x20_1 = np.random.uniform(0, 1, (1000, 20))\n",
    "d20_1 = np.linalg.norm(x20_1, axis=1)\n",
    "print()"
   ]
  }
 ],
 "metadata": {
  "kernelspec": {
   "display_name": "Python 3",
   "language": "python",
   "name": "python3"
  },
  "language_info": {
   "codemirror_mode": {
    "name": "ipython",
    "version": 3
   },
   "file_extension": ".py",
   "mimetype": "text/x-python",
   "name": "python",
   "nbconvert_exporter": "python",
   "pygments_lexer": "ipython3",
   "version": "3.6.1"
  }
 },
 "nbformat": 4,
 "nbformat_minor": 2
}
