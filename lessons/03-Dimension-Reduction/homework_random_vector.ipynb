{
 "cells": [
  {
   "cell_type": "code",
   "execution_count": 53,
   "metadata": {
    "collapsed": true
   },
   "outputs": [],
   "source": [
    "import numpy as np"
   ]
  },
  {
   "cell_type": "code",
   "execution_count": 114,
   "metadata": {},
   "outputs": [
    {
     "name": "stdout",
     "output_type": "stream",
     "text": [
      "min: 0.0242698174654 \n",
      "max: 1.37381339586\n"
     ]
    }
   ],
   "source": [
    "# generate 1000 random 2d vectors\n",
    "x2_1 = np.random.uniform(0, 1, (1000,2))\n",
    "\n",
    "# compute the length of each of the vectors\n",
    "d2_1 = np.hypot(x2_1[:,0],x2_1[:,1])\n",
    "\n",
    "# find min and max\n",
    "print('min:',min(d2_1),'\\nmax:', max(d2_1))"
   ]
  },
  {
   "cell_type": "code",
   "execution_count": 115,
   "metadata": {},
   "outputs": [
    {
     "name": "stdout",
     "output_type": "stream",
     "text": [
      "min: 0.0 \n",
      "max: 1.35663088982 \n",
      "min: 0.000739875898843 \n",
      "max: 1.35663088982\n"
     ]
    }
   ],
   "source": [
    "# copute the distances between each of the vectors (1000 by 1000)\n",
    "from scipy.spatial.distance import cdist\n",
    "\n",
    "d2_2 = cdist(x2_1, x2_1)\n",
    "d2_2 = d2_2.flatten()\n",
    "# not including self vs self comparison\n",
    "d2_3 = d2_2[d2_2>0]\n",
    "\n",
    "# find min and max\n",
    "print('min:', min(d2_2),'\\nmax:', max(d2_2), '\\nmin:', min(d2_3), '\\nmax:', max(d2_3))"
   ]
  },
  {
   "cell_type": "code",
   "execution_count": 116,
   "metadata": {},
   "outputs": [
    {
     "name": "stdout",
     "output_type": "stream",
     "text": [
      "min: 0.146896100022 \n",
      "max: 1.59789344345\n"
     ]
    }
   ],
   "source": [
    "# repeat for 3d vectors\n",
    "x3_1 = np.random.uniform(0, 1, (1000,3))\n",
    "\n",
    "# compute the length of each of the vectors\n",
    "d3_1 = np.linalg.norm(x3_1, axis=1)\n",
    "\n",
    "# find min and max\n",
    "print('min:', min(d3_1), '\\nmax:', max(d3_1))"
   ]
  },
  {
   "cell_type": "code",
   "execution_count": 122,
   "metadata": {},
   "outputs": [
    {
     "name": "stdout",
     "output_type": "stream",
     "text": [
      "min: 0.0 \n",
      "max: 1.52189851258 \n",
      "min: 0.012671515706 \n",
      "max: 1.52189851258\n"
     ]
    }
   ],
   "source": [
    "# copute the distances between each of the vectors (1000 by 1000)\n",
    "d3_2 = cdist(x3_1, x3_1)\n",
    "d3_2 = d3_2.flatten()\n",
    "# not including self vs self comparison\n",
    "d3_3 = d3_2[d3_2>0]\n",
    "\n",
    "# find min and max\n",
    "print('min:', min(d3_2),'\\nmax:', max(d3_2), '\\nmin:', min(d3_3), '\\nmax:', max(d3_3))"
   ]
  },
  {
   "cell_type": "code",
   "execution_count": 120,
   "metadata": {},
   "outputs": [
    {
     "name": "stdout",
     "output_type": "stream",
     "text": [
      "min: 0.882127253725 \n",
      "max: 2.64398748784\n"
     ]
    }
   ],
   "source": [
    "# repeat for 10d vectors\n",
    "x10_1 = np.random.uniform(0, 1, (1000, 10))\n",
    "\n",
    "# compute the length of each of the vectors\n",
    "d10_1 = np.linalg.norm(x10_1, axis=1)\n",
    "\n",
    "# find min and max\n",
    "print('min:', min(d10_1), '\\nmax:', max(d10_1))"
   ]
  },
  {
   "cell_type": "code",
   "execution_count": 123,
   "metadata": {},
   "outputs": [
    {
     "name": "stdout",
     "output_type": "stream",
     "text": [
      "min: 0.0 \n",
      "max: 2.28460039843 \n",
      "min: 0.262168793459 \n",
      "max: 2.28460039843\n"
     ]
    }
   ],
   "source": [
    "# copute the distances between each of the vectors (1000 by 1000)\n",
    "d10_2 = cdist(x10_1, x10_1)\n",
    "d10_2 = d10_2.flatten()\n",
    "# not including self vs self comparison\n",
    "d10_3 = d10_2[d10_2>0]\n",
    "\n",
    "# find min and max\n",
    "print('min:', min(d10_2),'\\nmax:', max(d10_2), '\\nmin:', min(d10_3), '\\nmax:', max(d10_3))"
   ]
  },
  {
   "cell_type": "code",
   "execution_count": 124,
   "metadata": {},
   "outputs": [
    {
     "name": "stdout",
     "output_type": "stream",
     "text": [
      "min: 1.10899595502 \n",
      "max: 3.73606670127\n"
     ]
    }
   ],
   "source": [
    "# repeat for 20d vectors\n",
    "x20_1 = np.random.uniform(0, 1, (1000, 20))\n",
    "d20_1 = np.linalg.norm(x20_1, axis=1)\n",
    "print('min:', min(d20_2), '\\nmax:', max(d20_2))"
   ]
  },
  {
   "cell_type": "code",
   "execution_count": 125,
   "metadata": {},
   "outputs": [
    {
     "name": "stdout",
     "output_type": "stream",
     "text": [
      "min: 0.0 \n",
      "max: 2.79190306302 \n",
      "min: 0.727920830418 \n",
      "max: 2.79190306302\n"
     ]
    }
   ],
   "source": [
    "# copute the distances between each of the vectors (1000 by 1000)\n",
    "d20_2 = cdist(x20_1, x20_1)\n",
    "d20_2 = d20_2.flatten()\n",
    "# not including self vs self comparison\n",
    "d20_3 = d20_2[d20_2>0]\n",
    "\n",
    "# find min and max\n",
    "print('min:', min(d20_2),'\\nmax:', max(d20_2), '\\nmin:', min(d20_3), '\\nmax:', max(d20_3))"
   ]
  }
 ],
 "metadata": {
  "kernelspec": {
   "display_name": "Python 3",
   "language": "python",
   "name": "python3"
  },
  "language_info": {
   "codemirror_mode": {
    "name": "ipython",
    "version": 3
   },
   "file_extension": ".py",
   "mimetype": "text/x-python",
   "name": "python",
   "nbconvert_exporter": "python",
   "pygments_lexer": "ipython3",
   "version": "3.6.1"
  }
 },
 "nbformat": 4,
 "nbformat_minor": 2
}
