{
 "cells": [
  {
   "cell_type": "code",
   "execution_count": 2,
   "metadata": {},
   "outputs": [
    {
     "name": "stdout",
     "output_type": "stream",
     "text": [
      "Collecting python-mnist\n",
      "  Downloading python-mnist-0.3.tar.gz\n",
      "Building wheels for collected packages: python-mnist\n",
      "  Running setup.py bdist_wheel for python-mnist ... \u001b[?25ldone\n",
      "\u001b[?25h  Stored in directory: /Users/leey/Library/Caches/pip/wheels/ba/c1/d1/6a69b643fd584fbd83eb5103deeb4e67bb89a86db6afeffe6a\n",
      "Successfully built python-mnist\n",
      "Installing collected packages: python-mnist\n",
      "Successfully installed python-mnist-0.3\n"
     ]
    }
   ],
   "source": [
    "# do this in your bash terminal (without the \"!\")\n",
    "!pip install python-mnist"
   ]
  },
  {
   "cell_type": "code",
   "execution_count": 3,
   "metadata": {
    "collapsed": true
   },
   "outputs": [],
   "source": [
    "import matplotlib\n",
    "%matplotlib inline\n",
    "matplotlib.rcParams['figure.figsize'] = (10,8)"
   ]
  },
  {
   "cell_type": "code",
   "execution_count": 4,
   "metadata": {},
   "outputs": [
    {
     "name": "stdout",
     "output_type": "stream",
     "text": [
      "Reading file #0: ../shared-resources/mnist/train-images-idx3-ubyte.gz\n",
      "Writing file #0: ../shared-resources/mnist/train-images-idx3-ubyte\n",
      "Reading file #1: ../shared-resources/mnist/t10k-images-idx3-ubyte.gz\n",
      "Writing file #1: ../shared-resources/mnist/t10k-images-idx3-ubyte\n",
      "Reading file #2: ../shared-resources/mnist/train-labels-idx1-ubyte.gz\n",
      "Writing file #2: ../shared-resources/mnist/train-labels-idx1-ubyte\n",
      "Reading file #3: ../shared-resources/mnist/t10k-labels-idx1-ubyte.gz\n",
      "Writing file #3: ../shared-resources/mnist/t10k-labels-idx1-ubyte\n"
     ]
    }
   ],
   "source": [
    "# decompress the data\n",
    "import gzip\n",
    "filenames = 'train-images-idx3-ubyte t10k-images-idx3-ubyte train-labels-idx1-ubyte t10k-labels-idx1-ubyte'.split()\n",
    "\n",
    "for i, filename in enumerate(filenames):\n",
    "    pathin = '../shared-resources/mnist/' + filename + '.gz'\n",
    "    pathout = pathin[:-3]\n",
    "    with gzip.open(pathin) as fin:\n",
    "        print(\"Reading file #{}: {}\".format(i, pathin))\n",
    "        with open('../shared-resources/mnist/' + filename, 'wb') as fout:\n",
    "            print(\"Writing file #{}: {}\".format(i, pathout))\n",
    "            fout.write(fin.read())"
   ]
  },
  {
   "cell_type": "code",
   "execution_count": 5,
   "metadata": {
    "collapsed": true
   },
   "outputs": [],
   "source": [
    "import pandas as pd\n",
    "import seaborn as sns\n",
    "%matplotlib inline"
   ]
  },
  {
   "cell_type": "code",
   "execution_count": 6,
   "metadata": {
    "collapsed": true
   },
   "outputs": [],
   "source": [
    "from mnist import MNIST\n",
    "\n",
    "mnistdb = MNIST('../shared-resources/mnist/')\n",
    "\n",
    "training_images, training_labels = mnistdb.load_training()\n",
    "test_images, test_labels = mnistdb.load_testing()"
   ]
  },
  {
   "cell_type": "code",
   "execution_count": 7,
   "metadata": {
    "collapsed": true
   },
   "outputs": [],
   "source": [
    "df_train = pd.DataFrame(list(zip(training_images, training_labels)), columns=['image', 'label'])\n",
    "df_test = pd.DataFrame(list(zip(test_images, test_labels)), columns=['image', 'label'])"
   ]
  },
  {
   "cell_type": "code",
   "execution_count": 9,
   "metadata": {},
   "outputs": [
    {
     "data": {
      "image/png": "[encoded data removed]",
      "text/plain": [
       "<matplotlib.figure.Figure at 0x1182757b8>"
      ]
     },
     "metadata": {},
     "output_type": "display_data"
    }
   ],
   "source": [
    "cmap = sns.palettes.color_palette('Greys')\n",
    "ax = sns.heatmap(pd.np.array(df_train.image[0]).reshape(28, 28), cmap=cmap)"
   ]
  },
  {
   "cell_type": "code",
   "execution_count": 13,
   "metadata": {},
   "outputs": [
    {
     "data": {
      "text/html": [
       "<div>\n",
       "<style>\n",
       "    .dataframe thead tr:only-child th {\n",
       "        text-align: right;\n",
       "    }\n",
       "\n",
       "    .dataframe thead th {\n",
       "        text-align: left;\n",
       "    }\n",
       "\n",
       "    .dataframe tbody tr th {\n",
       "        vertical-align: top;\n",
       "    }\n",
       "</style>\n",
       "<table border=\"1\" class=\"dataframe\">\n",
       "  <thead>\n",
       "    <tr style=\"text-align: right;\">\n",
       "      <th></th>\n",
       "      <th>0</th>\n",
       "      <th>1</th>\n",
       "      <th>2</th>\n",
       "      <th>3</th>\n",
       "      <th>4</th>\n",
       "      <th>5</th>\n",
       "      <th>6</th>\n",
       "      <th>7</th>\n",
       "      <th>8</th>\n",
       "      <th>9</th>\n",
       "      <th>...</th>\n",
       "      <th>774</th>\n",
       "      <th>775</th>\n",
       "      <th>776</th>\n",
       "      <th>777</th>\n",
       "      <th>778</th>\n",
       "      <th>779</th>\n",
       "      <th>780</th>\n",
       "      <th>781</th>\n",
       "      <th>782</th>\n",
       "      <th>783</th>\n",
       "    </tr>\n",
       "  </thead>\n",
       "  <tbody>\n",
       "    <tr>\n",
       "      <th>0</th>\n",
       "      <td>0</td>\n",
       "      <td>0</td>\n",
       "      <td>0</td>\n",
       "      <td>0</td>\n",
       "      <td>0</td>\n",
       "      <td>0</td>\n",
       "      <td>0</td>\n",
       "      <td>0</td>\n",
       "      <td>0</td>\n",
       "      <td>0</td>\n",
       "      <td>...</td>\n",
       "      <td>0</td>\n",
       "      <td>0</td>\n",
       "      <td>0</td>\n",
       "      <td>0</td>\n",
       "      <td>0</td>\n",
       "      <td>0</td>\n",
       "      <td>0</td>\n",
       "      <td>0</td>\n",
       "      <td>0</td>\n",
       "      <td>0</td>\n",
       "    </tr>\n",
       "    <tr>\n",
       "      <th>1</th>\n",
       "      <td>0</td>\n",
       "      <td>0</td>\n",
       "      <td>0</td>\n",
       "      <td>0</td>\n",
       "      <td>0</td>\n",
       "      <td>0</td>\n",
       "      <td>0</td>\n",
       "      <td>0</td>\n",
       "      <td>0</td>\n",
       "      <td>0</td>\n",
       "      <td>...</td>\n",
       "      <td>0</td>\n",
       "      <td>0</td>\n",
       "      <td>0</td>\n",
       "      <td>0</td>\n",
       "      <td>0</td>\n",
       "      <td>0</td>\n",
       "      <td>0</td>\n",
       "      <td>0</td>\n",
       "      <td>0</td>\n",
       "      <td>0</td>\n",
       "    </tr>\n",
       "    <tr>\n",
       "      <th>2</th>\n",
       "      <td>0</td>\n",
       "      <td>0</td>\n",
       "      <td>0</td>\n",
       "      <td>0</td>\n",
       "      <td>0</td>\n",
       "      <td>0</td>\n",
       "      <td>0</td>\n",
       "      <td>0</td>\n",
       "      <td>0</td>\n",
       "      <td>0</td>\n",
       "      <td>...</td>\n",
       "      <td>0</td>\n",
       "      <td>0</td>\n",
       "      <td>0</td>\n",
       "      <td>0</td>\n",
       "      <td>0</td>\n",
       "      <td>0</td>\n",
       "      <td>0</td>\n",
       "      <td>0</td>\n",
       "      <td>0</td>\n",
       "      <td>0</td>\n",
       "    </tr>\n",
       "    <tr>\n",
       "      <th>3</th>\n",
       "      <td>0</td>\n",
       "      <td>0</td>\n",
       "      <td>0</td>\n",
       "      <td>0</td>\n",
       "      <td>0</td>\n",
       "      <td>0</td>\n",
       "      <td>0</td>\n",
       "      <td>0</td>\n",
       "      <td>0</td>\n",
       "      <td>0</td>\n",
       "      <td>...</td>\n",
       "      <td>0</td>\n",
       "      <td>0</td>\n",
       "      <td>0</td>\n",
       "      <td>0</td>\n",
       "      <td>0</td>\n",
       "      <td>0</td>\n",
       "      <td>0</td>\n",
       "      <td>0</td>\n",
       "      <td>0</td>\n",
       "      <td>0</td>\n",
       "    </tr>\n",
       "    <tr>\n",
       "      <th>4</th>\n",
       "      <td>0</td>\n",
       "      <td>0</td>\n",
       "      <td>0</td>\n",
       "      <td>0</td>\n",
       "      <td>0</td>\n",
       "      <td>0</td>\n",
       "      <td>0</td>\n",
       "      <td>0</td>\n",
       "      <td>0</td>\n",
       "      <td>0</td>\n",
       "      <td>...</td>\n",
       "      <td>0</td>\n",
       "      <td>0</td>\n",
       "      <td>0</td>\n",
       "      <td>0</td>\n",
       "      <td>0</td>\n",
       "      <td>0</td>\n",
       "      <td>0</td>\n",
       "      <td>0</td>\n",
       "      <td>0</td>\n",
       "      <td>0</td>\n",
       "    </tr>\n",
       "  </tbody>\n",
       "</table>\n",
       "<p>5 rows × 784 columns</p>\n",
       "</div>"
      ],
      "text/plain": [
       "   0    1    2    3    4    5    6    7    8    9   ...   774  775  776  777  \\\n",
       "0    0    0    0    0    0    0    0    0    0    0 ...     0    0    0    0   \n",
       "1    0    0    0    0    0    0    0    0    0    0 ...     0    0    0    0   \n",
       "2    0    0    0    0    0    0    0    0    0    0 ...     0    0    0    0   \n",
       "3    0    0    0    0    0    0    0    0    0    0 ...     0    0    0    0   \n",
       "4    0    0    0    0    0    0    0    0    0    0 ...     0    0    0    0   \n",
       "\n",
       "   778  779  780  781  782  783  \n",
       "0    0    0    0    0    0    0  \n",
       "1    0    0    0    0    0    0  \n",
       "2    0    0    0    0    0    0  \n",
       "3    0    0    0    0    0    0  \n",
       "4    0    0    0    0    0    0  \n",
       "\n",
       "[5 rows x 784 columns]"
      ]
     },
     "execution_count": 13,
     "metadata": {},
     "output_type": "execute_result"
    }
   ],
   "source": [
    "df_train_image = pd.DataFrame(list(df_train.image.values))\n",
    "df_train_image.head(5)\n"
   ]
  },
  {
   "cell_type": "code",
   "execution_count": 105,
   "metadata": {
    "collapsed": true
   },
   "outputs": [],
   "source": [
    "from sklearn.decomposition import PCA\n",
    "n_components = 15\n",
    "pca = PCA(n_components=15).fit(df_train_image)\n",
    "df_pca15 = pca.transform(df_train_image)"
   ]
  },
  {
   "cell_type": "code",
   "execution_count": 108,
   "metadata": {},
   "outputs": [
    {
     "data": {
      "text/html": [
       "<div>\n",
       "<style>\n",
       "    .dataframe thead tr:only-child th {\n",
       "        text-align: right;\n",
       "    }\n",
       "\n",
       "    .dataframe thead th {\n",
       "        text-align: left;\n",
       "    }\n",
       "\n",
       "    .dataframe tbody tr th {\n",
       "        vertical-align: top;\n",
       "    }\n",
       "</style>\n",
       "<table border=\"1\" class=\"dataframe\">\n",
       "  <thead>\n",
       "    <tr style=\"text-align: right;\">\n",
       "      <th></th>\n",
       "      <th>0</th>\n",
       "      <th>1</th>\n",
       "      <th>2</th>\n",
       "      <th>3</th>\n",
       "      <th>4</th>\n",
       "      <th>5</th>\n",
       "      <th>6</th>\n",
       "      <th>7</th>\n",
       "      <th>8</th>\n",
       "      <th>9</th>\n",
       "      <th>10</th>\n",
       "      <th>11</th>\n",
       "      <th>12</th>\n",
       "      <th>13</th>\n",
       "      <th>14</th>\n",
       "    </tr>\n",
       "  </thead>\n",
       "  <tbody>\n",
       "    <tr>\n",
       "      <th>0</th>\n",
       "      <td>123.932588</td>\n",
       "      <td>-312.674276</td>\n",
       "      <td>-24.514017</td>\n",
       "      <td>-555.757989</td>\n",
       "      <td>-27.296962</td>\n",
       "      <td>-232.475292</td>\n",
       "      <td>233.992338</td>\n",
       "      <td>159.823396</td>\n",
       "      <td>-363.528510</td>\n",
       "      <td>198.399124</td>\n",
       "      <td>197.650633</td>\n",
       "      <td>-253.826751</td>\n",
       "      <td>-110.051547</td>\n",
       "      <td>748.787850</td>\n",
       "      <td>220.364184</td>\n",
       "    </tr>\n",
       "    <tr>\n",
       "      <th>1</th>\n",
       "      <td>1011.718376</td>\n",
       "      <td>-294.857038</td>\n",
       "      <td>596.339570</td>\n",
       "      <td>-460.766204</td>\n",
       "      <td>-827.275326</td>\n",
       "      <td>-181.950305</td>\n",
       "      <td>-45.022248</td>\n",
       "      <td>-104.961055</td>\n",
       "      <td>40.456044</td>\n",
       "      <td>150.955021</td>\n",
       "      <td>-286.487639</td>\n",
       "      <td>-107.335753</td>\n",
       "      <td>-318.957491</td>\n",
       "      <td>91.538716</td>\n",
       "      <td>-237.678779</td>\n",
       "    </tr>\n",
       "    <tr>\n",
       "      <th>2</th>\n",
       "      <td>-51.849608</td>\n",
       "      <td>392.173171</td>\n",
       "      <td>-188.509786</td>\n",
       "      <td>521.011397</td>\n",
       "      <td>-306.680528</td>\n",
       "      <td>-1.836258</td>\n",
       "      <td>-859.045944</td>\n",
       "      <td>368.570522</td>\n",
       "      <td>-114.539313</td>\n",
       "      <td>-178.483053</td>\n",
       "      <td>450.420998</td>\n",
       "      <td>-159.162153</td>\n",
       "      <td>184.800596</td>\n",
       "      <td>109.513748</td>\n",
       "      <td>-145.425553</td>\n",
       "    </tr>\n",
       "    <tr>\n",
       "      <th>3</th>\n",
       "      <td>-799.127036</td>\n",
       "      <td>-607.197218</td>\n",
       "      <td>273.651239</td>\n",
       "      <td>105.878240</td>\n",
       "      <td>-1.853176</td>\n",
       "      <td>699.654682</td>\n",
       "      <td>-473.712925</td>\n",
       "      <td>-67.321223</td>\n",
       "      <td>302.728613</td>\n",
       "      <td>11.108055</td>\n",
       "      <td>-432.411774</td>\n",
       "      <td>-175.038645</td>\n",
       "      <td>244.258552</td>\n",
       "      <td>165.324012</td>\n",
       "      <td>-151.642618</td>\n",
       "    </tr>\n",
       "    <tr>\n",
       "      <th>4</th>\n",
       "      <td>-382.754942</td>\n",
       "      <td>730.542892</td>\n",
       "      <td>16.353712</td>\n",
       "      <td>-241.697476</td>\n",
       "      <td>98.161419</td>\n",
       "      <td>43.228675</td>\n",
       "      <td>-91.666277</td>\n",
       "      <td>-405.577641</td>\n",
       "      <td>225.519109</td>\n",
       "      <td>104.143126</td>\n",
       "      <td>-348.176515</td>\n",
       "      <td>459.301309</td>\n",
       "      <td>-259.171143</td>\n",
       "      <td>-313.081124</td>\n",
       "      <td>59.190636</td>\n",
       "    </tr>\n",
       "  </tbody>\n",
       "</table>\n",
       "</div>"
      ],
      "text/plain": [
       "            0           1           2           3           4           5   \\\n",
       "0   123.932588 -312.674276  -24.514017 -555.757989  -27.296962 -232.475292   \n",
       "1  1011.718376 -294.857038  596.339570 -460.766204 -827.275326 -181.950305   \n",
       "2   -51.849608  392.173171 -188.509786  521.011397 -306.680528   -1.836258   \n",
       "3  -799.127036 -607.197218  273.651239  105.878240   -1.853176  699.654682   \n",
       "4  -382.754942  730.542892   16.353712 -241.697476   98.161419   43.228675   \n",
       "\n",
       "           6           7           8           9           10          11  \\\n",
       "0  233.992338  159.823396 -363.528510  198.399124  197.650633 -253.826751   \n",
       "1  -45.022248 -104.961055   40.456044  150.955021 -286.487639 -107.335753   \n",
       "2 -859.045944  368.570522 -114.539313 -178.483053  450.420998 -159.162153   \n",
       "3 -473.712925  -67.321223  302.728613   11.108055 -432.411774 -175.038645   \n",
       "4  -91.666277 -405.577641  225.519109  104.143126 -348.176515  459.301309   \n",
       "\n",
       "           12          13          14  \n",
       "0 -110.051547  748.787850  220.364184  \n",
       "1 -318.957491   91.538716 -237.678779  \n",
       "2  184.800596  109.513748 -145.425553  \n",
       "3  244.258552  165.324012 -151.642618  \n",
       "4 -259.171143 -313.081124   59.190636  "
      ]
     },
     "execution_count": 108,
     "metadata": {},
     "output_type": "execute_result"
    }
   ],
   "source": [
    "df_pca15 = pd.DataFrame(df_pca15)\n",
    "df_pca15.head()"
   ]
  },
  {
   "cell_type": "code",
   "execution_count": 109,
   "metadata": {},
   "outputs": [
    {
     "data": {
      "text/plain": [
       "KMeans(algorithm='auto', copy_x=True, init='k-means++', max_iter=300,\n",
       "    n_clusters=10, n_init=10, n_jobs=1, precompute_distances='auto',\n",
       "    random_state=None, tol=0.0001, verbose=0)"
      ]
     },
     "execution_count": 109,
     "metadata": {},
     "output_type": "execute_result"
    }
   ],
   "source": [
    "from sklearn.cluster import KMeans\n",
    "kmeans = KMeans(init='k-means++', n_clusters=10, n_init=10)\n",
    "kmeans.fit(df_pca15)"
   ]
  },
  {
   "cell_type": "code",
   "execution_count": 117,
   "metadata": {},
   "outputs": [
    {
     "data": {
      "text/html": [
       "<div>\n",
       "<style>\n",
       "    .dataframe thead tr:only-child th {\n",
       "        text-align: right;\n",
       "    }\n",
       "\n",
       "    .dataframe thead th {\n",
       "        text-align: left;\n",
       "    }\n",
       "\n",
       "    .dataframe tbody tr th {\n",
       "        vertical-align: top;\n",
       "    }\n",
       "</style>\n",
       "<table border=\"1\" class=\"dataframe\">\n",
       "  <thead>\n",
       "    <tr style=\"text-align: right;\">\n",
       "      <th></th>\n",
       "      <th>0</th>\n",
       "      <th>1</th>\n",
       "      <th>2</th>\n",
       "      <th>3</th>\n",
       "      <th>4</th>\n",
       "      <th>5</th>\n",
       "      <th>6</th>\n",
       "      <th>7</th>\n",
       "      <th>8</th>\n",
       "      <th>9</th>\n",
       "      <th>10</th>\n",
       "      <th>11</th>\n",
       "      <th>12</th>\n",
       "      <th>13</th>\n",
       "      <th>14</th>\n",
       "      <th>cluster_id</th>\n",
       "      <th>digit_id</th>\n",
       "      <th>predicted_digit</th>\n",
       "      <th>lr_predicted_digit</th>\n",
       "    </tr>\n",
       "  </thead>\n",
       "  <tbody>\n",
       "    <tr>\n",
       "      <th>0</th>\n",
       "      <td>123.932588</td>\n",
       "      <td>-312.674276</td>\n",
       "      <td>-24.514017</td>\n",
       "      <td>-555.757989</td>\n",
       "      <td>-27.296962</td>\n",
       "      <td>-232.475292</td>\n",
       "      <td>233.992338</td>\n",
       "      <td>159.823396</td>\n",
       "      <td>-363.528510</td>\n",
       "      <td>198.399124</td>\n",
       "      <td>197.650633</td>\n",
       "      <td>-253.826751</td>\n",
       "      <td>-110.051547</td>\n",
       "      <td>748.787850</td>\n",
       "      <td>220.364184</td>\n",
       "      <td>3</td>\n",
       "      <td>5</td>\n",
       "      <td>8</td>\n",
       "      <td>3</td>\n",
       "    </tr>\n",
       "    <tr>\n",
       "      <th>1</th>\n",
       "      <td>1011.718376</td>\n",
       "      <td>-294.857038</td>\n",
       "      <td>596.339570</td>\n",
       "      <td>-460.766204</td>\n",
       "      <td>-827.275326</td>\n",
       "      <td>-181.950305</td>\n",
       "      <td>-45.022248</td>\n",
       "      <td>-104.961055</td>\n",
       "      <td>40.456044</td>\n",
       "      <td>150.955021</td>\n",
       "      <td>-286.487639</td>\n",
       "      <td>-107.335753</td>\n",
       "      <td>-318.957491</td>\n",
       "      <td>91.538716</td>\n",
       "      <td>-237.678779</td>\n",
       "      <td>9</td>\n",
       "      <td>0</td>\n",
       "      <td>5</td>\n",
       "      <td>0</td>\n",
       "    </tr>\n",
       "    <tr>\n",
       "      <th>2</th>\n",
       "      <td>-51.849608</td>\n",
       "      <td>392.173171</td>\n",
       "      <td>-188.509786</td>\n",
       "      <td>521.011397</td>\n",
       "      <td>-306.680528</td>\n",
       "      <td>-1.836258</td>\n",
       "      <td>-859.045944</td>\n",
       "      <td>368.570522</td>\n",
       "      <td>-114.539313</td>\n",
       "      <td>-178.483053</td>\n",
       "      <td>450.420998</td>\n",
       "      <td>-159.162153</td>\n",
       "      <td>184.800596</td>\n",
       "      <td>109.513748</td>\n",
       "      <td>-145.425553</td>\n",
       "      <td>2</td>\n",
       "      <td>4</td>\n",
       "      <td>4</td>\n",
       "      <td>4</td>\n",
       "    </tr>\n",
       "    <tr>\n",
       "      <th>3</th>\n",
       "      <td>-799.127036</td>\n",
       "      <td>-607.197218</td>\n",
       "      <td>273.651239</td>\n",
       "      <td>105.878240</td>\n",
       "      <td>-1.853176</td>\n",
       "      <td>699.654682</td>\n",
       "      <td>-473.712925</td>\n",
       "      <td>-67.321223</td>\n",
       "      <td>302.728613</td>\n",
       "      <td>11.108055</td>\n",
       "      <td>-432.411774</td>\n",
       "      <td>-175.038645</td>\n",
       "      <td>244.258552</td>\n",
       "      <td>165.324012</td>\n",
       "      <td>-151.642618</td>\n",
       "      <td>4</td>\n",
       "      <td>1</td>\n",
       "      <td>9</td>\n",
       "      <td>1</td>\n",
       "    </tr>\n",
       "    <tr>\n",
       "      <th>4</th>\n",
       "      <td>-382.754942</td>\n",
       "      <td>730.542892</td>\n",
       "      <td>16.353712</td>\n",
       "      <td>-241.697476</td>\n",
       "      <td>98.161419</td>\n",
       "      <td>43.228675</td>\n",
       "      <td>-91.666277</td>\n",
       "      <td>-405.577641</td>\n",
       "      <td>225.519109</td>\n",
       "      <td>104.143126</td>\n",
       "      <td>-348.176515</td>\n",
       "      <td>459.301309</td>\n",
       "      <td>-259.171143</td>\n",
       "      <td>-313.081124</td>\n",
       "      <td>59.190636</td>\n",
       "      <td>0</td>\n",
       "      <td>9</td>\n",
       "      <td>7</td>\n",
       "      <td>9</td>\n",
       "    </tr>\n",
       "  </tbody>\n",
       "</table>\n",
       "</div>"
      ],
      "text/plain": [
       "             0           1           2           3           4           5  \\\n",
       "0   123.932588 -312.674276  -24.514017 -555.757989  -27.296962 -232.475292   \n",
       "1  1011.718376 -294.857038  596.339570 -460.766204 -827.275326 -181.950305   \n",
       "2   -51.849608  392.173171 -188.509786  521.011397 -306.680528   -1.836258   \n",
       "3  -799.127036 -607.197218  273.651239  105.878240   -1.853176  699.654682   \n",
       "4  -382.754942  730.542892   16.353712 -241.697476   98.161419   43.228675   \n",
       "\n",
       "            6           7           8           9          10          11  \\\n",
       "0  233.992338  159.823396 -363.528510  198.399124  197.650633 -253.826751   \n",
       "1  -45.022248 -104.961055   40.456044  150.955021 -286.487639 -107.335753   \n",
       "2 -859.045944  368.570522 -114.539313 -178.483053  450.420998 -159.162153   \n",
       "3 -473.712925  -67.321223  302.728613   11.108055 -432.411774 -175.038645   \n",
       "4  -91.666277 -405.577641  225.519109  104.143126 -348.176515  459.301309   \n",
       "\n",
       "           12          13          14  cluster_id  digit_id  predicted_digit  \\\n",
       "0 -110.051547  748.787850  220.364184           3         5                8   \n",
       "1 -318.957491   91.538716 -237.678779           9         0                5   \n",
       "2  184.800596  109.513748 -145.425553           2         4                4   \n",
       "3  244.258552  165.324012 -151.642618           4         1                9   \n",
       "4 -259.171143 -313.081124   59.190636           0         9                7   \n",
       "\n",
       "   lr_predicted_digit  \n",
       "0                   3  \n",
       "1                   0  \n",
       "2                   4  \n",
       "3                   1  \n",
       "4                   9  "
      ]
     },
     "execution_count": 117,
     "metadata": {},
     "output_type": "execute_result"
    }
   ],
   "source": [
    "df_pca15['cluster_id'] = kmeans.predict(df_pca15.values[:,:n_components])\n",
    "df_pca15['digit_id'] = df_train.label\n",
    "df_pca15.head()"
   ]
  },
  {
   "cell_type": "code",
   "execution_count": 118,
   "metadata": {},
   "outputs": [],
   "source": [
    "digit2cluster = []\n",
    "for digit in range(10):\n",
    "    votes = df_pca15.cluster_id[df_pca15.digit_id == digit].value_counts()\n",
    "#     print()\n",
    "#     print(votes)\n",
    "#     print()\n",
    "    i = 0\n",
    "    cluster_id = votes.index[i]\n",
    "    while cluster_id in digit2cluster:\n",
    "        cluster_id = votes.index[i]\n",
    "        i += 1\n",
    "    digit2cluster.append(cluster_id)"
   ]
  },
  {
   "cell_type": "code",
   "execution_count": 119,
   "metadata": {},
   "outputs": [
    {
     "data": {
      "text/plain": [
       "[6, 5, 8, 1, 2, 9, 7, 0, 3, 4]"
      ]
     },
     "execution_count": 119,
     "metadata": {},
     "output_type": "execute_result"
    }
   ],
   "source": [
    "digit2cluster"
   ]
  },
  {
   "cell_type": "code",
   "execution_count": 120,
   "metadata": {},
   "outputs": [],
   "source": [
    "df_pca15['predicted_digit'] = [digit2cluster.index(cid) for cid in df_pca15.cluster_id]"
   ]
  },
  {
   "cell_type": "code",
   "execution_count": 121,
   "metadata": {},
   "outputs": [
    {
     "data": {
      "text/plain": [
       "0.51231666666666664"
      ]
     },
     "execution_count": 121,
     "metadata": {},
     "output_type": "execute_result"
    }
   ],
   "source": [
    "accuracy = (df_pca15.predicted_digit == df_pca15.digit_id).sum() / len(df_pca15)\n",
    "accuracy"
   ]
  },
  {
   "cell_type": "code",
   "execution_count": 122,
   "metadata": {},
   "outputs": [],
   "source": [
    "from sklearn.linear_model import LogisticRegression\n",
    "\n",
    "lr = LogisticRegression(class_weight='balanced')\n",
    "lr.fit(df_pca15.values[:,:n_components], df_pca15.digit_id)\n",
    "df_pca15['lr_predicted_digit'] = lr.predict(df_pca15.values[:,:n_components])"
   ]
  },
  {
   "cell_type": "code",
   "execution_count": 123,
   "metadata": {},
   "outputs": [
    {
     "data": {
      "text/plain": [
       "0.81796666666666662"
      ]
     },
     "execution_count": 123,
     "metadata": {},
     "output_type": "execute_result"
    }
   ],
   "source": [
    "lr.score(df_pca15.values[:,:n_components], df_pca15.digit_id)"
   ]
  },
  {
   "cell_type": "code",
   "execution_count": 124,
   "metadata": {},
   "outputs": [
    {
     "data": {
      "text/plain": [
       "0.81796666666666662"
      ]
     },
     "execution_count": 124,
     "metadata": {},
     "output_type": "execute_result"
    }
   ],
   "source": [
    "(df_pca15.lr_predicted_digit == df_pca15.digit_id).sum() / len(df_pca15)"
   ]
  }
 ],
 "metadata": {
  "kernelspec": {
   "display_name": "Python 3",
   "language": "python",
   "name": "python3"
  },
  "language_info": {
   "codemirror_mode": {
    "name": "ipython",
    "version": 3
   },
   "file_extension": ".py",
   "mimetype": "text/x-python",
   "name": "python",
   "nbconvert_exporter": "python",
   "pygments_lexer": "ipython3",
   "version": "3.6.1"
  }
 },
 "nbformat": 4,
 "nbformat_minor": 2
}
