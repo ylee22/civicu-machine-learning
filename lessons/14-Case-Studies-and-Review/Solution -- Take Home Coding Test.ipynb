{
 "cells": [
  {
   "cell_type": "markdown",
   "metadata": {},
   "source": [
    "## Interview \"Takehome\" Coding Test\n",
    "\n",
    "### Problem(s)\n",
    "\n",
    "1. find and download 1000 (or more) images of handwritten digits and correct labels for each (0 - 9)\n",
    "2. create a dataframe containing the image pixels for each image in a single row (vector) of integers or floats\n",
    "3. use SVD (PCA) algoirthms in Scikit-Learn (or any package) to reduce the dimensions of those vectors below 13-D\n",
    "4. cluster those vectors with a raw python function or script (using any algorithm you are familiar with, or one of your own design). Do **NOT** use sklearn or any other package not included in python (besides numpy and pandas) for this.\n",
    "5. use your cluster IDs to assign digit labels to each of the 1000 vectors (images). You **should** use the correct labels that you downloaded to make this assignment. But you should **NOT** use any machine learning model. Like #4 this should be a pure-python exercise. \n",
    "\n",
    "\n"
   ]
  },
  {
   "cell_type": "markdown",
   "metadata": {},
   "source": [
    "### Solution 1"
   ]
  },
  {
   "cell_type": "code",
   "execution_count": 14,
   "metadata": {
    "scrolled": true
   },
   "outputs": [
    {
     "name": "stdout",
     "output_type": "stream",
     "text": [
      "Requirement already satisfied: requests in /home/hobs/.virtualenvs/civicu/lib/python3.5/site-packages\n",
      "Requirement already satisfied: idna<2.7,>=2.5 in /home/hobs/.virtualenvs/civicu/lib/python3.5/site-packages (from requests)\n",
      "Requirement already satisfied: certifi>=2017.4.17 in /home/hobs/.virtualenvs/civicu/lib/python3.5/site-packages (from requests)\n",
      "Requirement already satisfied: chardet<3.1.0,>=3.0.2 in /home/hobs/.virtualenvs/civicu/lib/python3.5/site-packages (from requests)\n",
      "Requirement already satisfied: urllib3<1.23,>=1.21.1 in /home/hobs/.virtualenvs/civicu/lib/python3.5/site-packages (from requests)\n",
      "Uninstalling mnist-0.2.1:\n",
      "  Successfully uninstalled mnist-0.2.1\n",
      "Requirement already satisfied: python-mnist in /home/hobs/.virtualenvs/civicu/lib/python3.5/site-packages\n"
     ]
    }
   ],
   "source": [
    "!pip install requests\n",
    "!pip uninstall -y mnist\n",
    "!pip install python-mnist"
   ]
  },
  {
   "cell_type": "code",
   "execution_count": 1,
   "metadata": {},
   "outputs": [
    {
     "name": "stdout",
     "output_type": "stream",
     "text": [
      "13-Review\n",
      "/home/hobs/src/civicu-machine-learning/lessons/13-Review\n",
      "/home/hobs/src/civicu-machine-learning/lessons/13-Review/MNIST\n"
     ]
    }
   ],
   "source": [
    "import os\n",
    "os.path.basename\n",
    "dirname = 'MNIST'\n",
    "curdir = os.path.basename(os.path.abspath(os.path.curdir))\n",
    "print(curdir)\n",
    "print(os.path.abspath(os.path.curdir))\n",
    "\n",
    "# conditionals required to make this idempotent (so it can be run many times)\n",
    "if curdir != dirname:\n",
    "    if not os.path.isdir(dirname):\n",
    "        os.mkdir(dirname)\n",
    "    os.chdir(dirname)\n",
    "print(os.path.abspath(os.path.curdir))"
   ]
  },
  {
   "cell_type": "code",
   "execution_count": 8,
   "metadata": {
    "scrolled": true
   },
   "outputs": [
    {
     "name": "stdout",
     "output_type": "stream",
     "text": [
      "http://yann.lecun.com/exdb/mnist/t10k-images-idx3-ubyte.gz -> t10k-images-idx3-ubyte.gz\n",
      "t10k-images-idx3-ubyte.gz -> t10k-images-idx3-ubyte\n",
      "http://yann.lecun.com/exdb/mnist/t10k-labels-idx1-ubyte.gz -> t10k-labels-idx1-ubyte.gz\n",
      "t10k-labels-idx1-ubyte.gz -> t10k-labels-idx1-ubyte\n"
     ]
    }
   ],
   "source": [
    "import requests\n",
    "import gzip\n",
    "\n",
    "url = 'http://yann.lecun.com/exdb/mnist/'\n",
    "filenames = ['t10k-images-idx3-ubyte', 't10k-labels-idx1-ubyte']\n",
    "\n",
    "for filename in filenames:\n",
    "    resp = requests.get(url + filename + '.gz', stream=True)\n",
    "    with open(filename + '.gz', 'wb') as fout:\n",
    "        print(resp.url + ' -> ' + filename + '.gz')\n",
    "        for chunk in resp.iter_content(chunk_size=1024):\n",
    "            if chunk:\n",
    "                fout.write(chunk)\n",
    "    with gzip.open(filename + '.gz', 'rb') as fin:\n",
    "        print(filename + '.gz -> ' + filename)\n",
    "        with open(filename, 'wb') as fout:\n",
    "            fout.write(fin.read())\n"
   ]
  },
  {
   "cell_type": "code",
   "execution_count": 9,
   "metadata": {},
   "outputs": [
    {
     "name": "stdout",
     "output_type": "stream",
     "text": [
      "/home/hobs/src/civicu-machine-learning/lessons/13-Review/MNIST\n",
      "total 10968\n",
      "drwxr-xr-x 2 hobs hobs    4096 Oct  9 15:30 .\n",
      "drwxr-xr-x 4 hobs hobs    4096 Oct  9 15:41 ..\n",
      "-rw-r--r-- 1 hobs hobs 7840016 Oct  9 15:41 t10k-images-idx3-ubyte\n",
      "-rw-r--r-- 1 hobs hobs 1648877 Oct  9 15:41 t10k-images-idx3-ubyte.gz\n",
      "-rw-r--r-- 1 hobs hobs 1648877 Oct  9 15:30 t10k-images-idx3-ubyte.orig.gz\n",
      "-rw-r--r-- 1 hobs hobs   10008 Oct  9 15:41 t10k-labels-idx1-ubyte\n",
      "-rw-r--r-- 1 hobs hobs    4542 Oct  9 15:41 t10k-labels-idx1-ubyte.gz\n",
      "-rw-r--r-- 1 hobs hobs    4542 Oct  9 15:30 t10k-labels-idx1-ubyte.orig.gz\n"
     ]
    }
   ],
   "source": [
    "!pwd\n",
    "!ls -al"
   ]
  },
  {
   "cell_type": "code",
   "execution_count": 24,
   "metadata": {},
   "outputs": [
    {
     "name": "stdout",
     "output_type": "stream",
     "text": [
      "<class 'list'>\n",
      "10000\n",
      "<class 'array.array'>\n",
      "10000\n"
     ]
    }
   ],
   "source": [
    "from mnist import MNIST\n",
    "\n",
    "db = MNIST('.')\n",
    "# FileNotFoundError: [Errno 2] No such file or directory: './t10k-labels-idx1-ubyte'\n",
    "images, labels = db.load_testing()\n",
    "print(type(images))\n",
    "print(len(images))\n",
    "print(type(labels))\n",
    "print(len(labels))"
   ]
  },
  {
   "cell_type": "code",
   "execution_count": 25,
   "metadata": {},
   "outputs": [],
   "source": [
    "import pandas as pd\n",
    "\n",
    "image_width = int(len(list(images[0])) ** .5)\n",
    "images = pd.DataFrame(images, columns=[(int(i / image_width), i % image_width) for i in range(image_width * image_width)])\n",
    "images.columns = pd.MultiIndex.from_tuples(images.columns.values)"
   ]
  },
  {
   "cell_type": "code",
   "execution_count": 26,
   "metadata": {},
   "outputs": [
    {
     "data": {
      "text/html": [
       "<div>\n",
       "<style>\n",
       "    .dataframe thead tr:only-child th {\n",
       "        text-align: right;\n",
       "    }\n",
       "\n",
       "    .dataframe thead th {\n",
       "        text-align: left;\n",
       "    }\n",
       "\n",
       "    .dataframe tbody tr th {\n",
       "        vertical-align: top;\n",
       "    }\n",
       "</style>\n",
       "<table border=\"1\" class=\"dataframe\">\n",
       "  <thead>\n",
       "    <tr>\n",
       "      <th></th>\n",
       "      <th colspan=\"10\" halign=\"left\">0</th>\n",
       "      <th>...</th>\n",
       "      <th colspan=\"10\" halign=\"left\">27</th>\n",
       "    </tr>\n",
       "    <tr>\n",
       "      <th></th>\n",
       "      <th>0</th>\n",
       "      <th>1</th>\n",
       "      <th>2</th>\n",
       "      <th>3</th>\n",
       "      <th>4</th>\n",
       "      <th>5</th>\n",
       "      <th>6</th>\n",
       "      <th>7</th>\n",
       "      <th>8</th>\n",
       "      <th>9</th>\n",
       "      <th>...</th>\n",
       "      <th>18</th>\n",
       "      <th>19</th>\n",
       "      <th>20</th>\n",
       "      <th>21</th>\n",
       "      <th>22</th>\n",
       "      <th>23</th>\n",
       "      <th>24</th>\n",
       "      <th>25</th>\n",
       "      <th>26</th>\n",
       "      <th>27</th>\n",
       "    </tr>\n",
       "  </thead>\n",
       "  <tbody>\n",
       "    <tr>\n",
       "      <th>0</th>\n",
       "      <td>0</td>\n",
       "      <td>0</td>\n",
       "      <td>0</td>\n",
       "      <td>0</td>\n",
       "      <td>0</td>\n",
       "      <td>0</td>\n",
       "      <td>0</td>\n",
       "      <td>0</td>\n",
       "      <td>0</td>\n",
       "      <td>0</td>\n",
       "      <td>...</td>\n",
       "      <td>0</td>\n",
       "      <td>0</td>\n",
       "      <td>0</td>\n",
       "      <td>0</td>\n",
       "      <td>0</td>\n",
       "      <td>0</td>\n",
       "      <td>0</td>\n",
       "      <td>0</td>\n",
       "      <td>0</td>\n",
       "      <td>0</td>\n",
       "    </tr>\n",
       "    <tr>\n",
       "      <th>1</th>\n",
       "      <td>0</td>\n",
       "      <td>0</td>\n",
       "      <td>0</td>\n",
       "      <td>0</td>\n",
       "      <td>0</td>\n",
       "      <td>0</td>\n",
       "      <td>0</td>\n",
       "      <td>0</td>\n",
       "      <td>0</td>\n",
       "      <td>0</td>\n",
       "      <td>...</td>\n",
       "      <td>0</td>\n",
       "      <td>0</td>\n",
       "      <td>0</td>\n",
       "      <td>0</td>\n",
       "      <td>0</td>\n",
       "      <td>0</td>\n",
       "      <td>0</td>\n",
       "      <td>0</td>\n",
       "      <td>0</td>\n",
       "      <td>0</td>\n",
       "    </tr>\n",
       "    <tr>\n",
       "      <th>2</th>\n",
       "      <td>0</td>\n",
       "      <td>0</td>\n",
       "      <td>0</td>\n",
       "      <td>0</td>\n",
       "      <td>0</td>\n",
       "      <td>0</td>\n",
       "      <td>0</td>\n",
       "      <td>0</td>\n",
       "      <td>0</td>\n",
       "      <td>0</td>\n",
       "      <td>...</td>\n",
       "      <td>0</td>\n",
       "      <td>0</td>\n",
       "      <td>0</td>\n",
       "      <td>0</td>\n",
       "      <td>0</td>\n",
       "      <td>0</td>\n",
       "      <td>0</td>\n",
       "      <td>0</td>\n",
       "      <td>0</td>\n",
       "      <td>0</td>\n",
       "    </tr>\n",
       "    <tr>\n",
       "      <th>3</th>\n",
       "      <td>0</td>\n",
       "      <td>0</td>\n",
       "      <td>0</td>\n",
       "      <td>0</td>\n",
       "      <td>0</td>\n",
       "      <td>0</td>\n",
       "      <td>0</td>\n",
       "      <td>0</td>\n",
       "      <td>0</td>\n",
       "      <td>0</td>\n",
       "      <td>...</td>\n",
       "      <td>0</td>\n",
       "      <td>0</td>\n",
       "      <td>0</td>\n",
       "      <td>0</td>\n",
       "      <td>0</td>\n",
       "      <td>0</td>\n",
       "      <td>0</td>\n",
       "      <td>0</td>\n",
       "      <td>0</td>\n",
       "      <td>0</td>\n",
       "    </tr>\n",
       "    <tr>\n",
       "      <th>4</th>\n",
       "      <td>0</td>\n",
       "      <td>0</td>\n",
       "      <td>0</td>\n",
       "      <td>0</td>\n",
       "      <td>0</td>\n",
       "      <td>0</td>\n",
       "      <td>0</td>\n",
       "      <td>0</td>\n",
       "      <td>0</td>\n",
       "      <td>0</td>\n",
       "      <td>...</td>\n",
       "      <td>0</td>\n",
       "      <td>0</td>\n",
       "      <td>0</td>\n",
       "      <td>0</td>\n",
       "      <td>0</td>\n",
       "      <td>0</td>\n",
       "      <td>0</td>\n",
       "      <td>0</td>\n",
       "      <td>0</td>\n",
       "      <td>0</td>\n",
       "    </tr>\n",
       "  </tbody>\n",
       "</table>\n",
       "<p>5 rows × 784 columns</p>\n",
       "</div>"
      ],
      "text/plain": [
       "  0                             ... 27                           \n",
       "  0  1  2  3  4  5  6  7  8  9  ... 18 19 20 21 22 23 24 25 26 27\n",
       "0  0  0  0  0  0  0  0  0  0  0 ...  0  0  0  0  0  0  0  0  0  0\n",
       "1  0  0  0  0  0  0  0  0  0  0 ...  0  0  0  0  0  0  0  0  0  0\n",
       "2  0  0  0  0  0  0  0  0  0  0 ...  0  0  0  0  0  0  0  0  0  0\n",
       "3  0  0  0  0  0  0  0  0  0  0 ...  0  0  0  0  0  0  0  0  0  0\n",
       "4  0  0  0  0  0  0  0  0  0  0 ...  0  0  0  0  0  0  0  0  0  0\n",
       "\n",
       "[5 rows x 784 columns]"
      ]
     },
     "execution_count": 26,
     "metadata": {},
     "output_type": "execute_result"
    }
   ],
   "source": [
    "images.head()"
   ]
  },
  {
   "cell_type": "code",
   "execution_count": 27,
   "metadata": {},
   "outputs": [
    {
     "data": {
      "text/html": [
       "<div>\n",
       "<style>\n",
       "    .dataframe thead tr:only-child th {\n",
       "        text-align: right;\n",
       "    }\n",
       "\n",
       "    .dataframe thead th {\n",
       "        text-align: left;\n",
       "    }\n",
       "\n",
       "    .dataframe tbody tr th {\n",
       "        vertical-align: top;\n",
       "    }\n",
       "</style>\n",
       "<table border=\"1\" class=\"dataframe\">\n",
       "  <thead>\n",
       "    <tr style=\"text-align: right;\">\n",
       "      <th></th>\n",
       "      <th>0</th>\n",
       "      <th>1</th>\n",
       "      <th>2</th>\n",
       "      <th>3</th>\n",
       "      <th>4</th>\n",
       "      <th>5</th>\n",
       "      <th>6</th>\n",
       "      <th>7</th>\n",
       "      <th>8</th>\n",
       "      <th>9</th>\n",
       "      <th>10</th>\n",
       "      <th>11</th>\n",
       "    </tr>\n",
       "  </thead>\n",
       "  <tbody>\n",
       "    <tr>\n",
       "      <th>0</th>\n",
       "      <td>-411.260988</td>\n",
       "      <td>-686.561634</td>\n",
       "      <td>-51.113577</td>\n",
       "      <td>-242.567475</td>\n",
       "      <td>-483.546401</td>\n",
       "      <td>-380.058217</td>\n",
       "      <td>425.765883</td>\n",
       "      <td>-585.976347</td>\n",
       "      <td>-220.642997</td>\n",
       "      <td>274.633910</td>\n",
       "      <td>-30.791558</td>\n",
       "      <td>123.300488</td>\n",
       "    </tr>\n",
       "    <tr>\n",
       "      <th>1</th>\n",
       "      <td>58.065957</td>\n",
       "      <td>983.170050</td>\n",
       "      <td>8.884185</td>\n",
       "      <td>397.278766</td>\n",
       "      <td>-171.260510</td>\n",
       "      <td>447.792964</td>\n",
       "      <td>127.850263</td>\n",
       "      <td>-198.173698</td>\n",
       "      <td>210.817219</td>\n",
       "      <td>142.548314</td>\n",
       "      <td>111.174932</td>\n",
       "      <td>145.282729</td>\n",
       "    </tr>\n",
       "    <tr>\n",
       "      <th>2</th>\n",
       "      <td>-935.105330</td>\n",
       "      <td>459.074619</td>\n",
       "      <td>319.994431</td>\n",
       "      <td>262.530081</td>\n",
       "      <td>-469.900986</td>\n",
       "      <td>-126.968181</td>\n",
       "      <td>-32.387033</td>\n",
       "      <td>153.782935</td>\n",
       "      <td>84.450495</td>\n",
       "      <td>153.541369</td>\n",
       "      <td>-45.159547</td>\n",
       "      <td>-65.882819</td>\n",
       "    </tr>\n",
       "    <tr>\n",
       "      <th>3</th>\n",
       "      <td>1255.666520</td>\n",
       "      <td>-106.992651</td>\n",
       "      <td>121.966650</td>\n",
       "      <td>-246.650263</td>\n",
       "      <td>-318.412646</td>\n",
       "      <td>405.657428</td>\n",
       "      <td>627.279052</td>\n",
       "      <td>-128.263211</td>\n",
       "      <td>23.016377</td>\n",
       "      <td>115.330363</td>\n",
       "      <td>-175.939612</td>\n",
       "      <td>-530.155983</td>\n",
       "    </tr>\n",
       "    <tr>\n",
       "      <th>4</th>\n",
       "      <td>132.887072</td>\n",
       "      <td>-744.542034</td>\n",
       "      <td>-61.202333</td>\n",
       "      <td>703.882739</td>\n",
       "      <td>-129.236995</td>\n",
       "      <td>-279.900741</td>\n",
       "      <td>-509.313974</td>\n",
       "      <td>-281.314253</td>\n",
       "      <td>-226.677997</td>\n",
       "      <td>-51.295014</td>\n",
       "      <td>-266.023374</td>\n",
       "      <td>174.301325</td>\n",
       "    </tr>\n",
       "  </tbody>\n",
       "</table>\n",
       "</div>"
      ],
      "text/plain": [
       "            0           1           2           3           4           5   \\\n",
       "0  -411.260988 -686.561634  -51.113577 -242.567475 -483.546401 -380.058217   \n",
       "1    58.065957  983.170050    8.884185  397.278766 -171.260510  447.792964   \n",
       "2  -935.105330  459.074619  319.994431  262.530081 -469.900986 -126.968181   \n",
       "3  1255.666520 -106.992651  121.966650 -246.650263 -318.412646  405.657428   \n",
       "4   132.887072 -744.542034  -61.202333  703.882739 -129.236995 -279.900741   \n",
       "\n",
       "           6           7           8           9           10          11  \n",
       "0  425.765883 -585.976347 -220.642997  274.633910  -30.791558  123.300488  \n",
       "1  127.850263 -198.173698  210.817219  142.548314  111.174932  145.282729  \n",
       "2  -32.387033  153.782935   84.450495  153.541369  -45.159547  -65.882819  \n",
       "3  627.279052 -128.263211   23.016377  115.330363 -175.939612 -530.155983  \n",
       "4 -509.313974 -281.314253 -226.677997  -51.295014 -266.023374  174.301325  "
      ]
     },
     "execution_count": 27,
     "metadata": {},
     "output_type": "execute_result"
    }
   ],
   "source": [
    "from sklearn.decomposition import PCA\n",
    "\n",
    "pca = PCA(n_components=12)\n",
    "images_12d = pd.DataFrame(pca.fit_transform(images), index=images.index) \n",
    "images_12d.head()"
   ]
  },
  {
   "cell_type": "markdown",
   "metadata": {},
   "source": [
    "### [Standard K-Means Algorithm](https://en.wikipedia.org/wiki/K-means_clustering#Standard_algorithm)\n",
    "\n",
    "1. chose K starting vectors (a random sample is fine)\n",
    "2. go through the entire list of vectors and assign each one to the cluster whose mean is closest to the point\n",
    "3. record the previous means for the clusters and calculate new means (centroids) for each cluster\n",
    "4. if any of the new means are significantly different from the old means then go back to step 2 and do it all again"
   ]
  },
  {
   "cell_type": "code",
   "execution_count": null,
   "metadata": {},
   "outputs": [],
   "source": [
    "K = 10\n",
    "N = len(images_12d)\n",
    "D = len(images_12d.columns)\n",
    "\n",
    "previous_means = pd.np.zeros(K)\n",
    "means = images_12d.sample(K)  # randomly chose K starting points for the means\n",
    "clusters = [list() for i in range(K)]  # list of point IDs in each cluster\n",
    "done = False\n",
    "\n",
    "# if the means move more than a small portion of the average squared sum of the vectors then try to refine them some more\n",
    "epsilon = 1e-11 * pd.np.sum(images_12d ** 2) / N / D \n",
    "\n",
    "while any(change > epsilon):\n",
    "    for i, v in \n",
    "    closest = sorted([(pd.np.sqrt(pd.np.sum((v - mean) ** 2)), i) for i, v in images_12.iterrows()])[:]\n",
    "    change = pd.np.sum([(previous_means[i] - means[i]) ** 2 / D  for i in range(K)])"
   ]
  },
  {
   "cell_type": "code",
   "execution_count": 32,
   "metadata": {},
   "outputs": [
    {
     "name": "stdout",
     "output_type": "stream",
     "text": [
      "Int64Index([ 0,  1,  2,  3,  4,  5,  6,  7,  8,  9, 10, 11, 12, 13, 14, 15, 16,\n",
      "            17, 18, 19, 20, 21, 22, 23, 24, 25, 26, 27],\n",
      "           dtype='int64')\n",
      "Int64Index([ 0,  1,  2,  3,  4,  5,  6,  7,  8,  9, 10, 11, 12, 13, 14, 15, 16,\n",
      "            17, 18, 19, 20, 21, 22, 23, 24, 25, 26, 27],\n",
      "           dtype='int64')\n"
     ]
    }
   ],
   "source": [
    "for i in t.index.levels.:\n",
    "    print(i)"
   ]
  }
 ],
 "metadata": {
  "kernelspec": {
   "display_name": "Python 3",
   "language": "python",
   "name": "python3"
  },
  "language_info": {
   "codemirror_mode": {
    "name": "ipython",
    "version": 3
   },
   "file_extension": ".py",
   "mimetype": "text/x-python",
   "name": "python",
   "nbconvert_exporter": "python",
   "pygments_lexer": "ipython3",
   "version": "3.5.3"
  }
 },
 "nbformat": 4,
 "nbformat_minor": 2
}
