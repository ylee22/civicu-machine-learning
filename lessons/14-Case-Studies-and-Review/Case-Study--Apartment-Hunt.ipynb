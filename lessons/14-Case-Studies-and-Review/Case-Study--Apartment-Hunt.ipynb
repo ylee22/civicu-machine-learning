{
 "cells": [
  {
   "cell_type": "markdown",
   "metadata": {},
   "source": [
    "# Apartment Hunting\n",
    "\n",
    "How might you approach the problem of recognizing a good deal from a bad deal?\n",
    "\n",
    "Housing Markets are difficult to predict:\n",
    "- Continually changing marketplace\n",
    "- Many factors that play into one decision\n",
    "- Different features have different values to renters/rentees\n",
    "\n",
    "### 1. Formalize a Question "
   ]
  },
  {
   "cell_type": "code",
   "execution_count": null,
   "metadata": {
    "collapsed": true
   },
   "outputs": [],
   "source": []
  },
  {
   "cell_type": "markdown",
   "metadata": {},
   "source": [
    "### 2. What information do we need/would be helpful to answer this question? Where do we find it?"
   ]
  },
  {
   "cell_type": "code",
   "execution_count": null,
   "metadata": {
    "collapsed": true
   },
   "outputs": [],
   "source": []
  },
  {
   "cell_type": "markdown",
   "metadata": {},
   "source": [
    "### 3. What patterns do we see in the data? EDA"
   ]
  },
  {
   "cell_type": "code",
   "execution_count": 2,
   "metadata": {},
   "outputs": [
    {
     "data": {
      "text/html": [
       "<div>\n",
       "<style>\n",
       "    .dataframe thead tr:only-child th {\n",
       "        text-align: right;\n",
       "    }\n",
       "\n",
       "    .dataframe thead th {\n",
       "        text-align: left;\n",
       "    }\n",
       "\n",
       "    .dataframe tbody tr th {\n",
       "        vertical-align: top;\n",
       "    }\n",
       "</style>\n",
       "<table border=\"1\" class=\"dataframe\">\n",
       "  <thead>\n",
       "    <tr style=\"text-align: right;\">\n",
       "      <th></th>\n",
       "      <th>Unnamed: 0</th>\n",
       "      <th>available</th>\n",
       "      <th>bath</th>\n",
       "      <th>bed</th>\n",
       "      <th>cat</th>\n",
       "      <th>content</th>\n",
       "      <th>content_length</th>\n",
       "      <th>date</th>\n",
       "      <th>dog</th>\n",
       "      <th>feet</th>\n",
       "      <th>...</th>\n",
       "      <th>lastseen</th>\n",
       "      <th>lat</th>\n",
       "      <th>laundry</th>\n",
       "      <th>long</th>\n",
       "      <th>parking</th>\n",
       "      <th>price</th>\n",
       "      <th>smoking</th>\n",
       "      <th>time</th>\n",
       "      <th>title</th>\n",
       "      <th>wheelchair</th>\n",
       "    </tr>\n",
       "  </thead>\n",
       "  <tbody>\n",
       "    <tr>\n",
       "      <th>count</th>\n",
       "      <td>5.966800e+04</td>\n",
       "      <td>59662</td>\n",
       "      <td>57955.000000</td>\n",
       "      <td>57955.000000</td>\n",
       "      <td>59668.000000</td>\n",
       "      <td>59668</td>\n",
       "      <td>59668.000000</td>\n",
       "      <td>59668</td>\n",
       "      <td>59668.000000</td>\n",
       "      <td>52002.000000</td>\n",
       "      <td>...</td>\n",
       "      <td>35194</td>\n",
       "      <td>56280.000000</td>\n",
       "      <td>54706</td>\n",
       "      <td>56280.000000</td>\n",
       "      <td>45358</td>\n",
       "      <td>5.960300e+04</td>\n",
       "      <td>59662.0</td>\n",
       "      <td>59668</td>\n",
       "      <td>59668</td>\n",
       "      <td>59662.0</td>\n",
       "    </tr>\n",
       "    <tr>\n",
       "      <th>unique</th>\n",
       "      <td>NaN</td>\n",
       "      <td>418</td>\n",
       "      <td>NaN</td>\n",
       "      <td>NaN</td>\n",
       "      <td>NaN</td>\n",
       "      <td>42098</td>\n",
       "      <td>NaN</td>\n",
       "      <td>172</td>\n",
       "      <td>NaN</td>\n",
       "      <td>NaN</td>\n",
       "      <td>...</td>\n",
       "      <td>57</td>\n",
       "      <td>NaN</td>\n",
       "      <td>5</td>\n",
       "      <td>NaN</td>\n",
       "      <td>7</td>\n",
       "      <td>NaN</td>\n",
       "      <td>NaN</td>\n",
       "      <td>32748</td>\n",
       "      <td>37617</td>\n",
       "      <td>NaN</td>\n",
       "    </tr>\n",
       "    <tr>\n",
       "      <th>top</th>\n",
       "      <td>NaN</td>\n",
       "      <td>2017-03-01</td>\n",
       "      <td>NaN</td>\n",
       "      <td>NaN</td>\n",
       "      <td>NaN</td>\n",
       "      <td>Manger Special: $100 off rent for the first 6...</td>\n",
       "      <td>NaN</td>\n",
       "      <td>2017-05-30</td>\n",
       "      <td>NaN</td>\n",
       "      <td>NaN</td>\n",
       "      <td>...</td>\n",
       "      <td>2017-05-31</td>\n",
       "      <td>NaN</td>\n",
       "      <td>w/d in unit</td>\n",
       "      <td>NaN</td>\n",
       "      <td>off-street parking</td>\n",
       "      <td>NaN</td>\n",
       "      <td>NaN</td>\n",
       "      <td>09:44:21</td>\n",
       "      <td>1 AND 2 BED AVAILABLE</td>\n",
       "      <td>NaN</td>\n",
       "    </tr>\n",
       "    <tr>\n",
       "      <th>freq</th>\n",
       "      <td>NaN</td>\n",
       "      <td>1714</td>\n",
       "      <td>NaN</td>\n",
       "      <td>NaN</td>\n",
       "      <td>NaN</td>\n",
       "      <td>326</td>\n",
       "      <td>NaN</td>\n",
       "      <td>763</td>\n",
       "      <td>NaN</td>\n",
       "      <td>NaN</td>\n",
       "      <td>...</td>\n",
       "      <td>1748</td>\n",
       "      <td>NaN</td>\n",
       "      <td>34855</td>\n",
       "      <td>NaN</td>\n",
       "      <td>14897</td>\n",
       "      <td>NaN</td>\n",
       "      <td>NaN</td>\n",
       "      <td>8</td>\n",
       "      <td>132</td>\n",
       "      <td>NaN</td>\n",
       "    </tr>\n",
       "    <tr>\n",
       "      <th>mean</th>\n",
       "      <td>6.049989e+09</td>\n",
       "      <td>NaN</td>\n",
       "      <td>1.283944</td>\n",
       "      <td>1.436287</td>\n",
       "      <td>0.715258</td>\n",
       "      <td>NaN</td>\n",
       "      <td>222.731632</td>\n",
       "      <td>NaN</td>\n",
       "      <td>0.667510</td>\n",
       "      <td>888.145417</td>\n",
       "      <td>...</td>\n",
       "      <td>NaN</td>\n",
       "      <td>45.518263</td>\n",
       "      <td>NaN</td>\n",
       "      <td>-122.628349</td>\n",
       "      <td>NaN</td>\n",
       "      <td>2.802600e+03</td>\n",
       "      <td>0.0</td>\n",
       "      <td>NaN</td>\n",
       "      <td>NaN</td>\n",
       "      <td>0.0</td>\n",
       "    </tr>\n",
       "    <tr>\n",
       "      <th>std</th>\n",
       "      <td>6.018319e+07</td>\n",
       "      <td>NaN</td>\n",
       "      <td>0.513810</td>\n",
       "      <td>0.934212</td>\n",
       "      <td>0.451295</td>\n",
       "      <td>NaN</td>\n",
       "      <td>119.112952</td>\n",
       "      <td>NaN</td>\n",
       "      <td>0.471109</td>\n",
       "      <td>2384.246357</td>\n",
       "      <td>...</td>\n",
       "      <td>NaN</td>\n",
       "      <td>0.134953</td>\n",
       "      <td>NaN</td>\n",
       "      <td>0.507698</td>\n",
       "      <td>NaN</td>\n",
       "      <td>1.253909e+05</td>\n",
       "      <td>0.0</td>\n",
       "      <td>NaN</td>\n",
       "      <td>NaN</td>\n",
       "      <td>0.0</td>\n",
       "    </tr>\n",
       "    <tr>\n",
       "      <th>min</th>\n",
       "      <td>5.920380e+09</td>\n",
       "      <td>NaN</td>\n",
       "      <td>0.000000</td>\n",
       "      <td>0.000000</td>\n",
       "      <td>0.000000</td>\n",
       "      <td>NaN</td>\n",
       "      <td>3.000000</td>\n",
       "      <td>NaN</td>\n",
       "      <td>0.000000</td>\n",
       "      <td>1.000000</td>\n",
       "      <td>...</td>\n",
       "      <td>NaN</td>\n",
       "      <td>27.939305</td>\n",
       "      <td>NaN</td>\n",
       "      <td>-124.018466</td>\n",
       "      <td>NaN</td>\n",
       "      <td>1.000000e+00</td>\n",
       "      <td>0.0</td>\n",
       "      <td>NaN</td>\n",
       "      <td>NaN</td>\n",
       "      <td>0.0</td>\n",
       "    </tr>\n",
       "    <tr>\n",
       "      <th>25%</th>\n",
       "      <td>6.001450e+09</td>\n",
       "      <td>NaN</td>\n",
       "      <td>1.000000</td>\n",
       "      <td>1.000000</td>\n",
       "      <td>0.000000</td>\n",
       "      <td>NaN</td>\n",
       "      <td>143.000000</td>\n",
       "      <td>NaN</td>\n",
       "      <td>0.000000</td>\n",
       "      <td>604.000000</td>\n",
       "      <td>...</td>\n",
       "      <td>NaN</td>\n",
       "      <td>45.504798</td>\n",
       "      <td>NaN</td>\n",
       "      <td>-122.687025</td>\n",
       "      <td>NaN</td>\n",
       "      <td>1.190000e+03</td>\n",
       "      <td>0.0</td>\n",
       "      <td>NaN</td>\n",
       "      <td>NaN</td>\n",
       "      <td>0.0</td>\n",
       "    </tr>\n",
       "    <tr>\n",
       "      <th>50%</th>\n",
       "      <td>6.042061e+09</td>\n",
       "      <td>NaN</td>\n",
       "      <td>1.000000</td>\n",
       "      <td>1.000000</td>\n",
       "      <td>1.000000</td>\n",
       "      <td>NaN</td>\n",
       "      <td>212.000000</td>\n",
       "      <td>NaN</td>\n",
       "      <td>1.000000</td>\n",
       "      <td>789.000000</td>\n",
       "      <td>...</td>\n",
       "      <td>NaN</td>\n",
       "      <td>45.519138</td>\n",
       "      <td>NaN</td>\n",
       "      <td>-122.668855</td>\n",
       "      <td>NaN</td>\n",
       "      <td>1.399000e+03</td>\n",
       "      <td>0.0</td>\n",
       "      <td>NaN</td>\n",
       "      <td>NaN</td>\n",
       "      <td>0.0</td>\n",
       "    </tr>\n",
       "    <tr>\n",
       "      <th>75%</th>\n",
       "      <td>6.096789e+09</td>\n",
       "      <td>NaN</td>\n",
       "      <td>1.500000</td>\n",
       "      <td>2.000000</td>\n",
       "      <td>1.000000</td>\n",
       "      <td>NaN</td>\n",
       "      <td>287.000000</td>\n",
       "      <td>NaN</td>\n",
       "      <td>1.000000</td>\n",
       "      <td>1000.000000</td>\n",
       "      <td>...</td>\n",
       "      <td>NaN</td>\n",
       "      <td>45.532877</td>\n",
       "      <td>NaN</td>\n",
       "      <td>-122.612359</td>\n",
       "      <td>NaN</td>\n",
       "      <td>1.795000e+03</td>\n",
       "      <td>0.0</td>\n",
       "      <td>NaN</td>\n",
       "      <td>NaN</td>\n",
       "      <td>0.0</td>\n",
       "    </tr>\n",
       "    <tr>\n",
       "      <th>max</th>\n",
       "      <td>6.162432e+09</td>\n",
       "      <td>NaN</td>\n",
       "      <td>5.000000</td>\n",
       "      <td>8.000000</td>\n",
       "      <td>1.000000</td>\n",
       "      <td>NaN</td>\n",
       "      <td>4573.000000</td>\n",
       "      <td>NaN</td>\n",
       "      <td>1.000000</td>\n",
       "      <td>528135.000000</td>\n",
       "      <td>...</td>\n",
       "      <td>NaN</td>\n",
       "      <td>48.287600</td>\n",
       "      <td>NaN</td>\n",
       "      <td>-71.104200</td>\n",
       "      <td>NaN</td>\n",
       "      <td>1.450150e+07</td>\n",
       "      <td>0.0</td>\n",
       "      <td>NaN</td>\n",
       "      <td>NaN</td>\n",
       "      <td>0.0</td>\n",
       "    </tr>\n",
       "  </tbody>\n",
       "</table>\n",
       "<p>11 rows × 24 columns</p>\n",
       "</div>"
      ],
      "text/plain": [
       "          Unnamed: 0   available          bath           bed           cat  \\\n",
       "count   5.966800e+04       59662  57955.000000  57955.000000  59668.000000   \n",
       "unique           NaN         418           NaN           NaN           NaN   \n",
       "top              NaN  2017-03-01           NaN           NaN           NaN   \n",
       "freq             NaN        1714           NaN           NaN           NaN   \n",
       "mean    6.049989e+09         NaN      1.283944      1.436287      0.715258   \n",
       "std     6.018319e+07         NaN      0.513810      0.934212      0.451295   \n",
       "min     5.920380e+09         NaN      0.000000      0.000000      0.000000   \n",
       "25%     6.001450e+09         NaN      1.000000      1.000000      0.000000   \n",
       "50%     6.042061e+09         NaN      1.000000      1.000000      1.000000   \n",
       "75%     6.096789e+09         NaN      1.500000      2.000000      1.000000   \n",
       "max     6.162432e+09         NaN      5.000000      8.000000      1.000000   \n",
       "\n",
       "                                                  content  content_length  \\\n",
       "count                                               59668    59668.000000   \n",
       "unique                                              42098             NaN   \n",
       "top      Manger Special: $100 off rent for the first 6...             NaN   \n",
       "freq                                                  326             NaN   \n",
       "mean                                                  NaN      222.731632   \n",
       "std                                                   NaN      119.112952   \n",
       "min                                                   NaN        3.000000   \n",
       "25%                                                   NaN      143.000000   \n",
       "50%                                                   NaN      212.000000   \n",
       "75%                                                   NaN      287.000000   \n",
       "max                                                   NaN     4573.000000   \n",
       "\n",
       "              date           dog           feet     ...        lastseen  \\\n",
       "count        59668  59668.000000   52002.000000     ...           35194   \n",
       "unique         172           NaN            NaN     ...              57   \n",
       "top     2017-05-30           NaN            NaN     ...      2017-05-31   \n",
       "freq           763           NaN            NaN     ...            1748   \n",
       "mean           NaN      0.667510     888.145417     ...             NaN   \n",
       "std            NaN      0.471109    2384.246357     ...             NaN   \n",
       "min            NaN      0.000000       1.000000     ...             NaN   \n",
       "25%            NaN      0.000000     604.000000     ...             NaN   \n",
       "50%            NaN      1.000000     789.000000     ...             NaN   \n",
       "75%            NaN      1.000000    1000.000000     ...             NaN   \n",
       "max            NaN      1.000000  528135.000000     ...             NaN   \n",
       "\n",
       "                 lat      laundry          long             parking  \\\n",
       "count   56280.000000        54706  56280.000000               45358   \n",
       "unique           NaN            5           NaN                   7   \n",
       "top              NaN  w/d in unit           NaN  off-street parking   \n",
       "freq             NaN        34855           NaN               14897   \n",
       "mean       45.518263          NaN   -122.628349                 NaN   \n",
       "std         0.134953          NaN      0.507698                 NaN   \n",
       "min        27.939305          NaN   -124.018466                 NaN   \n",
       "25%        45.504798          NaN   -122.687025                 NaN   \n",
       "50%        45.519138          NaN   -122.668855                 NaN   \n",
       "75%        45.532877          NaN   -122.612359                 NaN   \n",
       "max        48.287600          NaN    -71.104200                 NaN   \n",
       "\n",
       "               price  smoking      time                  title  wheelchair  \n",
       "count   5.960300e+04  59662.0     59668                  59668     59662.0  \n",
       "unique           NaN      NaN     32748                  37617         NaN  \n",
       "top              NaN      NaN  09:44:21  1 AND 2 BED AVAILABLE         NaN  \n",
       "freq             NaN      NaN         8                    132         NaN  \n",
       "mean    2.802600e+03      0.0       NaN                    NaN         0.0  \n",
       "std     1.253909e+05      0.0       NaN                    NaN         0.0  \n",
       "min     1.000000e+00      0.0       NaN                    NaN         0.0  \n",
       "25%     1.190000e+03      0.0       NaN                    NaN         0.0  \n",
       "50%     1.399000e+03      0.0       NaN                    NaN         0.0  \n",
       "75%     1.795000e+03      0.0       NaN                    NaN         0.0  \n",
       "max     1.450150e+07      0.0       NaN                    NaN         0.0  \n",
       "\n",
       "[11 rows x 24 columns]"
      ]
     },
     "execution_count": 2,
     "metadata": {},
     "output_type": "execute_result"
    }
   ],
   "source": [
    "import pandas as pd\n",
    "import numpy as np\n",
    "import matplotlib.pyplot as plt\n",
    "df = pd.read_csv('../shared-resources/AptData.csv')\n",
    "df.describe(include='all')"
   ]
  },
  {
   "cell_type": "code",
   "execution_count": 71,
   "metadata": {},
   "outputs": [
    {
     "name": "stdout",
     "output_type": "stream",
     "text": [
      "Index(['Unnamed: 0', 'available', 'bath', 'bed', 'cat', 'content',\n",
      "       'content_length', 'date', 'dog', 'feet', 'furnished', 'getphotos',\n",
      "       'hasmap', 'housingtype', 'lastseen', 'lat', 'laundry', 'long',\n",
      "       'parking', 'price', 'smoking', 'time', 'title', 'wheelchair'],\n",
      "      dtype='object')\n"
     ]
    }
   ],
   "source": [
    "unique_data = df.drop_duplicates(keep='first')\n",
    "print(unique_data.columns)"
   ]
  },
  {
   "cell_type": "markdown",
   "metadata": {},
   "source": [
    "### 4. What methods might we use to answer our question?"
   ]
  },
  {
   "cell_type": "code",
   "execution_count": 75,
   "metadata": {
    "collapsed": true
   },
   "outputs": [],
   "source": [
    "# input features -> predict price (cont variable)\n",
    "# linear, log regress, neural, pca, forest\n",
    "from sklearn.model_selection import train_test_split\n",
    "from sklearn.linear_model import LinearRegression\n",
    "\n",
    "unique_data = df.drop_duplicates(keep='first')\n",
    "unique_data = unique_data[['bath', 'bed', 'feet', 'price']]\n",
    "unique_data = unique_data.dropna()\n",
    "\n",
    "X = unique_data.drop(['price'], axis=1)\n",
    "y = unique_data.price\n",
    "\n",
    "X_train, X_test, y_train, y_test = train_test_split(X, y, test_size = .15, random_state = 100)\n"
   ]
  },
  {
   "cell_type": "code",
   "execution_count": 76,
   "metadata": {},
   "outputs": [
    {
     "data": {
      "text/plain": [
       "0.0015649683266656389"
      ]
     },
     "execution_count": 76,
     "metadata": {},
     "output_type": "execute_result"
    }
   ],
   "source": [
    "lr = LinearRegression(normalize=True)\n",
    "lr.fit(X_train, y_train)\n",
    "\n",
    "lr.score(X_test, y_test)"
   ]
  },
  {
   "cell_type": "code",
   "execution_count": 80,
   "metadata": {},
   "outputs": [
    {
     "data": {
      "text/plain": [
       "RandomForestRegressor(bootstrap=True, criterion='mse', max_depth=None,\n",
       "           max_features='auto', max_leaf_nodes=None,\n",
       "           min_impurity_decrease=0.0, min_impurity_split=None,\n",
       "           min_samples_leaf=1, min_samples_split=2,\n",
       "           min_weight_fraction_leaf=0.0, n_estimators=30, n_jobs=1,\n",
       "           oob_score=False, random_state=None, verbose=0, warm_start=False)"
      ]
     },
     "execution_count": 80,
     "metadata": {},
     "output_type": "execute_result"
    }
   ],
   "source": [
    "from sklearn.ensemble import RandomForestRegressor\n",
    "from sklearn.metrics import r2_score\n",
    "\n",
    "rf = RandomForestRegressor(n_estimators=30)\n",
    "rf.fit(X_train, y_train)"
   ]
  },
  {
   "cell_type": "code",
   "execution_count": 81,
   "metadata": {
    "collapsed": true
   },
   "outputs": [],
   "source": [
    "pred = rf.predict(X_test)"
   ]
  },
  {
   "cell_type": "code",
   "execution_count": 82,
   "metadata": {},
   "outputs": [
    {
     "data": {
      "text/plain": [
       "-648.90878623577362"
      ]
     },
     "execution_count": 82,
     "metadata": {},
     "output_type": "execute_result"
    }
   ],
   "source": [
    "r2_score(pred, y_test)"
   ]
  },
  {
   "cell_type": "code",
   "execution_count": 32,
   "metadata": {},
   "outputs": [
    {
     "data": {
      "text/plain": [
       "array([[ 0.2       ,  0.        ,  0.00101679],\n",
       "       [ 0.5       ,  0.25      ,  0.00239333],\n",
       "       [ 0.2       ,  0.        ,  0.00115501],\n",
       "       ..., \n",
       "       [ 0.2       ,  0.125     ,  0.0014182 ],\n",
       "       [ 0.2       ,  0.125     ,  0.00098271],\n",
       "       [ 0.2       ,  0.        ,  0.00075549]])"
      ]
     },
     "execution_count": 32,
     "metadata": {},
     "output_type": "execute_result"
    }
   ],
   "source": [
    "from sklearn.preprocessing import MinMaxScaler\n",
    "\n",
    "scaler = MinMaxScaler()\n",
    "X_train = scaler.fit_transform(X_train)\n",
    "X_train.head()"
   ]
  },
  {
   "cell_type": "code",
   "execution_count": 64,
   "metadata": {},
   "outputs": [
    {
     "name": "stdout",
     "output_type": "stream",
     "text": [
      "[array([[-0.0318293 , -0.63616037, -0.43955475],\n",
      "       [-0.24039263,  0.3029573 , -0.51735497],\n",
      "       [-0.79712427,  0.84538138, -0.70950437]], dtype=float32), array([ 0.,  0.,  0.], dtype=float32)]\n"
     ]
    }
   ],
   "source": [
    "from keras.models import Sequential\n",
    "from keras.layers import Activation, Dense\n",
    "\n",
    "model = Sequential()\n",
    "model.add(Dense(3, input_shape=X_train.shape[1:]))  # model.layers[0].get_weights()[:].shape: [(2,),]\n",
    "model.add(Activation('relu'))  # relu, softmax, sigmoid\n",
    "model.compile(loss='mean_squared_error', optimizer='sgd') \n",
    "# notice that there are 2 random weights and a bias (initialized to zero), just like we had before\n",
    "print(model.layers[0].get_weights())"
   ]
  },
  {
   "cell_type": "code",
   "execution_count": 61,
   "metadata": {},
   "outputs": [
    {
     "name": "stdout",
     "output_type": "stream",
     "text": [
      "(3,)\n"
     ]
    }
   ],
   "source": [
    "print(X_train.shape[1:])\n",
    "# y_train.values.reshape(-1,1)"
   ]
  },
  {
   "cell_type": "code",
   "execution_count": 65,
   "metadata": {},
   "outputs": [
    {
     "ename": "ValueError",
     "evalue": "Error when checking target: expected activation_12 to have shape (None, 3) but got array with shape (43456, 1)",
     "output_type": "error",
     "traceback": [
      "\u001b[0;31m---------------------------------------------------------------------------\u001b[0m",
      "\u001b[0;31mValueError\u001b[0m                                Traceback (most recent call last)",
      "\u001b[0;32m<ipython-input-65-87018e53d597>\u001b[0m in \u001b[0;36m<module>\u001b[0;34m()\u001b[0m\n\u001b[0;32m----> 1\u001b[0;31m \u001b[0mmodel\u001b[0m\u001b[0;34m.\u001b[0m\u001b[0mfit\u001b[0m\u001b[0;34m(\u001b[0m\u001b[0mX_train\u001b[0m\u001b[0;34m,\u001b[0m \u001b[0my_train\u001b[0m\u001b[0;34m.\u001b[0m\u001b[0mvalues\u001b[0m\u001b[0;34m.\u001b[0m\u001b[0mreshape\u001b[0m\u001b[0;34m(\u001b[0m\u001b[0;34m-\u001b[0m\u001b[0;36m1\u001b[0m\u001b[0;34m,\u001b[0m\u001b[0;36m1\u001b[0m\u001b[0;34m)\u001b[0m\u001b[0;34m,\u001b[0m \u001b[0mbatch_size\u001b[0m\u001b[0;34m=\u001b[0m\u001b[0;36m100\u001b[0m\u001b[0;34m)\u001b[0m\u001b[0;34m\u001b[0m\u001b[0m\n\u001b[0m",
      "\u001b[0;32m/Users/leey/anaconda3/lib/python3.6/site-packages/keras/models.py\u001b[0m in \u001b[0;36mfit\u001b[0;34m(self, x, y, batch_size, epochs, verbose, callbacks, validation_split, validation_data, shuffle, class_weight, sample_weight, initial_epoch, **kwargs)\u001b[0m\n\u001b[1;32m    891\u001b[0m                               \u001b[0mclass_weight\u001b[0m\u001b[0;34m=\u001b[0m\u001b[0mclass_weight\u001b[0m\u001b[0;34m,\u001b[0m\u001b[0;34m\u001b[0m\u001b[0m\n\u001b[1;32m    892\u001b[0m                               \u001b[0msample_weight\u001b[0m\u001b[0;34m=\u001b[0m\u001b[0msample_weight\u001b[0m\u001b[0;34m,\u001b[0m\u001b[0;34m\u001b[0m\u001b[0m\n\u001b[0;32m--> 893\u001b[0;31m                               initial_epoch=initial_epoch)\n\u001b[0m\u001b[1;32m    894\u001b[0m \u001b[0;34m\u001b[0m\u001b[0m\n\u001b[1;32m    895\u001b[0m     def evaluate(self, x, y, batch_size=32, verbose=1,\n",
      "\u001b[0;32m/Users/leey/anaconda3/lib/python3.6/site-packages/keras/engine/training.py\u001b[0m in \u001b[0;36mfit\u001b[0;34m(self, x, y, batch_size, epochs, verbose, callbacks, validation_split, validation_data, shuffle, class_weight, sample_weight, initial_epoch, steps_per_epoch, validation_steps, **kwargs)\u001b[0m\n\u001b[1;32m   1553\u001b[0m             \u001b[0mclass_weight\u001b[0m\u001b[0;34m=\u001b[0m\u001b[0mclass_weight\u001b[0m\u001b[0;34m,\u001b[0m\u001b[0;34m\u001b[0m\u001b[0m\n\u001b[1;32m   1554\u001b[0m             \u001b[0mcheck_batch_axis\u001b[0m\u001b[0;34m=\u001b[0m\u001b[0;32mFalse\u001b[0m\u001b[0;34m,\u001b[0m\u001b[0;34m\u001b[0m\u001b[0m\n\u001b[0;32m-> 1555\u001b[0;31m             batch_size=batch_size)\n\u001b[0m\u001b[1;32m   1556\u001b[0m         \u001b[0;31m# Prepare validation data.\u001b[0m\u001b[0;34m\u001b[0m\u001b[0;34m\u001b[0m\u001b[0m\n\u001b[1;32m   1557\u001b[0m         \u001b[0mdo_validation\u001b[0m \u001b[0;34m=\u001b[0m \u001b[0;32mFalse\u001b[0m\u001b[0;34m\u001b[0m\u001b[0m\n",
      "\u001b[0;32m/Users/leey/anaconda3/lib/python3.6/site-packages/keras/engine/training.py\u001b[0m in \u001b[0;36m_standardize_user_data\u001b[0;34m(self, x, y, sample_weight, class_weight, check_batch_axis, batch_size)\u001b[0m\n\u001b[1;32m   1411\u001b[0m                                     \u001b[0moutput_shapes\u001b[0m\u001b[0;34m,\u001b[0m\u001b[0;34m\u001b[0m\u001b[0m\n\u001b[1;32m   1412\u001b[0m                                     \u001b[0mcheck_batch_axis\u001b[0m\u001b[0;34m=\u001b[0m\u001b[0;32mFalse\u001b[0m\u001b[0;34m,\u001b[0m\u001b[0;34m\u001b[0m\u001b[0m\n\u001b[0;32m-> 1413\u001b[0;31m                                     exception_prefix='target')\n\u001b[0m\u001b[1;32m   1414\u001b[0m         sample_weights = _standardize_sample_weights(sample_weight,\n\u001b[1;32m   1415\u001b[0m                                                      self._feed_output_names)\n",
      "\u001b[0;32m/Users/leey/anaconda3/lib/python3.6/site-packages/keras/engine/training.py\u001b[0m in \u001b[0;36m_standardize_input_data\u001b[0;34m(data, names, shapes, check_batch_axis, exception_prefix)\u001b[0m\n\u001b[1;32m    152\u001b[0m                             \u001b[0;34m' to have shape '\u001b[0m \u001b[0;34m+\u001b[0m \u001b[0mstr\u001b[0m\u001b[0;34m(\u001b[0m\u001b[0mshapes\u001b[0m\u001b[0;34m[\u001b[0m\u001b[0mi\u001b[0m\u001b[0;34m]\u001b[0m\u001b[0;34m)\u001b[0m \u001b[0;34m+\u001b[0m\u001b[0;34m\u001b[0m\u001b[0m\n\u001b[1;32m    153\u001b[0m                             \u001b[0;34m' but got array with shape '\u001b[0m \u001b[0;34m+\u001b[0m\u001b[0;34m\u001b[0m\u001b[0m\n\u001b[0;32m--> 154\u001b[0;31m                             str(array.shape))\n\u001b[0m\u001b[1;32m    155\u001b[0m     \u001b[0;32mreturn\u001b[0m \u001b[0marrays\u001b[0m\u001b[0;34m\u001b[0m\u001b[0m\n\u001b[1;32m    156\u001b[0m \u001b[0;34m\u001b[0m\u001b[0m\n",
      "\u001b[0;31mValueError\u001b[0m: Error when checking target: expected activation_12 to have shape (None, 3) but got array with shape (43456, 1)"
     ]
    }
   ],
   "source": [
    "model.fit(X_train, y_train.values.reshape(-1,1), batch_size=100)"
   ]
  },
  {
   "cell_type": "code",
   "execution_count": 38,
   "metadata": {},
   "outputs": [
    {
     "data": {
      "text/plain": [
       "(7669,)"
      ]
     },
     "execution_count": 38,
     "metadata": {},
     "output_type": "execute_result"
    }
   ],
   "source": [
    "# ypred = model.predict(X_test)\n",
    "# print(ypred.shape)\n",
    "# print(y.shape)\n",
    "# mad = np.abs(ypred - y_test.values.reshape(len(y_test), 1)).mean()\n",
    "# print(mad)"
   ]
  },
  {
   "cell_type": "markdown",
   "metadata": {},
   "source": [
    "### 5. How do we explain our results?"
   ]
  },
  {
   "cell_type": "code",
   "execution_count": null,
   "metadata": {
    "collapsed": true
   },
   "outputs": [],
   "source": []
  }
 ],
 "metadata": {
  "kernelspec": {
   "display_name": "Python 3",
   "language": "python",
   "name": "python3"
  },
  "language_info": {
   "codemirror_mode": {
    "name": "ipython",
    "version": 3
   },
   "file_extension": ".py",
   "mimetype": "text/x-python",
   "name": "python",
   "nbconvert_exporter": "python",
   "pygments_lexer": "ipython3",
   "version": "3.6.1"
  }
 },
 "nbformat": 4,
 "nbformat_minor": 2
}
