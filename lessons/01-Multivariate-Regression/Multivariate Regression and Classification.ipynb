{
 "cells": [
  {
   "cell_type": "code",
   "execution_count": 2,
   "metadata": {},
   "outputs": [
    {
     "data": {
      "text/plain": [
       "<matplotlib.axes._subplots.AxesSubplot at 0x7fa01035ff60>"
      ]
     },
     "execution_count": 2,
     "metadata": {},
     "output_type": "execute_result"
    },
    {
     "data": {
      "image/png": "[encoded data removed]",
      "text/plain": [
       "<matplotlib.figure.Figure at 0x7fa010368f28>"
      ]
     },
     "metadata": {},
     "output_type": "display_data"
    }
   ],
   "source": [
    "import pandas as pd\n",
    "import matplotlib\n",
    "%matplotlib inline\n",
    "df = pd.read_csv('../shared-resources/heights_weights_genders.csv')\n",
    "df.plot.scatter(x='Height', y='Weight')"
   ]
  },
  {
   "cell_type": "code",
   "execution_count": 3,
   "metadata": {},
   "outputs": [],
   "source": [
    "from sklearn.linear_model import LinearRegression, LogisticRegression"
   ]
  },
  {
   "cell_type": "code",
   "execution_count": 4,
   "metadata": {},
   "outputs": [],
   "source": [
    "X = df[['Height', 'Weight']].values\n",
    "y = (df.Gender == 'Female').astype(int)"
   ]
  },
  {
   "cell_type": "code",
   "execution_count": 5,
   "metadata": {},
   "outputs": [],
   "source": [
    "linearreg = LinearRegression(normalize=True)\n",
    "linearreg = linearreg.fit(X, y)"
   ]
  },
  {
   "cell_type": "code",
   "execution_count": 6,
   "metadata": {},
   "outputs": [
    {
     "data": {
      "text/plain": [
       "0.64919062023668461"
      ]
     },
     "execution_count": 6,
     "metadata": {},
     "output_type": "execute_result"
    }
   ],
   "source": [
    "linearreg.score(X, y)"
   ]
  },
  {
   "cell_type": "code",
   "execution_count": 7,
   "metadata": {},
   "outputs": [],
   "source": [
    "df['ypred_linear'] = linearreg.predict(X)\n",
    "df['y'] = y\n",
    "rmse = pd.np.sqrt(((df.ypred_linear - df.y) ** 2).mean())"
   ]
  },
  {
   "cell_type": "code",
   "execution_count": 8,
   "metadata": {},
   "outputs": [],
   "source": [
    "linearreg.score??\n"
   ]
  },
  {
   "cell_type": "code",
   "execution_count": 9,
   "metadata": {},
   "outputs": [
    {
     "data": {
      "text/plain": [
       "0.087702344940828861"
      ]
     },
     "execution_count": 9,
     "metadata": {},
     "output_type": "execute_result"
    }
   ],
   "source": [
    "((df.ypred_linear - df.y) ** 2).mean()  # wrong mean accuracy"
   ]
  },
  {
   "cell_type": "code",
   "execution_count": 10,
   "metadata": {},
   "outputs": [
    {
     "data": {
      "text/plain": [
       "0.5"
      ]
     },
     "execution_count": 10,
     "metadata": {},
     "output_type": "execute_result"
    }
   ],
   "source": [
    "proportion_female = y.sum() / len(df)\n",
    "proportion_female\n"
   ]
  },
  {
   "cell_type": "code",
   "execution_count": 11,
   "metadata": {},
   "outputs": [],
   "source": [
    "logreg = LogisticRegression(class_weight=\n",
    "    {0: 1 - proportion_female, 1: proportion_female})\n",
    "logreg = logreg.fit(X, y)"
   ]
  },
  {
   "cell_type": "code",
   "execution_count": 12,
   "metadata": {},
   "outputs": [
    {
     "data": {
      "text/plain": [
       "0.91949999999999998"
      ]
     },
     "execution_count": 12,
     "metadata": {},
     "output_type": "execute_result"
    }
   ],
   "source": [
    "logreg.score(X, y)"
   ]
  },
  {
   "cell_type": "code",
   "execution_count": 13,
   "metadata": {},
   "outputs": [
    {
     "data": {
      "text/plain": [
       "0.91949999999999998"
      ]
     },
     "execution_count": 13,
     "metadata": {},
     "output_type": "execute_result"
    }
   ],
   "source": [
    "df['ypred'] = logreg.predict(X)\n",
    "correct_pred = df.ypred == y\n",
    "correct_pred.sum() / df.shape[0]\n"
   ]
  },
  {
   "cell_type": "code",
   "execution_count": 14,
   "metadata": {},
   "outputs": [],
   "source": [
    "df['e_linear'] = df.ypred_linear - y"
   ]
  },
  {
   "cell_type": "code",
   "execution_count": 15,
   "metadata": {},
   "outputs": [
    {
     "data": {
      "text/plain": [
       "LinearRegression(copy_X=True, fit_intercept=True, n_jobs=1, normalize=True)"
      ]
     },
     "execution_count": 15,
     "metadata": {},
     "output_type": "execute_result"
    }
   ],
   "source": [
    "df['gender_int'] = (df.Gender == 'Female').astype(int)\n",
    "X = df[['gender_int', 'Height']].values.astype(float)\n",
    "y = df.Weight.values.reshape(-1, 1)\n",
    "mvlr = LinearRegression(normalize=True)\n",
    "mvlr.fit(X, y)"
   ]
  },
  {
   "cell_type": "code",
   "execution_count": 16,
   "metadata": {},
   "outputs": [
    {
     "data": {
      "text/plain": [
       "0.90274817292200915"
      ]
     },
     "execution_count": 16,
     "metadata": {},
     "output_type": "execute_result"
    }
   ],
   "source": [
    "mvlr.score(X, y)"
   ]
  },
  {
   "cell_type": "code",
   "execution_count": 17,
   "metadata": {},
   "outputs": [
    {
     "data": {
      "text/plain": [
       "array([[<matplotlib.axes._subplots.AxesSubplot object at 0x7fa0055400f0>]], dtype=object)"
      ]
     },
     "execution_count": 17,
     "metadata": {},
     "output_type": "execute_result"
    },
    {
     "data": {
      "image/png": "[encoded data removed]",
      "text/plain": [
       "<matplotlib.figure.Figure at 0x7fa0055337b8>"
      ]
     },
     "metadata": {},
     "output_type": "display_data"
    }
   ],
   "source": [
    "df['weightpred_mvlr'] = mvlr.predict(X)\n",
    "df['e_mvlr'] = (df.weightpred_mvlr - df.Weight)\n",
    "df[['e_mvlr']].hist(bins=20)"
   ]
  },
  {
   "cell_type": "code",
   "execution_count": 18,
   "metadata": {},
   "outputs": [
    {
     "data": {
      "text/plain": [
       "10.012588345446908"
      ]
     },
     "execution_count": 18,
     "metadata": {},
     "output_type": "execute_result"
    }
   ],
   "source": [
    "(df.e_mvlr ** 2).mean() ** .5 "
   ]
  },
  {
   "cell_type": "code",
   "execution_count": 26,
   "metadata": {},
   "outputs": [],
   "source": [
    "df['square_height'] = df.Height ** 2"
   ]
  },
  {
   "cell_type": "code",
   "execution_count": 27,
   "metadata": {},
   "outputs": [
    {
     "data": {
      "text/html": [
       "<div>\n",
       "<style>\n",
       "    .dataframe thead tr:only-child th {\n",
       "        text-align: right;\n",
       "    }\n",
       "\n",
       "    .dataframe thead th {\n",
       "        text-align: left;\n",
       "    }\n",
       "\n",
       "    .dataframe tbody tr th {\n",
       "        vertical-align: top;\n",
       "    }\n",
       "</style>\n",
       "<table border=\"1\" class=\"dataframe\">\n",
       "  <thead>\n",
       "    <tr style=\"text-align: right;\">\n",
       "      <th></th>\n",
       "      <th>Gender</th>\n",
       "      <th>Height</th>\n",
       "      <th>Weight</th>\n",
       "      <th>ypred_linear</th>\n",
       "      <th>y</th>\n",
       "      <th>ypred</th>\n",
       "      <th>e_linear</th>\n",
       "      <th>gender_int</th>\n",
       "      <th>weightpred_mvlr</th>\n",
       "      <th>e_mvlr</th>\n",
       "      <th>log_height</th>\n",
       "      <th>predicted_weight_with_log</th>\n",
       "      <th>square_height</th>\n",
       "    </tr>\n",
       "  </thead>\n",
       "  <tbody>\n",
       "    <tr>\n",
       "      <th>0</th>\n",
       "      <td>Male</td>\n",
       "      <td>73.847017</td>\n",
       "      <td>241.893563</td>\n",
       "      <td>-0.557098</td>\n",
       "      <td>0</td>\n",
       "      <td>0</td>\n",
       "      <td>-0.557098</td>\n",
       "      <td>0</td>\n",
       "      <td>215.833489</td>\n",
       "      <td>-26.060075</td>\n",
       "      <td>4.301996</td>\n",
       "      <td>215.912728</td>\n",
       "      <td>5453.381922</td>\n",
       "    </tr>\n",
       "    <tr>\n",
       "      <th>1</th>\n",
       "      <td>Male</td>\n",
       "      <td>68.781904</td>\n",
       "      <td>162.310473</td>\n",
       "      <td>0.584266</td>\n",
       "      <td>0</td>\n",
       "      <td>1</td>\n",
       "      <td>0.584266</td>\n",
       "      <td>0</td>\n",
       "      <td>185.559606</td>\n",
       "      <td>23.249134</td>\n",
       "      <td>4.230941</td>\n",
       "      <td>185.541468</td>\n",
       "      <td>4730.950324</td>\n",
       "    </tr>\n",
       "    <tr>\n",
       "      <th>2</th>\n",
       "      <td>Male</td>\n",
       "      <td>74.110105</td>\n",
       "      <td>212.740856</td>\n",
       "      <td>-0.052111</td>\n",
       "      <td>0</td>\n",
       "      <td>0</td>\n",
       "      <td>-0.052111</td>\n",
       "      <td>0</td>\n",
       "      <td>217.405952</td>\n",
       "      <td>4.665097</td>\n",
       "      <td>4.305552</td>\n",
       "      <td>217.492673</td>\n",
       "      <td>5492.307721</td>\n",
       "    </tr>\n",
       "    <tr>\n",
       "      <th>3</th>\n",
       "      <td>Male</td>\n",
       "      <td>71.730978</td>\n",
       "      <td>220.042470</td>\n",
       "      <td>-0.273460</td>\n",
       "      <td>0</td>\n",
       "      <td>0</td>\n",
       "      <td>-0.273460</td>\n",
       "      <td>0</td>\n",
       "      <td>203.186050</td>\n",
       "      <td>-16.856420</td>\n",
       "      <td>4.272923</td>\n",
       "      <td>203.213585</td>\n",
       "      <td>5145.333263</td>\n",
       "    </tr>\n",
       "    <tr>\n",
       "      <th>4</th>\n",
       "      <td>Male</td>\n",
       "      <td>69.881796</td>\n",
       "      <td>206.349801</td>\n",
       "      <td>-0.117180</td>\n",
       "      <td>0</td>\n",
       "      <td>0</td>\n",
       "      <td>-0.117180</td>\n",
       "      <td>0</td>\n",
       "      <td>192.133595</td>\n",
       "      <td>-14.216206</td>\n",
       "      <td>4.246805</td>\n",
       "      <td>192.128763</td>\n",
       "      <td>4883.465393</td>\n",
       "    </tr>\n",
       "  </tbody>\n",
       "</table>\n",
       "</div>"
      ],
      "text/plain": [
       "  Gender     Height      Weight  ypred_linear  y  ypred  e_linear  gender_int  \\\n",
       "0   Male  73.847017  241.893563     -0.557098  0      0 -0.557098           0   \n",
       "1   Male  68.781904  162.310473      0.584266  0      1  0.584266           0   \n",
       "2   Male  74.110105  212.740856     -0.052111  0      0 -0.052111           0   \n",
       "3   Male  71.730978  220.042470     -0.273460  0      0 -0.273460           0   \n",
       "4   Male  69.881796  206.349801     -0.117180  0      0 -0.117180           0   \n",
       "\n",
       "   weightpred_mvlr     e_mvlr  log_height  predicted_weight_with_log  \\\n",
       "0       215.833489 -26.060075    4.301996                 215.912728   \n",
       "1       185.559606  23.249134    4.230941                 185.541468   \n",
       "2       217.405952   4.665097    4.305552                 217.492673   \n",
       "3       203.186050 -16.856420    4.272923                 203.213585   \n",
       "4       192.133595 -14.216206    4.246805                 192.128763   \n",
       "\n",
       "   square_height  \n",
       "0    5453.381922  \n",
       "1    4730.950324  \n",
       "2    5492.307721  \n",
       "3    5145.333263  \n",
       "4    4883.465393  "
      ]
     },
     "execution_count": 27,
     "metadata": {},
     "output_type": "execute_result"
    }
   ],
   "source": [
    "df.head()"
   ]
  },
  {
   "cell_type": "code",
   "execution_count": 28,
   "metadata": {},
   "outputs": [
    {
     "data": {
      "text/plain": [
       "array([[ 241.89356318],\n",
       "       [ 162.31047252],\n",
       "       [ 212.74085556],\n",
       "       ..., \n",
       "       [ 128.47531878],\n",
       "       [ 163.85246135],\n",
       "       [ 113.64910268]])"
      ]
     },
     "execution_count": 28,
     "metadata": {},
     "output_type": "execute_result"
    }
   ],
   "source": [
    "X = df[['gender_int', 'Height', 'square_height']]\n",
    "y"
   ]
  },
  {
   "cell_type": "code",
   "execution_count": 29,
   "metadata": {},
   "outputs": [
    {
     "data": {
      "text/html": [
       "<div>\n",
       "<style>\n",
       "    .dataframe thead tr:only-child th {\n",
       "        text-align: right;\n",
       "    }\n",
       "\n",
       "    .dataframe thead th {\n",
       "        text-align: left;\n",
       "    }\n",
       "\n",
       "    .dataframe tbody tr th {\n",
       "        vertical-align: top;\n",
       "    }\n",
       "</style>\n",
       "<table border=\"1\" class=\"dataframe\">\n",
       "  <thead>\n",
       "    <tr style=\"text-align: right;\">\n",
       "      <th></th>\n",
       "      <th>Gender</th>\n",
       "      <th>Height</th>\n",
       "      <th>Weight</th>\n",
       "      <th>ypred_linear</th>\n",
       "      <th>y</th>\n",
       "      <th>ypred</th>\n",
       "      <th>e_linear</th>\n",
       "      <th>gender_int</th>\n",
       "      <th>weightpred_mvlr</th>\n",
       "      <th>e_mvlr</th>\n",
       "      <th>log_height</th>\n",
       "      <th>predicted_weight_with_log</th>\n",
       "      <th>square_height</th>\n",
       "      <th>predicted_weight_with_square</th>\n",
       "    </tr>\n",
       "  </thead>\n",
       "  <tbody>\n",
       "    <tr>\n",
       "      <th>0</th>\n",
       "      <td>Male</td>\n",
       "      <td>73.847017</td>\n",
       "      <td>241.893563</td>\n",
       "      <td>-0.557098</td>\n",
       "      <td>0</td>\n",
       "      <td>0</td>\n",
       "      <td>-0.557098</td>\n",
       "      <td>0</td>\n",
       "      <td>215.833489</td>\n",
       "      <td>-26.060075</td>\n",
       "      <td>4.301996</td>\n",
       "      <td>215.912728</td>\n",
       "      <td>5453.381922</td>\n",
       "      <td>215.938977</td>\n",
       "    </tr>\n",
       "    <tr>\n",
       "      <th>1</th>\n",
       "      <td>Male</td>\n",
       "      <td>68.781904</td>\n",
       "      <td>162.310473</td>\n",
       "      <td>0.584266</td>\n",
       "      <td>0</td>\n",
       "      <td>1</td>\n",
       "      <td>0.584266</td>\n",
       "      <td>0</td>\n",
       "      <td>185.559606</td>\n",
       "      <td>23.249134</td>\n",
       "      <td>4.230941</td>\n",
       "      <td>185.541468</td>\n",
       "      <td>4730.950324</td>\n",
       "      <td>185.534658</td>\n",
       "    </tr>\n",
       "    <tr>\n",
       "      <th>2</th>\n",
       "      <td>Male</td>\n",
       "      <td>74.110105</td>\n",
       "      <td>212.740856</td>\n",
       "      <td>-0.052111</td>\n",
       "      <td>0</td>\n",
       "      <td>0</td>\n",
       "      <td>-0.052111</td>\n",
       "      <td>0</td>\n",
       "      <td>217.405952</td>\n",
       "      <td>4.665097</td>\n",
       "      <td>4.305552</td>\n",
       "      <td>217.492673</td>\n",
       "      <td>5492.307721</td>\n",
       "      <td>217.521942</td>\n",
       "    </tr>\n",
       "    <tr>\n",
       "      <th>3</th>\n",
       "      <td>Male</td>\n",
       "      <td>71.730978</td>\n",
       "      <td>220.042470</td>\n",
       "      <td>-0.273460</td>\n",
       "      <td>0</td>\n",
       "      <td>0</td>\n",
       "      <td>-0.273460</td>\n",
       "      <td>0</td>\n",
       "      <td>203.186050</td>\n",
       "      <td>-16.856420</td>\n",
       "      <td>4.272923</td>\n",
       "      <td>203.213585</td>\n",
       "      <td>5145.333263</td>\n",
       "      <td>203.220462</td>\n",
       "    </tr>\n",
       "    <tr>\n",
       "      <th>4</th>\n",
       "      <td>Male</td>\n",
       "      <td>69.881796</td>\n",
       "      <td>206.349801</td>\n",
       "      <td>-0.117180</td>\n",
       "      <td>0</td>\n",
       "      <td>0</td>\n",
       "      <td>-0.117180</td>\n",
       "      <td>0</td>\n",
       "      <td>192.133595</td>\n",
       "      <td>-14.216206</td>\n",
       "      <td>4.246805</td>\n",
       "      <td>192.128763</td>\n",
       "      <td>4883.465393</td>\n",
       "      <td>192.125380</td>\n",
       "    </tr>\n",
       "  </tbody>\n",
       "</table>\n",
       "</div>"
      ],
      "text/plain": [
       "  Gender     Height      Weight  ypred_linear  y  ypred  e_linear  gender_int  \\\n",
       "0   Male  73.847017  241.893563     -0.557098  0      0 -0.557098           0   \n",
       "1   Male  68.781904  162.310473      0.584266  0      1  0.584266           0   \n",
       "2   Male  74.110105  212.740856     -0.052111  0      0 -0.052111           0   \n",
       "3   Male  71.730978  220.042470     -0.273460  0      0 -0.273460           0   \n",
       "4   Male  69.881796  206.349801     -0.117180  0      0 -0.117180           0   \n",
       "\n",
       "   weightpred_mvlr     e_mvlr  log_height  predicted_weight_with_log  \\\n",
       "0       215.833489 -26.060075    4.301996                 215.912728   \n",
       "1       185.559606  23.249134    4.230941                 185.541468   \n",
       "2       217.405952   4.665097    4.305552                 217.492673   \n",
       "3       203.186050 -16.856420    4.272923                 203.213585   \n",
       "4       192.133595 -14.216206    4.246805                 192.128763   \n",
       "\n",
       "   square_height  predicted_weight_with_square  \n",
       "0    5453.381922                    215.938977  \n",
       "1    4730.950324                    185.534658  \n",
       "2    5492.307721                    217.521942  \n",
       "3    5145.333263                    203.220462  \n",
       "4    4883.465393                    192.125380  "
      ]
     },
     "execution_count": 29,
     "metadata": {},
     "output_type": "execute_result"
    }
   ],
   "source": [
    "mvlr = mvlr.fit(X, y)\n",
    "df['predicted_weight_with_square'] = mvlr.predict(X)\n",
    "df.head()"
   ]
  },
  {
   "cell_type": "code",
   "execution_count": 31,
   "metadata": {},
   "outputs": [
    {
     "data": {
      "text/plain": [
       "0.90275045926673381"
      ]
     },
     "execution_count": 31,
     "metadata": {},
     "output_type": "execute_result"
    }
   ],
   "source": [
    "mvlr.score(X, y)"
   ]
  },
  {
   "cell_type": "code",
   "execution_count": 32,
   "metadata": {},
   "outputs": [
    {
     "data": {
      "text/plain": [
       "<matplotlib.axes._subplots.AxesSubplot at 0x7fa005420550>"
      ]
     },
     "execution_count": 32,
     "metadata": {},
     "output_type": "execute_result"
    },
    {
     "data": {
      "image/png": "[encoded data removed]",
      "text/plain": [
       "<matplotlib.figure.Figure at 0x7fa00541a438>"
      ]
     },
     "metadata": {},
     "output_type": "display_data"
    }
   ],
   "source": [
    "mask = df.Gender == 'Female'\n",
    "ax = df[mask].plot(kind='scatter', alpha=.5, x='square_height', y='Weight', c='red')\n",
    "df[~mask].plot(ax=ax, alpha=.1, kind='scatter', x='square_height', y='Weight', c='green')"
   ]
  },
  {
   "cell_type": "code",
   "execution_count": 33,
   "metadata": {},
   "outputs": [
    {
     "data": {
      "text/plain": [
       "<matplotlib.axes._subplots.AxesSubplot at 0x7fa00545f860>"
      ]
     },
     "execution_count": 33,
     "metadata": {},
     "output_type": "execute_result"
    },
    {
     "data": {
      "image/png": "[encoded data removed]",
      "text/plain": [
       "<matplotlib.figure.Figure at 0x7fa00543aac8>"
      ]
     },
     "metadata": {},
     "output_type": "display_data"
    }
   ],
   "source": [
    "mask = df.Gender == 'Female'\n",
    "ax = df[mask].plot(kind='scatter', alpha=.5, x='Height', y='Weight', c='red')\n",
    "df[~mask].plot(ax=ax, alpha=.1, kind='scatter', x='Height', y='Weight', c='green')"
   ]
  }
 ],
 "metadata": {
  "kernelspec": {
   "display_name": "Python 3",
   "language": "python",
   "name": "python3"
  },
  "language_info": {
   "codemirror_mode": {
    "name": "ipython",
    "version": 3
   },
   "file_extension": ".py",
   "mimetype": "text/x-python",
   "name": "python",
   "nbconvert_exporter": "python",
   "pygments_lexer": "ipython3",
   "version": "3.5.3"
  }
 },
 "nbformat": 4,
 "nbformat_minor": 2
}
