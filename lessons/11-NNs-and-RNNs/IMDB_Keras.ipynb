{
 "cells": [
  {
   "cell_type": "markdown",
   "metadata": {},
   "source": [
    "# Analyzing IMDB Data in Keras"
   ]
  },
  {
   "cell_type": "code",
   "execution_count": 2,
   "metadata": {},
   "outputs": [
    {
     "name": "stderr",
     "output_type": "stream",
     "text": [
      "Using TensorFlow backend.\n"
     ]
    }
   ],
   "source": [
    "import pandas as pd\n",
    "import numpy as np\n",
    "import keras\n",
    "from keras.datasets import imdb\n",
    "from keras.models import Sequential\n",
    "from keras.layers import Dense, Dropout, Activation\n",
    "from keras.preprocessing.text import Tokenizer\n",
    "import matplotlib.pyplot as plt\n",
    "import pandas as pd\n",
    "\n",
    "%matplotlib inline\n",
    "\n",
    "np.random.seed(42)"
   ]
  },
  {
   "cell_type": "markdown",
   "metadata": {},
   "source": [
    "## 1. Loading the data\n",
    "This dataset comes preloaded with Keras, so one simple command will get us training and testing data. There is a parameter for how many words we want to look at. We've set it at 1000, but feel free to experiment."
   ]
  },
  {
   "cell_type": "code",
   "execution_count": 28,
   "metadata": {},
   "outputs": [
    {
     "name": "stdout",
     "output_type": "stream",
     "text": [
      "(25000,) (25000,)\n",
      "(25000,) (25000,)\n"
     ]
    }
   ],
   "source": [
    "# Loading the data (it's preloaded in Keras)\n",
    "(x_train, y_train), (x_test, y_test) = imdb.load_data(num_words=3000)\n",
    "\n",
    "print(x_train.shape, x_test.shape)\n",
    "print(y_train.shape, y_test.shape)"
   ]
  },
  {
   "cell_type": "markdown",
   "metadata": {},
   "source": [
    "## 2. Examining the data\n",
    "Notice that the data has been already pre-processed, where all the words have numbers, and the reviews come in as a vector with the words that the review contains. For example, if the word 'the' is the first one in our dictionary, and a review contains the word 'the', then there is a 1 in the corresponding vector.\n",
    "\n",
    "The output comes as a vector of 1's and 0's, where 1 is a positive sentiment for the review, and 0 is negative."
   ]
  },
  {
   "cell_type": "code",
   "execution_count": 29,
   "metadata": {},
   "outputs": [
    {
     "name": "stdout",
     "output_type": "stream",
     "text": [
      "[1, 14, 22, 16, 43, 530, 973, 1622, 1385, 65, 458, 2, 66, 2, 4, 173, 36, 256, 5, 25, 100, 43, 838, 112, 50, 670, 2, 9, 35, 480, 284, 5, 150, 4, 172, 112, 167, 2, 336, 385, 39, 4, 172, 2, 1111, 17, 546, 38, 13, 447, 4, 192, 50, 16, 6, 147, 2025, 19, 14, 22, 4, 1920, 2, 469, 4, 22, 71, 87, 12, 16, 43, 530, 38, 76, 15, 13, 1247, 4, 22, 17, 515, 17, 12, 16, 626, 18, 2, 5, 62, 386, 12, 8, 316, 8, 106, 5, 4, 2223, 2, 16, 480, 66, 2, 33, 4, 130, 12, 16, 38, 619, 5, 25, 124, 51, 36, 135, 48, 25, 1415, 33, 6, 22, 12, 215, 28, 77, 52, 5, 14, 407, 16, 82, 2, 8, 4, 107, 117, 2, 15, 256, 4, 2, 7, 2, 5, 723, 36, 71, 43, 530, 476, 26, 400, 317, 46, 7, 4, 2, 1029, 13, 104, 88, 4, 381, 15, 297, 98, 32, 2071, 56, 26, 141, 6, 194, 2, 18, 4, 226, 22, 21, 134, 476, 26, 480, 5, 144, 30, 2, 18, 51, 36, 28, 224, 92, 25, 104, 4, 226, 65, 16, 38, 1334, 88, 12, 16, 283, 5, 16, 2, 113, 103, 32, 15, 16, 2, 19, 178, 32]\n"
     ]
    }
   ],
   "source": [
    "print(x_train[0])"
   ]
  },
  {
   "cell_type": "code",
   "execution_count": 30,
   "metadata": {},
   "outputs": [
    {
     "name": "stdout",
     "output_type": "stream",
     "text": [
      "1\n"
     ]
    }
   ],
   "source": [
    "print(y_train[0])"
   ]
  },
  {
   "cell_type": "markdown",
   "metadata": {},
   "source": [
    "## 3. One-hot encoding the output\n",
    "Here, we'll turn the input vectors into (0,1)-vectors. For example, if the pre-processed vector contains the number 14, then in the processed vector, the 14th entry will be 1."
   ]
  },
  {
   "cell_type": "code",
   "execution_count": 31,
   "metadata": {},
   "outputs": [],
   "source": [
    "# One-hot encoding the output into vector mode, each of length 1000\n",
    "tokenizer = Tokenizer(num_words=3000)\n",
    "x_train = tokenizer.sequences_to_matrix(x_train, mode='binary')\n",
    "x_test = tokenizer.sequences_to_matrix(x_test, mode='binary')"
   ]
  },
  {
   "cell_type": "code",
   "execution_count": 32,
   "metadata": {},
   "outputs": [
    {
     "name": "stdout",
     "output_type": "stream",
     "text": [
      "2879730.0\n"
     ]
    }
   ],
   "source": [
    "print(x_train.sum().sum())"
   ]
  },
  {
   "cell_type": "markdown",
   "metadata": {},
   "source": [
    "And we'll also one-hot encode the output."
   ]
  },
  {
   "cell_type": "code",
   "execution_count": 33,
   "metadata": {},
   "outputs": [
    {
     "name": "stdout",
     "output_type": "stream",
     "text": [
      "(25000, 2)\n",
      "(25000, 2)\n"
     ]
    }
   ],
   "source": [
    "# One-hot encoding the output\n",
    "num_classes = 2\n",
    "y_train = keras.utils.to_categorical(y_train, num_classes)\n",
    "y_test = keras.utils.to_categorical(y_test, num_classes)\n",
    "print(y_train.shape)\n",
    "print(y_train.shape)"
   ]
  },
  {
   "cell_type": "markdown",
   "metadata": {},
   "source": [
    "## 4. Building the  model architecture\n",
    "Build a model here using sequential. Feel free to experiment with different layers and sizes! Also, experiment adding dropout to reduce overfitting."
   ]
  },
  {
   "cell_type": "code",
   "execution_count": 40,
   "metadata": {},
   "outputs": [],
   "source": [
    "model = Sequential()\n",
    "model.add(Dense(50, activation='relu', input_dim=3000))\n",
    "model.add(Dropout(.5))\n",
    "model.add(Dense(5, activation='relu', input_dim=3000))\n",
    "model.add(Dropout(.5))\n",
    "model.add(Dense(2, activation='softmax'))"
   ]
  },
  {
   "cell_type": "code",
   "execution_count": 41,
   "metadata": {},
   "outputs": [],
   "source": [
    "model.compile(loss='categorical_crossentropy', optimizer='sgd', metrics=['accuracy', 'mae'])"
   ]
  },
  {
   "cell_type": "code",
   "execution_count": 44,
   "metadata": {},
   "outputs": [
    {
     "name": "stdout",
     "output_type": "stream",
     "text": [
      "Epoch 1/30\n",
      "25000/25000 [==============================] - 5s - loss: 0.3627 - acc: 0.8373 - mean_absolute_error: 0.2394     \n",
      "Epoch 2/30\n",
      "25000/25000 [==============================] - 5s - loss: 0.3495 - acc: 0.8438 - mean_absolute_error: 0.2310     \n",
      "Epoch 3/30\n",
      "25000/25000 [==============================] - 5s - loss: 0.3477 - acc: 0.8440 - mean_absolute_error: 0.2284     \n",
      "Epoch 4/30\n",
      "25000/25000 [==============================] - 6s - loss: 0.3339 - acc: 0.8517 - mean_absolute_error: 0.2206     \n",
      "Epoch 5/30\n",
      "25000/25000 [==============================] - 6s - loss: 0.3273 - acc: 0.8543 - mean_absolute_error: 0.2164     \n",
      "Epoch 6/30\n",
      "25000/25000 [==============================] - 6s - loss: 0.3207 - acc: 0.8573 - mean_absolute_error: 0.2119     \n",
      "Epoch 7/30\n",
      "25000/25000 [==============================] - 6s - loss: 0.3123 - acc: 0.8614 - mean_absolute_error: 0.2067     \n",
      "Epoch 8/30\n",
      "25000/25000 [==============================] - 6s - loss: 0.3096 - acc: 0.8637 - mean_absolute_error: 0.2048     \n",
      "Epoch 9/30\n",
      "25000/25000 [==============================] - 6s - loss: 0.3051 - acc: 0.8652 - mean_absolute_error: 0.2003     \n",
      "Epoch 10/30\n",
      "25000/25000 [==============================] - 6s - loss: 0.2969 - acc: 0.8688 - mean_absolute_error: 0.1968     \n",
      "Epoch 11/30\n",
      "25000/25000 [==============================] - 6s - loss: 0.2975 - acc: 0.8664 - mean_absolute_error: 0.1959     \n",
      "Epoch 12/30\n",
      "25000/25000 [==============================] - 6s - loss: 0.2913 - acc: 0.8732 - mean_absolute_error: 0.1911     \n",
      "Epoch 13/30\n",
      "25000/25000 [==============================] - 6s - loss: 0.2860 - acc: 0.8747 - mean_absolute_error: 0.1895     \n",
      "Epoch 14/30\n",
      "25000/25000 [==============================] - 6s - loss: 0.2780 - acc: 0.8769 - mean_absolute_error: 0.1843     \n",
      "Epoch 15/30\n",
      "25000/25000 [==============================] - 7s - loss: 0.2733 - acc: 0.8767 - mean_absolute_error: 0.1824     \n",
      "Epoch 16/30\n",
      "25000/25000 [==============================] - 7s - loss: 0.2691 - acc: 0.8793 - mean_absolute_error: 0.1790     \n",
      "Epoch 17/30\n",
      "25000/25000 [==============================] - 6s - loss: 0.2601 - acc: 0.8843 - mean_absolute_error: 0.1740     \n",
      "Epoch 18/30\n",
      "25000/25000 [==============================] - 6s - loss: 0.2603 - acc: 0.8835 - mean_absolute_error: 0.1744     \n",
      "Epoch 19/30\n",
      "25000/25000 [==============================] - 6s - loss: 0.2541 - acc: 0.8878 - mean_absolute_error: 0.1691     \n",
      "Epoch 20/30\n",
      "25000/25000 [==============================] - 6s - loss: 0.2551 - acc: 0.8829 - mean_absolute_error: 0.1701     \n",
      "Epoch 21/30\n",
      "25000/25000 [==============================] - 7s - loss: 0.2546 - acc: 0.8840 - mean_absolute_error: 0.1709     \n",
      "Epoch 22/30\n",
      "25000/25000 [==============================] - 6s - loss: 0.2493 - acc: 0.8878 - mean_absolute_error: 0.1666     \n",
      "Epoch 23/30\n",
      "25000/25000 [==============================] - 6s - loss: 0.2432 - acc: 0.8869 - mean_absolute_error: 0.1643     \n",
      "Epoch 24/30\n",
      "25000/25000 [==============================] - 6s - loss: 0.2390 - acc: 0.8946 - mean_absolute_error: 0.1598     \n",
      "Epoch 25/30\n",
      "25000/25000 [==============================] - 6s - loss: 0.2317 - acc: 0.8932 - mean_absolute_error: 0.1566     \n",
      "Epoch 26/30\n",
      "25000/25000 [==============================] - 6s - loss: 0.2299 - acc: 0.8956 - mean_absolute_error: 0.1562     \n",
      "Epoch 27/30\n",
      "25000/25000 [==============================] - 6s - loss: 0.2274 - acc: 0.8961 - mean_absolute_error: 0.1542     \n",
      "Epoch 28/30\n",
      "25000/25000 [==============================] - 6s - loss: 0.2293 - acc: 0.8960 - mean_absolute_error: 0.1540     \n",
      "Epoch 29/30\n",
      "25000/25000 [==============================] - 6s - loss: 0.2240 - acc: 0.8988 - mean_absolute_error: 0.1500     \n",
      "Epoch 30/30\n",
      "25000/25000 [==============================] - 7s - loss: 0.2246 - acc: 0.8975 - mean_absolute_error: 0.1510     \n"
     ]
    },
    {
     "data": {
      "text/plain": [
       "<keras.callbacks.History at 0x7f619727c6a0>"
      ]
     },
     "execution_count": 44,
     "metadata": {},
     "output_type": "execute_result"
    }
   ],
   "source": [
    "model.fit(x_train, y_train, epochs=30)"
   ]
  },
  {
   "cell_type": "code",
   "execution_count": 48,
   "metadata": {},
   "outputs": [
    {
     "name": "stdout",
     "output_type": "stream",
     "text": [
      "24864/25000 [============================>.] - ETA: 0s"
     ]
    },
    {
     "data": {
      "text/plain": [
       "[0.3590325292301178, 0.87404000000000004, 0.14836097201824189]"
      ]
     },
     "execution_count": 48,
     "metadata": {},
     "output_type": "execute_result"
    }
   ],
   "source": [
    "model.evaluate(x_test, y_test)\n",
    "\n"
   ]
  },
  {
   "cell_type": "code",
   "execution_count": 49,
   "metadata": {},
   "outputs": [
    {
     "name": "stdout",
     "output_type": "stream",
     "text": [
      "_________________________________________________________________\n",
      "Layer (type)                 Output Shape              Param #   \n",
      "=================================================================\n",
      "dense_10 (Dense)             (None, 50)                150050    \n",
      "_________________________________________________________________\n",
      "dropout_6 (Dropout)          (None, 50)                0         \n",
      "_________________________________________________________________\n",
      "dense_11 (Dense)             (None, 5)                 255       \n",
      "_________________________________________________________________\n",
      "dropout_7 (Dropout)          (None, 5)                 0         \n",
      "_________________________________________________________________\n",
      "dense_12 (Dense)             (None, 2)                 12        \n",
      "=================================================================\n",
      "Total params: 150,317\n",
      "Trainable params: 150,317\n",
      "Non-trainable params: 0\n",
      "_________________________________________________________________\n"
     ]
    }
   ],
   "source": [
    "model.summary()"
   ]
  },
  {
   "cell_type": "markdown",
   "metadata": {},
   "source": [
    "## 5. Training the model\n",
    "Run the model here. Experiment with different batch_size, and number of epochs!"
   ]
  },
  {
   "cell_type": "code",
   "execution_count": null,
   "metadata": {},
   "outputs": [],
   "source": [
    "# TODO: Run the model. Feel free to experiment with different batch sizes and number of epochs."
   ]
  },
  {
   "cell_type": "markdown",
   "metadata": {},
   "source": [
    "## 6. Evaluating the model\n",
    "This will give you the accuracy of the model, as evaluated on the testing set. Can you get something over 85%?"
   ]
  },
  {
   "cell_type": "code",
   "execution_count": null,
   "metadata": {},
   "outputs": [],
   "source": [
    "score = model.evaluate(x_test, y_test, verbose=0)\n",
    "print(\"Accuracy: \", score[1])"
   ]
  }
 ],
 "metadata": {
  "kernelspec": {
   "display_name": "Python 3",
   "language": "python",
   "name": "python3"
  },
  "language_info": {
   "codemirror_mode": {
    "name": "ipython",
    "version": 3
   },
   "file_extension": ".py",
   "mimetype": "text/x-python",
   "name": "python",
   "nbconvert_exporter": "python",
   "pygments_lexer": "ipython3",
   "version": "3.6.3"
  }
 },
 "nbformat": 4,
 "nbformat_minor": 2
}
